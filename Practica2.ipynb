{
 "cells": [
  {
   "cell_type": "markdown",
   "metadata": {},
   "source": [
    "# Introducción\n",
    "\n",
    "En esta práctica vamos a repasar diferentes tests estadísticos. Para ello nos ayudamos de los datos publicados por BCSC:\n",
    "*NCI-funded Breast Cancer Surveillance Consortium (P01 CA154292 and HHSN261201100031C). Downloaded mm/dd/yyyy from the Breast Cancer Surveillance Consortium Web site - http://www.bcsc-research.org/data/index.html.*\n",
    "\n",
    "Concretamente a través de este enlace:\n",
    "http://www.bcsc-research.org/data/rf/app2/DownloadRequest.aspx\n",
    "\n",
    "\n",
    "El fichero *BCSC_risk_factors_summarized.csv* descargado lo teneis en la carpeta *data*.\n",
    "\n",
    "Ese fichero es un CSV, la descripción de cada columna se puede ver en la siguiente tabla:"
   ]
  },
  {
   "cell_type": "markdown",
   "metadata": {},
   "source": [
    "\n",
    "| Nombre de variable | Descripción | Código | \n",
    "|-|-|-|\n",
    "| year | Año de la observación | Numérico, 2000-2009 |\n",
    "| year_group_5_years| Edad (años) en grupos de 5 años |  1 = Edad 18-29;  2 = Edad 30-34; 3 = Edad 35-39; 4 = Edad 40-44; 5 = Edad 45-49; 6 = Edad 50-54; 7 = Edad 55-59; 8 = Edad 60-64; 9 = Edad 65-69; 10 = Edad 70-74; 11 = Edad 75-79; 12 = Edad 80-84; 13 = Edad ≥85 |\n",
    "| race_eth | Grupo étnico | 1 = Non-Hispanic white; 2 = Non-Hispanic black; 3 = Asian/Pacific Islander; 4 = Native American; 5 = Hispanic; 6 = Other/mixed; 9 = Desconocido |\n",
    "| first_degree_hx | Historial de cancer de un familiar de primer grado | 0 = No; 1 = Sí; 9 = Desconocido |\n",
    "| Edad_menarche | Edad (años) at menarche |0 = Edad ≥14; 1 = Edad 12-13; 2 = Edad <12; 9 = Desconocido\n",
    "| Edad_first_birth | Edad (años) at first birth | 0 = Edad < 20; 1 = Edad 20-24; 2 = Edad 25-29; 3 = Edad ≥30; 4 = Nulliparous; 9 = Desconocido |\n",
    "| BIRADS_breast_density | BI-RADS densidad del cancer de pecho| 1 = Almost entirely fat; 2 =Scattered fibroglandular densities; 3 = Heterogeneously dense; 4 = Extremely dense; 9 = Desconocido |\n",
    "| current_hrt | Uso de terapia de hormonas de reemplazo | 0 = No; 1 = Sí; 9 = Desconocido |\n",
    "| menopaus | Menopausal status | 1 = Pre- or peri-menopausal; 2 = Post-menopausal; 3 = Surgical menopause; 9 = Desconocido |\n",
    "| bmi_group |  Body mass index | 1 = 10-24.99; 2 = 25-29.99; 3 = 30-34.99; 4 = 35 or more; 9 = Desconocido |\n",
    "| biophx | Biopsia previa o aspiración | 0 = No; 1 = Sí; 9 = Desconocido |\n",
    "| breast_cancer_history | Cancer diagnosticado con anterioridad | 0 = No; 1 = Sí; 9 = Desconocido |\n",
    "| count | Número de ocurrencias de estas covariables | Numérico|\n",
    "\n",
    "\n"
   ]
  },
  {
   "cell_type": "markdown",
   "metadata": {},
   "source": [
    "Leemos los datos del csv y los adaptamos. Pasos a seguir:\n",
    "1. Replicamos las filas indicadas por la columna *count*\n",
    "2. Los datos son muy grandes, para agilizar la práctica nos quedamos con 5000 muestras elegidas con muestreo aleatorio simple. El resto se puede descartar.\n",
    "3. Se adapta el resto"
   ]
  },
  {
   "cell_type": "code",
   "execution_count": 30,
   "metadata": {},
   "outputs": [
    {
     "data": {
      "text/html": [
       "<table>\n",
       "<thead><tr><th scope=col>year</th><th scope=col>age_group_5_years</th><th scope=col>race_eth</th><th scope=col>first_degree_hx</th><th scope=col>age_menarche</th><th scope=col>age_first_birth</th><th scope=col>BIRADS_breast_density</th><th scope=col>current_hrt</th><th scope=col>menopaus</th><th scope=col>bmi_group</th><th scope=col>biophx</th><th scope=col>breast_cancer_history</th><th scope=col>count</th></tr></thead>\n",
       "<tbody>\n",
       "\t<tr><td>2000</td><td>1   </td><td>1   </td><td>0   </td><td>0   </td><td>0   </td><td>1   </td><td>0   </td><td>1   </td><td>3   </td><td>0   </td><td>0   </td><td>1   </td></tr>\n",
       "\t<tr><td>2000</td><td>1   </td><td>1   </td><td>0   </td><td>0   </td><td>1   </td><td>3   </td><td>0   </td><td>1   </td><td>2   </td><td>0   </td><td>0   </td><td>1   </td></tr>\n",
       "\t<tr><td>2000</td><td>1   </td><td>1   </td><td>0   </td><td>0   </td><td>1   </td><td>4   </td><td>0   </td><td>1   </td><td>1   </td><td>0   </td><td>0   </td><td>2   </td></tr>\n",
       "\t<tr><td>2000</td><td>1   </td><td>1   </td><td>0   </td><td>0   </td><td>2   </td><td>3   </td><td>0   </td><td>1   </td><td>1   </td><td>0   </td><td>0   </td><td>1   </td></tr>\n",
       "\t<tr><td>2000</td><td>1   </td><td>1   </td><td>0   </td><td>0   </td><td>2   </td><td>3   </td><td>0   </td><td>1   </td><td>1   </td><td>1   </td><td>9   </td><td>1   </td></tr>\n",
       "\t<tr><td>2000</td><td>1   </td><td>1   </td><td>0   </td><td>0   </td><td>4   </td><td>9   </td><td>0   </td><td>1   </td><td>1   </td><td>0   </td><td>0   </td><td>1   </td></tr>\n",
       "</tbody>\n",
       "</table>\n"
      ],
      "text/latex": [
       "\\begin{tabular}{r|lllllllllllll}\n",
       " year & age\\_group\\_5\\_years & race\\_eth & first\\_degree\\_hx & age\\_menarche & age\\_first\\_birth & BIRADS\\_breast\\_density & current\\_hrt & menopaus & bmi\\_group & biophx & breast\\_cancer\\_history & count\\\\\n",
       "\\hline\n",
       "\t 2000 & 1    & 1    & 0    & 0    & 0    & 1    & 0    & 1    & 3    & 0    & 0    & 1   \\\\\n",
       "\t 2000 & 1    & 1    & 0    & 0    & 1    & 3    & 0    & 1    & 2    & 0    & 0    & 1   \\\\\n",
       "\t 2000 & 1    & 1    & 0    & 0    & 1    & 4    & 0    & 1    & 1    & 0    & 0    & 2   \\\\\n",
       "\t 2000 & 1    & 1    & 0    & 0    & 2    & 3    & 0    & 1    & 1    & 0    & 0    & 1   \\\\\n",
       "\t 2000 & 1    & 1    & 0    & 0    & 2    & 3    & 0    & 1    & 1    & 1    & 9    & 1   \\\\\n",
       "\t 2000 & 1    & 1    & 0    & 0    & 4    & 9    & 0    & 1    & 1    & 0    & 0    & 1   \\\\\n",
       "\\end{tabular}\n"
      ],
      "text/markdown": [
       "\n",
       "| year | age_group_5_years | race_eth | first_degree_hx | age_menarche | age_first_birth | BIRADS_breast_density | current_hrt | menopaus | bmi_group | biophx | breast_cancer_history | count |\n",
       "|---|---|---|---|---|---|---|---|---|---|---|---|---|\n",
       "| 2000 | 1    | 1    | 0    | 0    | 0    | 1    | 0    | 1    | 3    | 0    | 0    | 1    |\n",
       "| 2000 | 1    | 1    | 0    | 0    | 1    | 3    | 0    | 1    | 2    | 0    | 0    | 1    |\n",
       "| 2000 | 1    | 1    | 0    | 0    | 1    | 4    | 0    | 1    | 1    | 0    | 0    | 2    |\n",
       "| 2000 | 1    | 1    | 0    | 0    | 2    | 3    | 0    | 1    | 1    | 0    | 0    | 1    |\n",
       "| 2000 | 1    | 1    | 0    | 0    | 2    | 3    | 0    | 1    | 1    | 1    | 9    | 1    |\n",
       "| 2000 | 1    | 1    | 0    | 0    | 4    | 9    | 0    | 1    | 1    | 0    | 0    | 1    |\n",
       "\n"
      ],
      "text/plain": [
       "  year age_group_5_years race_eth first_degree_hx age_menarche age_first_birth\n",
       "1 2000 1                 1        0               0            0              \n",
       "2 2000 1                 1        0               0            1              \n",
       "3 2000 1                 1        0               0            1              \n",
       "4 2000 1                 1        0               0            2              \n",
       "5 2000 1                 1        0               0            2              \n",
       "6 2000 1                 1        0               0            4              \n",
       "  BIRADS_breast_density current_hrt menopaus bmi_group biophx\n",
       "1 1                     0           1        3         0     \n",
       "2 3                     0           1        2         0     \n",
       "3 4                     0           1        1         0     \n",
       "4 3                     0           1        1         0     \n",
       "5 3                     0           1        1         1     \n",
       "6 9                     0           1        1         0     \n",
       "  breast_cancer_history count\n",
       "1 0                     1    \n",
       "2 0                     1    \n",
       "3 0                     2    \n",
       "4 0                     1    \n",
       "5 9                     1    \n",
       "6 0                     1    "
      ]
     },
     "metadata": {},
     "output_type": "display_data"
    }
   ],
   "source": [
    "# leemos el fichero csv\n",
    "df_datos <- read.csv(\"datos/BCSC_risk_factors_summarized.csv\", sep = \",\", header = T)\n",
    "head(df_datos)\n",
    "\n",
    "# replicamos las filas según el campo count indique\n",
    "df_datos_rep <- df_datos[rep(row.names(df_datos), df_datos$count),]"
   ]
  },
  {
   "cell_type": "markdown",
   "metadata": {},
   "source": [
    "El número de filas tras replicar las filas indicadas por la columna *count* es de 6318638. Como este número es muy alto para la máquina virtual que tenemos vamos a realizar una muestreo aleatorio simple y nos quedaremos con 5000 filas. El resto se descartan.\n",
    "\n",
    "*Nota:*Para el muestreo usad la semilla 12345, de esta forma todos tendresmos exactamente los mismos resultados."
   ]
  },
  {
   "cell_type": "code",
   "execution_count": 31,
   "metadata": {},
   "outputs": [
    {
     "data": {
      "text/html": [
       "5000"
      ],
      "text/latex": [
       "5000"
      ],
      "text/markdown": [
       "5000"
      ],
      "text/plain": [
       "[1] 5000"
      ]
     },
     "metadata": {},
     "output_type": "display_data"
    },
    {
     "data": {
      "text/html": [
       "<table>\n",
       "<thead><tr><th></th><th scope=col>year</th><th scope=col>age_group_5_years</th><th scope=col>race_eth</th><th scope=col>first_degree_hx</th><th scope=col>age_menarche</th><th scope=col>age_first_birth</th><th scope=col>BIRADS_breast_density</th><th scope=col>current_hrt</th><th scope=col>menopaus</th><th scope=col>bmi_group</th><th scope=col>biophx</th><th scope=col>breast_cancer_history</th><th scope=col>count</th></tr></thead>\n",
       "<tbody>\n",
       "\t<tr><th scope=row>792997.89</th><td>2006</td><td>8   </td><td>9   </td><td>9   </td><td>9   </td><td>9   </td><td>2   </td><td>9   </td><td>2   </td><td>9   </td><td>0   </td><td>0   </td><td>218 </td></tr>\n",
       "\t<tr><th scope=row>986739.194</th><td>2008</td><td>7   </td><td>2   </td><td>0   </td><td>9   </td><td>9   </td><td>2   </td><td>0   </td><td>2   </td><td>9   </td><td>0   </td><td>0   </td><td>771 </td></tr>\n",
       "\t<tr><th scope=row>845393.799</th><td>2007</td><td>5   </td><td>1   </td><td>0   </td><td>9   </td><td>9   </td><td>2   </td><td>0   </td><td>1   </td><td>9   </td><td>0   </td><td>0   </td><td>877 </td></tr>\n",
       "\t<tr><th scope=row>996805.11</th><td>2008</td><td>8   </td><td>1   </td><td>1   </td><td>1   </td><td>1   </td><td>2   </td><td>0   </td><td>2   </td><td>2   </td><td>0   </td><td>0   </td><td> 32 </td></tr>\n",
       "\t<tr><th scope=row>481428.71</th><td>2004</td><td>3   </td><td>1   </td><td>0   </td><td>9   </td><td>9   </td><td>3   </td><td>0   </td><td>1   </td><td>2   </td><td>0   </td><td>0   </td><td> 97 </td></tr>\n",
       "\t<tr><th scope=row>169906.1</th><td>2001</td><td>6   </td><td>5   </td><td>0   </td><td>9   </td><td>9   </td><td>1   </td><td>1   </td><td>2   </td><td>3   </td><td>0   </td><td>0   </td><td> 11 </td></tr>\n",
       "</tbody>\n",
       "</table>\n"
      ],
      "text/latex": [
       "\\begin{tabular}{r|lllllllllllll}\n",
       "  & year & age\\_group\\_5\\_years & race\\_eth & first\\_degree\\_hx & age\\_menarche & age\\_first\\_birth & BIRADS\\_breast\\_density & current\\_hrt & menopaus & bmi\\_group & biophx & breast\\_cancer\\_history & count\\\\\n",
       "\\hline\n",
       "\t792997.89 & 2006 & 8    & 9    & 9    & 9    & 9    & 2    & 9    & 2    & 9    & 0    & 0    & 218 \\\\\n",
       "\t986739.194 & 2008 & 7    & 2    & 0    & 9    & 9    & 2    & 0    & 2    & 9    & 0    & 0    & 771 \\\\\n",
       "\t845393.799 & 2007 & 5    & 1    & 0    & 9    & 9    & 2    & 0    & 1    & 9    & 0    & 0    & 877 \\\\\n",
       "\t996805.11 & 2008 & 8    & 1    & 1    & 1    & 1    & 2    & 0    & 2    & 2    & 0    & 0    &  32 \\\\\n",
       "\t481428.71 & 2004 & 3    & 1    & 0    & 9    & 9    & 3    & 0    & 1    & 2    & 0    & 0    &  97 \\\\\n",
       "\t169906.1 & 2001 & 6    & 5    & 0    & 9    & 9    & 1    & 1    & 2    & 3    & 0    & 0    &  11 \\\\\n",
       "\\end{tabular}\n"
      ],
      "text/markdown": [
       "\n",
       "| <!--/--> | year | age_group_5_years | race_eth | first_degree_hx | age_menarche | age_first_birth | BIRADS_breast_density | current_hrt | menopaus | bmi_group | biophx | breast_cancer_history | count |\n",
       "|---|---|---|---|---|---|---|---|---|---|---|---|---|---|\n",
       "| 792997.89 | 2006 | 8    | 9    | 9    | 9    | 9    | 2    | 9    | 2    | 9    | 0    | 0    | 218  |\n",
       "| 986739.194 | 2008 | 7    | 2    | 0    | 9    | 9    | 2    | 0    | 2    | 9    | 0    | 0    | 771  |\n",
       "| 845393.799 | 2007 | 5    | 1    | 0    | 9    | 9    | 2    | 0    | 1    | 9    | 0    | 0    | 877  |\n",
       "| 996805.11 | 2008 | 8    | 1    | 1    | 1    | 1    | 2    | 0    | 2    | 2    | 0    | 0    |  32  |\n",
       "| 481428.71 | 2004 | 3    | 1    | 0    | 9    | 9    | 3    | 0    | 1    | 2    | 0    | 0    |  97  |\n",
       "| 169906.1 | 2001 | 6    | 5    | 0    | 9    | 9    | 1    | 1    | 2    | 3    | 0    | 0    |  11  |\n",
       "\n"
      ],
      "text/plain": [
       "           year age_group_5_years race_eth first_degree_hx age_menarche\n",
       "792997.89  2006 8                 9        9               9           \n",
       "986739.194 2008 7                 2        0               9           \n",
       "845393.799 2007 5                 1        0               9           \n",
       "996805.11  2008 8                 1        1               1           \n",
       "481428.71  2004 3                 1        0               9           \n",
       "169906.1   2001 6                 5        0               9           \n",
       "           age_first_birth BIRADS_breast_density current_hrt menopaus bmi_group\n",
       "792997.89  9               2                     9           2        9        \n",
       "986739.194 9               2                     0           2        9        \n",
       "845393.799 9               2                     0           1        9        \n",
       "996805.11  1               2                     0           2        2        \n",
       "481428.71  9               3                     0           1        2        \n",
       "169906.1   9               1                     1           2        3        \n",
       "           biophx breast_cancer_history count\n",
       "792997.89  0      0                     218  \n",
       "986739.194 0      0                     771  \n",
       "845393.799 0      0                     877  \n",
       "996805.11  0      0                      32  \n",
       "481428.71  0      0                      97  \n",
       "169906.1   0      0                      11  "
      ]
     },
     "metadata": {},
     "output_type": "display_data"
    }
   ],
   "source": [
    "#Definimos una semilla común para todos:\n",
    "set.seed(12345)\n",
    "#Utiliza muestreo aleatorio simple para quedarnos con 5000 muestras:\n",
    "df_muestra <- df_datos_rep[sample(nrow(df_datos_rep), 5000), ]\n",
    "nrow(df_muestra)\n",
    "head(df_muestra)"
   ]
  },
  {
   "cell_type": "markdown",
   "metadata": {},
   "source": [
    "Formatear el dataframe:\n",
    "* Cambiamos los *Desconocido* por NA en las columnas \"race_eth\", \"first_degree_hx\", \"age_menarche\", \"age_first_birth\", \"BIRADS_breast_density\", \"current_hrt\", \"menopaus\", \"bmi_group\", \"biophx\", \"breast_cancer_history\"\n",
    "* Convertimos a factores las columnas que vamos a necesitar"
   ]
  },
  {
   "cell_type": "code",
   "execution_count": 32,
   "metadata": {},
   "outputs": [
    {
     "name": "stdout",
     "output_type": "stream",
     "text": [
      "'data.frame':\t5000 obs. of  13 variables:\n",
      " $ year                 : int  2006 2008 2007 2008 2004 2001 2002 2004 2006 2009 ...\n",
      " $ age_group_5_years    : int  8 7 5 8 3 6 10 6 9 10 ...\n",
      " $ race_eth             : Factor w/ 6 levels \"Non-Hispanic white\",..: NA 2 1 1 1 5 1 NA NA 1 ...\n",
      " $ first_degree_hx      : Factor w/ 2 levels \"NO\",\"SI\": NA 1 1 2 1 1 1 NA 1 NA ...\n",
      " $ age_menarche         : Factor w/ 3 levels \"Edad ≥14\",\"Edad 12-13\",..: NA NA NA 2 NA NA NA NA NA 3 ...\n",
      " $ age_first_birth      : Factor w/ 5 levels \"Edad < 20\",\"Edad 20-24\",..: NA NA NA 2 NA NA NA NA 2 NA ...\n",
      " $ BIRADS_breast_density: Factor w/ 4 levels \"Almost entirely fat\",..: 2 2 2 2 3 1 NA NA 1 2 ...\n",
      " $ current_hrt          : Factor w/ 2 levels \"NO\",\"SI\": NA 1 1 1 1 2 1 NA 1 1 ...\n",
      " $ menopaus             : Factor w/ 3 levels \"Pre- or peri-menopausal\",..: 2 2 1 2 1 2 2 NA 2 2 ...\n",
      " $ bmi_group            : Factor w/ 4 levels \"10-24.99\",\"25-29.99\",..: NA NA NA 2 2 3 2 NA NA 2 ...\n",
      " $ biophx               : Factor w/ 2 levels \"NO\",\"SI\": 1 1 1 1 1 1 1 NA 1 1 ...\n",
      " $ breast_cancer_history: Factor w/ 2 levels \"NO\",\"SI\": 1 1 1 1 1 1 1 NA 1 1 ...\n",
      " $ count                : int  218 771 877 32 97 11 148 5518 24 1 ...\n"
     ]
    }
   ],
   "source": [
    "# Definimos las columnas que nos interesan\n",
    "cols <- c(\n",
    "    \"race_eth\", \n",
    "    \"first_degree_hx\", \n",
    "    \"age_menarche\", \n",
    "    \"age_first_birth\", \n",
    "    \"BIRADS_breast_density\", \n",
    "    \"current_hrt\", \n",
    "    \"menopaus\", \n",
    "    \"bmi_group\", \n",
    "    \"biophx\", \n",
    "    \"breast_cancer_history\")\n",
    "\n",
    "for (col in cols) {\n",
    "    # cambiamos los 9 por NA\n",
    "    df_muestra[df_muestra[col] == 9, col] <- NA\n",
    "}\n",
    "\n",
    "# Etiquetamos todas las columnas que solo tengan estos 3 valores: 0 = No; 1 = Sí; 9 = Desconocido\n",
    "df_muestra[, \"first_degree_hx\"] <- factor(df_muestra[, \"first_degree_hx\"], labels=c(\"NO\", \"SI\"))\n",
    "df_muestra[, \"current_hrt\"] <- factor(df_muestra[, \"current_hrt\"], labels=c(\"NO\", \"SI\"))\n",
    "df_muestra[, \"biophx\"] <- factor(df_muestra[, \"biophx\"], labels=c(\"NO\", \"SI\"))\n",
    "df_muestra[, \"breast_cancer_history\"] <- factor(df_muestra[, \"breast_cancer_history\"], labels=c(\"NO\", \"SI\"))\n",
    "\n",
    "df_muestra[, \"BIRADS_breast_density\"] <- factor(df_muestra[, \"BIRADS_breast_density\"], labels=c(\"Almost entirely fat\", \"Scattered fibroglandular densities\", \"Heterogeneously dense\", \"Extremely dense\"))\n",
    "df_muestra[, \"race_eth\"] <- factor(df_muestra[, \"race_eth\"], labels = c(\"Non-Hispanic white\", \"Non-Hispanic black\", \"Asian/Pacific Islander\", \"Native American\", \"Hispanic\", \"Other/mixed\"))\n",
    "df_muestra[, \"menopaus\"] <- factor(df_muestra[, \"menopaus\"], labels = c(\"Pre- or peri-menopausal\", \"Post-menopausal\", \"Surgical menopause\"))\n",
    "df_muestra[, \"age_menarche\"] <- factor(df_muestra[, \"age_menarche\"], labels = c(\"Edad ≥14\", \"Edad 12-13\", \"Edad <12\"))\n",
    "df_muestra[, \"age_first_birth\"] <- factor(df_muestra[, \"age_first_birth\"], labels = c(\"Edad < 20\", \"Edad 20-24\", \"Edad 25-29\", \"Edad ≥30\", \"Nulliparous\"))\n",
    "df_muestra[, \"bmi_group\"] <- factor(df_muestra[, \"bmi_group\"], labels = c(\"10-24.99\", \"25-29.99\", \"30-34.99\", \"35 or more\"))\n",
    "\n",
    "#head(df_muestra)\n",
    "str(df_muestra)"
   ]
  },
  {
   "cell_type": "markdown",
   "metadata": {},
   "source": [
    "#### Edad y Antecedentes familiares"
   ]
  },
  {
   "cell_type": "markdown",
   "metadata": {},
   "source": [
    "Creamos una nueva columna con la edad estimada para un posterior análisis"
   ]
  },
  {
   "cell_type": "markdown",
   "metadata": {},
   "source": [
    "Representa en un diagrama de cajas cómo varía la **edad de aparición del cancer** en función de si ha habido **antecedentes familiares** o no.\n",
    "Ayuda:\n",
    "- Hay que crear una nueva columna con la edad estimada de cada rango."
   ]
  },
  {
   "cell_type": "code",
   "execution_count": 33,
   "metadata": {},
   "outputs": [
    {
     "data": {
      "text/html": [
       "<table>\n",
       "<thead><tr><th></th><th scope=col>year</th><th scope=col>age_group_5_years</th><th scope=col>race_eth</th><th scope=col>first_degree_hx</th><th scope=col>age_menarche</th><th scope=col>age_first_birth</th><th scope=col>BIRADS_breast_density</th><th scope=col>current_hrt</th><th scope=col>menopaus</th><th scope=col>bmi_group</th><th scope=col>biophx</th><th scope=col>breast_cancer_history</th><th scope=col>count</th><th scope=col>mean_age</th></tr></thead>\n",
       "<tbody>\n",
       "\t<tr><th scope=row>792997.89</th><td>2006                              </td><td>8                                 </td><td>NA                                </td><td>NA                                </td><td>NA                                </td><td>NA                                </td><td>Scattered fibroglandular densities</td><td>NA                                </td><td>Post-menopausal                   </td><td>NA                                </td><td>NO                                </td><td>NO                                </td><td>218                               </td><td>62                                </td></tr>\n",
       "\t<tr><th scope=row>986739.194</th><td>2008                              </td><td>7                                 </td><td>Non-Hispanic black                </td><td>NO                                </td><td>NA                                </td><td>NA                                </td><td>Scattered fibroglandular densities</td><td>NO                                </td><td>Post-menopausal                   </td><td>NA                                </td><td>NO                                </td><td>NO                                </td><td>771                               </td><td>57                                </td></tr>\n",
       "\t<tr><th scope=row>845393.799</th><td>2007                              </td><td>5                                 </td><td>Non-Hispanic white                </td><td>NO                                </td><td>NA                                </td><td>NA                                </td><td>Scattered fibroglandular densities</td><td>NO                                </td><td>Pre- or peri-menopausal           </td><td>NA                                </td><td>NO                                </td><td>NO                                </td><td>877                               </td><td>47                                </td></tr>\n",
       "\t<tr><th scope=row>996805.11</th><td>2008                              </td><td>8                                 </td><td>Non-Hispanic white                </td><td>SI                                </td><td>Edad 12-13                        </td><td>Edad 20-24                        </td><td>Scattered fibroglandular densities</td><td>NO                                </td><td>Post-menopausal                   </td><td>25-29.99                          </td><td>NO                                </td><td>NO                                </td><td> 32                               </td><td>62                                </td></tr>\n",
       "\t<tr><th scope=row>481428.71</th><td>2004                              </td><td>3                                 </td><td>Non-Hispanic white                </td><td>NO                                </td><td>NA                                </td><td>NA                                </td><td>Heterogeneously dense             </td><td>NO                                </td><td>Pre- or peri-menopausal           </td><td>25-29.99                          </td><td>NO                                </td><td>NO                                </td><td> 97                               </td><td>37                                </td></tr>\n",
       "\t<tr><th scope=row>169906.1</th><td>2001                              </td><td>6                                 </td><td>Hispanic                          </td><td>NO                                </td><td>NA                                </td><td>NA                                </td><td>Almost entirely fat               </td><td>SI                                </td><td>Post-menopausal                   </td><td>30-34.99                          </td><td>NO                                </td><td>NO                                </td><td> 11                               </td><td>52                                </td></tr>\n",
       "</tbody>\n",
       "</table>\n"
      ],
      "text/latex": [
       "\\begin{tabular}{r|llllllllllllll}\n",
       "  & year & age\\_group\\_5\\_years & race\\_eth & first\\_degree\\_hx & age\\_menarche & age\\_first\\_birth & BIRADS\\_breast\\_density & current\\_hrt & menopaus & bmi\\_group & biophx & breast\\_cancer\\_history & count & mean\\_age\\\\\n",
       "\\hline\n",
       "\t792997.89 & 2006                               & 8                                  & NA                                 & NA                                 & NA                                 & NA                                 & Scattered fibroglandular densities & NA                                 & Post-menopausal                    & NA                                 & NO                                 & NO                                 & 218                                & 62                                \\\\\n",
       "\t986739.194 & 2008                               & 7                                  & Non-Hispanic black                 & NO                                 & NA                                 & NA                                 & Scattered fibroglandular densities & NO                                 & Post-menopausal                    & NA                                 & NO                                 & NO                                 & 771                                & 57                                \\\\\n",
       "\t845393.799 & 2007                               & 5                                  & Non-Hispanic white                 & NO                                 & NA                                 & NA                                 & Scattered fibroglandular densities & NO                                 & Pre- or peri-menopausal            & NA                                 & NO                                 & NO                                 & 877                                & 47                                \\\\\n",
       "\t996805.11 & 2008                               & 8                                  & Non-Hispanic white                 & SI                                 & Edad 12-13                         & Edad 20-24                         & Scattered fibroglandular densities & NO                                 & Post-menopausal                    & 25-29.99                           & NO                                 & NO                                 &  32                                & 62                                \\\\\n",
       "\t481428.71 & 2004                               & 3                                  & Non-Hispanic white                 & NO                                 & NA                                 & NA                                 & Heterogeneously dense              & NO                                 & Pre- or peri-menopausal            & 25-29.99                           & NO                                 & NO                                 &  97                                & 37                                \\\\\n",
       "\t169906.1 & 2001                               & 6                                  & Hispanic                           & NO                                 & NA                                 & NA                                 & Almost entirely fat                & SI                                 & Post-menopausal                    & 30-34.99                           & NO                                 & NO                                 &  11                                & 52                                \\\\\n",
       "\\end{tabular}\n"
      ],
      "text/markdown": [
       "\n",
       "| <!--/--> | year | age_group_5_years | race_eth | first_degree_hx | age_menarche | age_first_birth | BIRADS_breast_density | current_hrt | menopaus | bmi_group | biophx | breast_cancer_history | count | mean_age |\n",
       "|---|---|---|---|---|---|---|---|---|---|---|---|---|---|---|\n",
       "| 792997.89 | 2006                               | 8                                  | NA                                 | NA                                 | NA                                 | NA                                 | Scattered fibroglandular densities | NA                                 | Post-menopausal                    | NA                                 | NO                                 | NO                                 | 218                                | 62                                 |\n",
       "| 986739.194 | 2008                               | 7                                  | Non-Hispanic black                 | NO                                 | NA                                 | NA                                 | Scattered fibroglandular densities | NO                                 | Post-menopausal                    | NA                                 | NO                                 | NO                                 | 771                                | 57                                 |\n",
       "| 845393.799 | 2007                               | 5                                  | Non-Hispanic white                 | NO                                 | NA                                 | NA                                 | Scattered fibroglandular densities | NO                                 | Pre- or peri-menopausal            | NA                                 | NO                                 | NO                                 | 877                                | 47                                 |\n",
       "| 996805.11 | 2008                               | 8                                  | Non-Hispanic white                 | SI                                 | Edad 12-13                         | Edad 20-24                         | Scattered fibroglandular densities | NO                                 | Post-menopausal                    | 25-29.99                           | NO                                 | NO                                 |  32                                | 62                                 |\n",
       "| 481428.71 | 2004                               | 3                                  | Non-Hispanic white                 | NO                                 | NA                                 | NA                                 | Heterogeneously dense              | NO                                 | Pre- or peri-menopausal            | 25-29.99                           | NO                                 | NO                                 |  97                                | 37                                 |\n",
       "| 169906.1 | 2001                               | 6                                  | Hispanic                           | NO                                 | NA                                 | NA                                 | Almost entirely fat                | SI                                 | Post-menopausal                    | 30-34.99                           | NO                                 | NO                                 |  11                                | 52                                 |\n",
       "\n"
      ],
      "text/plain": [
       "           year age_group_5_years race_eth           first_degree_hx\n",
       "792997.89  2006 8                 NA                 NA             \n",
       "986739.194 2008 7                 Non-Hispanic black NO             \n",
       "845393.799 2007 5                 Non-Hispanic white NO             \n",
       "996805.11  2008 8                 Non-Hispanic white SI             \n",
       "481428.71  2004 3                 Non-Hispanic white NO             \n",
       "169906.1   2001 6                 Hispanic           NO             \n",
       "           age_menarche age_first_birth BIRADS_breast_density             \n",
       "792997.89  NA           NA              Scattered fibroglandular densities\n",
       "986739.194 NA           NA              Scattered fibroglandular densities\n",
       "845393.799 NA           NA              Scattered fibroglandular densities\n",
       "996805.11  Edad 12-13   Edad 20-24      Scattered fibroglandular densities\n",
       "481428.71  NA           NA              Heterogeneously dense             \n",
       "169906.1   NA           NA              Almost entirely fat               \n",
       "           current_hrt menopaus                bmi_group biophx\n",
       "792997.89  NA          Post-menopausal         NA        NO    \n",
       "986739.194 NO          Post-menopausal         NA        NO    \n",
       "845393.799 NO          Pre- or peri-menopausal NA        NO    \n",
       "996805.11  NO          Post-menopausal         25-29.99  NO    \n",
       "481428.71  NO          Pre- or peri-menopausal 25-29.99  NO    \n",
       "169906.1   SI          Post-menopausal         30-34.99  NO    \n",
       "           breast_cancer_history count mean_age\n",
       "792997.89  NO                    218   62      \n",
       "986739.194 NO                    771   57      \n",
       "845393.799 NO                    877   47      \n",
       "996805.11  NO                     32   62      \n",
       "481428.71  NO                     97   37      \n",
       "169906.1   NO                     11   52      "
      ]
     },
     "metadata": {},
     "output_type": "display_data"
    }
   ],
   "source": [
    "# Creamos un vector con la media de las edades de los rangos, coincidendo el indice con el valor asociado al rango\n",
    "ageVector<-c(24,32,37,42,47,52,57,62,67,72,77,82,87)\n",
    "\n",
    "# Creamos la nueva columna con la media de edad asociada a cada rango\n",
    "df_muestra$mean_age<-ageVector[as.numeric(df_muestra$age_group_5_years)]\n",
    "head(df_muestra)"
   ]
  },
  {
   "cell_type": "code",
   "execution_count": 38,
   "metadata": {},
   "outputs": [
    {
     "data": {},
     "metadata": {},
     "output_type": "display_data"
    },
    {
     "data": {
      "image/png": "[encoded data removed]",
      "text/plain": [
       "plot without title"
      ]
     },
     "metadata": {},
     "output_type": "display_data"
    }
   ],
   "source": [
    "# cargamos la librería ggplot y cambiamos las opciones para generar gráficos algo mas pequeños\n",
    "library(\"ggplot2\")\n",
    "options(repr.plot.height=4,repr.plot.width=7)\n",
    "\n",
    "# mostramos el diagrama de cajas\n",
    "ggplot(data = df_muestra, aes(x = first_degree_hx, y = mean_age, color = first_degree_hx)) + \n",
    "  geom_boxplot(na.rm = T) +\n",
    "  scale_color_discrete(name = \"Antecedentes\") + \n",
    "  xlab(\"Antecedentes\")+\n",
    "  ylab(\"Edad\") +\n",
    "  ggtitle(\"Edad de aparición del cancer en función de si tiene antecedentes familiares\")"
   ]
  },
  {
   "cell_type": "markdown",
   "metadata": {},
   "source": [
    "¿Existe una diferencia estadística significativa entre la edad de aparición del cancer y si hay antecedentes familiares? ¿Que test usarías para comprobarlo?"
   ]
  },
  {
   "cell_type": "code",
   "execution_count": 39,
   "metadata": {},
   "outputs": [
    {
     "data": {
      "text/html": [
       "4.48087454231314e-11"
      ],
      "text/latex": [
       "4.48087454231314e-11"
      ],
      "text/markdown": [
       "4.48087454231314e-11"
      ],
      "text/plain": [
       "[1] 4.480875e-11"
      ]
     },
     "metadata": {},
     "output_type": "display_data"
    },
    {
     "data": {
      "text/html": [
       "4.54082851719025e-31"
      ],
      "text/latex": [
       "4.54082851719025e-31"
      ],
      "text/markdown": [
       "4.54082851719025e-31"
      ],
      "text/plain": [
       "[1] 4.540829e-31"
      ]
     },
     "metadata": {},
     "output_type": "display_data"
    }
   ],
   "source": [
    "# Realizamos el test de shapiro para ver si la edad estimada en función de si se tienen antecendentes\n",
    "# siguen una distribución normal\n",
    "shapiro.test(df_muestra$mean_age[df_muestra$first_degree_hx == \"SI\"])$p.value\n",
    "shapiro.test(df_muestra$mean_age[df_muestra$first_degree_hx == \"NO\"])$p.value"
   ]
  },
  {
   "cell_type": "code",
   "execution_count": 40,
   "metadata": {},
   "outputs": [
    {
     "data": {
      "text/plain": [
       "\n",
       "\tWilcoxon rank sum test with continuity correction\n",
       "\n",
       "data:  mean_age by first_degree_hx\n",
       "W = 1239200, p-value = 2.339e-06\n",
       "alternative hypothesis: true location shift is not equal to 0\n"
      ]
     },
     "metadata": {},
     "output_type": "display_data"
    }
   ],
   "source": [
    "# Saphiro da valores muy bajos, por lo que descartamos que sea una distribución normal\n",
    "# Voy a optar por el test de Wilcoxon-Mann-Whitney \n",
    "wilcox.test(mean_age ~ first_degree_hx, data = df_muestra)"
   ]
  },
  {
   "cell_type": "markdown",
   "metadata": {},
   "source": [
    "El **p valor nos da un valor muy bajo**, por lo tanto, podemos asumir que la edad de aparicion del cancer es independiente a los antecedentes familiares."
   ]
  },
  {
   "cell_type": "markdown",
   "metadata": {},
   "source": [
    "Dibuja la curva de densidad de probabilidad de cómo varía la edad de aparición del cancer en función de si ha habido antecedentes familiares o no."
   ]
  },
  {
   "cell_type": "code",
   "execution_count": 42,
   "metadata": {},
   "outputs": [
    {
     "data": {},
     "metadata": {},
     "output_type": "display_data"
    },
    {
     "data": {
      "image/png": "[encoded data removed]",
      "text/plain": [
       "plot without title"
      ]
     },
     "metadata": {},
     "output_type": "display_data"
    }
   ],
   "source": [
    "ggplot(df_muestra, aes(x = mean_age, group = first_degree_hx, color = first_degree_hx)) + \n",
    "  geom_density() +\n",
    "  xlab(\"Edad\") +\n",
    "  ylab(\"Densidad\")"
   ]
  },
  {
   "cell_type": "markdown",
   "metadata": {},
   "source": [
    "#### Edad y BIRADS"
   ]
  },
  {
   "cell_type": "markdown",
   "metadata": {},
   "source": [
    "Representa en un diagrama de cajas cómo varía la edad de aparición del cancer en función de la densidad del cancder (BIRADS)."
   ]
  },
  {
   "cell_type": "code",
   "execution_count": 45,
   "metadata": {},
   "outputs": [
    {
     "data": {},
     "metadata": {},
     "output_type": "display_data"
    },
    {
     "data": {
      "image/png": "[encoded data removed]",
      "text/plain": [
       "plot without title"
      ]
     },
     "metadata": {},
     "output_type": "display_data"
    }
   ],
   "source": [
    "# mostramos el diagrama de cajas\n",
    "ggplot(data = df_muestra, aes(x = BIRADS_breast_density, y = mean_age, color = BIRADS_breast_density)) + \n",
    "  geom_boxplot(na.rm = T) +\n",
    "  scale_color_discrete(name = \"Densidad\") + \n",
    "  xlab(\"Densidad\")+\n",
    "  ylab(\"Edad\") +\n",
    "  ggtitle(\"Edad de aparición del cancer en función de la densidad del cancer\")"
   ]
  },
  {
   "cell_type": "markdown",
   "metadata": {},
   "source": [
    "¿Existe una evidencia estadística significativa para decir que la edad en la que se detecta el cancer depende de la densidad del cancer (BIRADS)?\n",
    "\n",
    "¿Que test habría que aplicar?"
   ]
  },
  {
   "cell_type": "code",
   "execution_count": 59,
   "metadata": {},
   "outputs": [
    {
     "data": {
      "text/html": [
       "<ol class=list-inline>\n",
       "\t<li>'Almost entirely fat'</li>\n",
       "\t<li>'Scattered fibroglandular densities'</li>\n",
       "\t<li>'Heterogeneously dense'</li>\n",
       "\t<li>'Extremely dense'</li>\n",
       "</ol>\n"
      ],
      "text/latex": [
       "\\begin{enumerate*}\n",
       "\\item 'Almost entirely fat'\n",
       "\\item 'Scattered fibroglandular densities'\n",
       "\\item 'Heterogeneously dense'\n",
       "\\item 'Extremely dense'\n",
       "\\end{enumerate*}\n"
      ],
      "text/markdown": [
       "1. 'Almost entirely fat'\n",
       "2. 'Scattered fibroglandular densities'\n",
       "3. 'Heterogeneously dense'\n",
       "4. 'Extremely dense'\n",
       "\n",
       "\n"
      ],
      "text/plain": [
       "[1] \"Almost entirely fat\"                \"Scattered fibroglandular densities\"\n",
       "[3] \"Heterogeneously dense\"              \"Extremely dense\"                   "
      ]
     },
     "metadata": {},
     "output_type": "display_data"
    },
    {
     "data": {
      "text/html": [
       "'Para el tipo Almost entirely fat el p.value del shapiro test es 0.000151865852273701'"
      ],
      "text/latex": [
       "'Para el tipo Almost entirely fat el p.value del shapiro test es 0.000151865852273701'"
      ],
      "text/markdown": [
       "'Para el tipo Almost entirely fat el p.value del shapiro test es 0.000151865852273701'"
      ],
      "text/plain": [
       "[1] \"Para el tipo Almost entirely fat el p.value del shapiro test es 0.000151865852273701\""
      ]
     },
     "metadata": {},
     "output_type": "display_data"
    },
    {
     "data": {
      "text/html": [
       "'Para el tipo Scattered fibroglandular densities el p.value del shapiro test es 4.7377089605984e-20'"
      ],
      "text/latex": [
       "'Para el tipo Scattered fibroglandular densities el p.value del shapiro test es 4.7377089605984e-20'"
      ],
      "text/markdown": [
       "'Para el tipo Scattered fibroglandular densities el p.value del shapiro test es 4.7377089605984e-20'"
      ],
      "text/plain": [
       "[1] \"Para el tipo Scattered fibroglandular densities el p.value del shapiro test es 4.7377089605984e-20\""
      ]
     },
     "metadata": {},
     "output_type": "display_data"
    },
    {
     "data": {
      "text/html": [
       "'Para el tipo Heterogeneously dense el p.value del shapiro test es 1.2162989002878e-20'"
      ],
      "text/latex": [
       "'Para el tipo Heterogeneously dense el p.value del shapiro test es 1.2162989002878e-20'"
      ],
      "text/markdown": [
       "'Para el tipo Heterogeneously dense el p.value del shapiro test es 1.2162989002878e-20'"
      ],
      "text/plain": [
       "[1] \"Para el tipo Heterogeneously dense el p.value del shapiro test es 1.2162989002878e-20\""
      ]
     },
     "metadata": {},
     "output_type": "display_data"
    },
    {
     "data": {
      "text/html": [
       "'Para el tipo Extremely dense el p.value del shapiro test es 2.89718130439785e-09'"
      ],
      "text/latex": [
       "'Para el tipo Extremely dense el p.value del shapiro test es 2.89718130439785e-09'"
      ],
      "text/markdown": [
       "'Para el tipo Extremely dense el p.value del shapiro test es 2.89718130439785e-09'"
      ],
      "text/plain": [
       "[1] \"Para el tipo Extremely dense el p.value del shapiro test es 2.89718130439785e-09\""
      ]
     },
     "metadata": {},
     "output_type": "display_data"
    }
   ],
   "source": [
    "# Por el gráfico parece que si que la edad puede afectar a la densidad del cancer, pero vamos a hacer el test.\n",
    "\n",
    "# para cada tipo de densidad miramos si sigue una distribución gausiana\n",
    "# Para cadas tipo de densidad: calculo el p.value de shapiro y lo imprimo\n",
    "levels(df_muestra$BIRADS_breast_density)\n",
    "\n",
    "tipo <- 'Almost entirely fat'\n",
    "t <- shapiro.test(df_muestra[df_muestra$BIRADS_breast_density == tipo,]$mean_age)\n",
    "paste(\"Para el tipo\", tipo, \"el p.value del shapiro test es\", t$p.value)\n",
    "\n",
    "tipo <- 'Scattered fibroglandular densities'\n",
    "t <- shapiro.test(df_muestra[df_muestra$BIRADS_breast_density == tipo,]$mean_age)\n",
    "paste(\"Para el tipo\", tipo, \"el p.value del shapiro test es\", t$p.value)\n",
    "\n",
    "tipo <- 'Heterogeneously dense'\n",
    "t <- shapiro.test(df_muestra[df_muestra$BIRADS_breast_density == tipo,]$mean_age)\n",
    "paste(\"Para el tipo\", tipo, \"el p.value del shapiro test es\", t$p.value)\n",
    "\n",
    "tipo <- 'Extremely dense'\n",
    "t <- shapiro.test(df_muestra[df_muestra$BIRADS_breast_density == tipo,]$mean_age)\n",
    "paste(\"Para el tipo\", tipo, \"el p.value del shapiro test es\", t$p.value)"
   ]
  },
  {
   "cell_type": "markdown",
   "metadata": {},
   "source": [
    "Todos **los p.value de los test de Shapiro son muy bajos** por lo que no podemos asumir distribucines normales.\n",
    "Tenemos que comparar medias entre diferentes tipo de densidad. Como no tenemos unas distribuciones gaussianas utilizaremos el test de Kruskal"
   ]
  },
  {
   "cell_type": "code",
   "execution_count": 60,
   "metadata": {},
   "outputs": [
    {
     "data": {
      "text/plain": [
       "\n",
       "\tKruskal-Wallis rank sum test\n",
       "\n",
       "data:  mean_age by BIRADS_breast_density\n",
       "Kruskal-Wallis chi-squared = 156.19, df = 3, p-value < 2.2e-16\n"
      ]
     },
     "metadata": {},
     "output_type": "display_data"
    }
   ],
   "source": [
    "kruskal.test(mean_age ~ BIRADS_breast_density, data = df_muestra)"
   ]
  },
  {
   "cell_type": "markdown",
   "metadata": {},
   "source": [
    "Con un **p.valor tan bajo parece que no hay una dependencia directa entre la densidad del cancer y la edad a la que se diagnostica**"
   ]
  },
  {
   "cell_type": "markdown",
   "metadata": {},
   "source": [
    "#### Tablas de contingencia: BIRADS"
   ]
  },
  {
   "cell_type": "markdown",
   "metadata": {},
   "source": [
    "¿Todos los  tipos de cancer (BIRADS) son igual de probables? ¿Con que test lo comprobarías?"
   ]
  },
  {
   "cell_type": "code",
   "execution_count": 61,
   "metadata": {},
   "outputs": [
    {
     "data": {
      "text/plain": [
       "\n",
       "               Almost entirely fat Scattered fibroglandular densities \n",
       "                               297                               1665 \n",
       "             Heterogeneously dense                    Extremely dense \n",
       "                              1451                                256 "
      ]
     },
     "metadata": {},
     "output_type": "display_data"
    }
   ],
   "source": [
    "f_BIRADS <- table(df_muestra$BIRADS_breast_density)\n",
    "f_BIRADS"
   ]
  },
  {
   "cell_type": "markdown",
   "metadata": {},
   "source": [
    "A simple vista se ven que no son igual de probable, pero voy a pasar el test de Chi cuadrado a los datos"
   ]
  },
  {
   "cell_type": "code",
   "execution_count": 65,
   "metadata": {},
   "outputs": [
    {
     "data": {
      "text/plain": [
       "\n",
       "\tChi-squared test for given probabilities\n",
       "\n",
       "data:  f_BIRADS\n",
       "X-squared = 1816.3, df = 3, p-value < 2.2e-16\n"
      ]
     },
     "metadata": {},
     "output_type": "display_data"
    }
   ],
   "source": [
    "chisq.test(f_BIRADS)"
   ]
  },
  {
   "cell_type": "markdown",
   "metadata": {},
   "source": [
    "El p.value es muy muy pequeño, por lo que se puede decir que no son igual de probables "
   ]
  },
  {
   "cell_type": "markdown",
   "metadata": {},
   "source": [
    "¿Cual es el tipo de cancer (BIRADS) más común? ¿Con qué proporción?"
   ]
  },
  {
   "cell_type": "code",
   "execution_count": 70,
   "metadata": {},
   "outputs": [
    {
     "data": {
      "text/plain": [
       "\n",
       "               Almost entirely fat Scattered fibroglandular densities \n",
       "                        0.08094849                         0.45380213 \n",
       "             Heterogeneously dense                    Extremely dense \n",
       "                        0.39547561                         0.06977378 "
      ]
     },
     "metadata": {},
     "output_type": "display_data"
    },
    {
     "data": {
      "text/html": [
       "'El mas probable es el Scattered fibroglandular densities: 45.38 %'"
      ],
      "text/latex": [
       "'El mas probable es el Scattered fibroglandular densities: 45.38 \\%'"
      ],
      "text/markdown": [
       "'El mas probable es el Scattered fibroglandular densities: 45.38 %'"
      ],
      "text/plain": [
       "[1] \"El mas probable es el Scattered fibroglandular densities: 45.38 %\""
      ]
     },
     "metadata": {},
     "output_type": "display_data"
    }
   ],
   "source": [
    "probabilidades <- prop.table(f_BIRADS)\n",
    "probabilidades\n",
    "paste(\"El mas probable es el Scattered fibroglandular densities:\", round(prob[2] * 100, 2),\"%\")"
   ]
  },
  {
   "cell_type": "markdown",
   "metadata": {},
   "source": [
    "¿Depende el tipo de cancer (BIRADS) de si ha habido o no antecedentes familiares?"
   ]
  },
  {
   "cell_type": "code",
   "execution_count": 74,
   "metadata": {},
   "outputs": [
    {
     "data": {
      "text/plain": [
       "    \n",
       "     Almost entirely fat Scattered fibroglandular densities\n",
       "  NO                 223                               1324\n",
       "  SI                  56                                248\n",
       "    \n",
       "     Heterogeneously dense Extremely dense\n",
       "  NO                  1135             190\n",
       "  SI                   229              45"
      ]
     },
     "metadata": {},
     "output_type": "display_data"
    },
    {
     "data": {
      "text/plain": [
       "\n",
       "\tPearson's Chi-squared test\n",
       "\n",
       "data:  f_BIRADS_first_degree_hx\n",
       "X-squared = 4.2475, df = 3, p-value = 0.236\n"
      ]
     },
     "metadata": {},
     "output_type": "display_data"
    }
   ],
   "source": [
    "f_BIRADS_first_degree_hx <- table(df_muestra$first_degree_hx, df_muestra$BIRADS_breast_density)\n",
    "f_BIRADS_first_degree_hx\n",
    "\n",
    "chisq.test(f_BIRADS_first_degree_hx)"
   ]
  },
  {
   "cell_type": "markdown",
   "metadata": {},
   "source": [
    "El valor de p-value de 0.236 indica que podemos aceptar la hipotesis nula, por lo que podemos decir que no hay dependencia entre el tipo de cancer (BIRADS) de si ha habido o no antecedentes familiares."
   ]
  },
  {
   "cell_type": "markdown",
   "metadata": {},
   "source": [
    "¿Depende el tipo de cancer BIRADS del grupo étnico?"
   ]
  },
  {
   "cell_type": "code",
   "execution_count": null,
   "metadata": {},
   "outputs": [],
   "source": []
  },
  {
   "cell_type": "markdown",
   "metadata": {},
   "source": [
    "¿Cual es la probabilidad (con su margen de error del 95%) de que un *Native American* tenga un cancer de tipo *Almost entirely fat*?\n",
    "\n",
    "*Aviso*: Cuidado con los NA"
   ]
  },
  {
   "cell_type": "code",
   "execution_count": null,
   "metadata": {},
   "outputs": [],
   "source": []
  }
 ],
 "metadata": {
  "kernelspec": {
   "display_name": "R",
   "language": "R",
   "name": "ir"
  },
  "language_info": {
   "codemirror_mode": "r",
   "file_extension": ".r",
   "mimetype": "text/x-r-source",
   "name": "R",
   "pygments_lexer": "r",
   "version": "3.4.3"
  }
 },
 "nbformat": 4,
 "nbformat_minor": 1
}
