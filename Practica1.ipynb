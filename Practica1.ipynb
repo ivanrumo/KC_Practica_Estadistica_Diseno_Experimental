{
 "cells": [
  {
   "cell_type": "markdown",
   "metadata": {},
   "source": [
    "# Introducción\n",
    "\n",
    "El objetivo de esta práctica es mostrar al alumno las posibilidades que ofrece R para analizar datos de distintas fuentes diferentes, extraer datos, comparar, hacer gráficas y sacar estadísticos.\n",
    "\n",
    "Las fuentes de datos que se tienen son:\n",
    "* Datos meteorológicos de Praga de 1775 hasta 2004: https://www.ncdc.noaa.gov/cdo-web/datasets\n",
    "* Banco mundial: https://data.worldbank.org/topic/climate-change\n",
    "* Nivel de CO2 en la atmósfera (Mauna Loa): https://www.esrl.noaa.gov/gmd/ccgg/trends/data.html\n",
    "\n",
    "Todos los ficheros necesarios para resolver la práctica se ofrecen como adjuntos."
   ]
  },
  {
   "cell_type": "markdown",
   "metadata": {},
   "source": [
    "## Datos meteorológicos NOAA"
   ]
  },
  {
   "cell_type": "markdown",
   "metadata": {},
   "source": [
    "Carga el tiempo meteorológico de Praga en un data.frame. Fichero: *EZE00100082*"
   ]
  },
  {
   "cell_type": "code",
   "execution_count": 1,
   "metadata": {},
   "outputs": [],
   "source": [
    "weatherPraga<-read.csv(\"./datos/EZE00100082.csv\", sep = \",\")"
   ]
  },
  {
   "cell_type": "markdown",
   "metadata": {},
   "source": [
    "Mostrar los 10 años que más precipitiaciones han tenido junto con su valor correspondiente (columna PRCP):"
   ]
  },
  {
   "cell_type": "code",
   "execution_count": 2,
   "metadata": {},
   "outputs": [
    {
     "data": {
      "text/html": [
       "<table>\n",
       "<thead><tr><th></th><th scope=col>DATE</th><th scope=col>PRCP</th></tr></thead>\n",
       "<tbody>\n",
       "\t<tr><th scope=row>165</th><td>1939 </td><td>745.5</td></tr>\n",
       "\t<tr><th scope=row>54</th><td>1828 </td><td>665.4</td></tr>\n",
       "\t<tr><th scope=row>228</th><td>2002 </td><td>661.5</td></tr>\n",
       "\t<tr><th scope=row>172</th><td>1946 </td><td>638.3</td></tr>\n",
       "\t<tr><th scope=row>116</th><td>1890 </td><td>637.3</td></tr>\n",
       "\t<tr><th scope=row>63</th><td>1837 </td><td>634.9</td></tr>\n",
       "\t<tr><th scope=row>184</th><td>1958 </td><td>633.1</td></tr>\n",
       "\t<tr><th scope=row>57</th><td>1831 </td><td>625.7</td></tr>\n",
       "\t<tr><th scope=row>192</th><td>1966 </td><td>624.1</td></tr>\n",
       "\t<tr><th scope=row>55</th><td>1829 </td><td>622.4</td></tr>\n",
       "</tbody>\n",
       "</table>\n"
      ],
      "text/latex": [
       "\\begin{tabular}{r|ll}\n",
       "  & DATE & PRCP\\\\\n",
       "\\hline\n",
       "\t165 & 1939  & 745.5\\\\\n",
       "\t54 & 1828  & 665.4\\\\\n",
       "\t228 & 2002  & 661.5\\\\\n",
       "\t172 & 1946  & 638.3\\\\\n",
       "\t116 & 1890  & 637.3\\\\\n",
       "\t63 & 1837  & 634.9\\\\\n",
       "\t184 & 1958  & 633.1\\\\\n",
       "\t57 & 1831  & 625.7\\\\\n",
       "\t192 & 1966  & 624.1\\\\\n",
       "\t55 & 1829  & 622.4\\\\\n",
       "\\end{tabular}\n"
      ],
      "text/markdown": [
       "\n",
       "| <!--/--> | DATE | PRCP |\n",
       "|---|---|---|\n",
       "| 165 | 1939  | 745.5 |\n",
       "| 54 | 1828  | 665.4 |\n",
       "| 228 | 2002  | 661.5 |\n",
       "| 172 | 1946  | 638.3 |\n",
       "| 116 | 1890  | 637.3 |\n",
       "| 63 | 1837  | 634.9 |\n",
       "| 184 | 1958  | 633.1 |\n",
       "| 57 | 1831  | 625.7 |\n",
       "| 192 | 1966  | 624.1 |\n",
       "| 55 | 1829  | 622.4 |\n",
       "\n"
      ],
      "text/plain": [
       "    DATE PRCP \n",
       "165 1939 745.5\n",
       "54  1828 665.4\n",
       "228 2002 661.5\n",
       "172 1946 638.3\n",
       "116 1890 637.3\n",
       "63  1837 634.9\n",
       "184 1958 633.1\n",
       "57  1831 625.7\n",
       "192 1966 624.1\n",
       "55  1829 622.4"
      ]
     },
     "metadata": {},
     "output_type": "display_data"
    }
   ],
   "source": [
    "# creamos un dataframe a partir del que tenemos con las columnas del año y la precipitaciones. \n",
    "# Lo ordenamos descendentemente por el campos PRCP\n",
    "newWeatherPraga <- weatherPraga[order(-weatherPraga$PRCP),c(\"DATE\", \"PRCP\")]\n",
    "# Como el dataframe está ordenado por las precipitaciones descendentemente, mostramos las primeras 10 líneas\n",
    "head(newWeatherPraga, 10)\n"
   ]
  },
  {
   "cell_type": "markdown",
   "metadata": {},
   "source": [
    "* Muestra en un diagrama de dispersión la temperatura mínima registrada en un año (columna EMNT) en función del año registrado (columna DATE).\n",
    "* Crear una regresión lineal (polinomio orden 1) que muestre la tendencia. Pintarla sobre el diagrama de dispersión.\n",
    "* En media, ¿Cuantos grados ha aumentado la temperatura mínima cada año? (pendiente de la  regresión lineal)"
   ]
  },
  {
   "cell_type": "code",
   "execution_count": 3,
   "metadata": {},
   "outputs": [],
   "source": [
    "# cargamos la librería ggplot y cambiamos las opciones para generar gráficos algo mas pequeños\n",
    "library(\"ggplot2\")\n",
    "options(repr.plot.height=4,repr.plot.width=6)"
   ]
  },
  {
   "cell_type": "code",
   "execution_count": 4,
   "metadata": {},
   "outputs": [
    {
     "data": {},
     "metadata": {},
     "output_type": "display_data"
    },
    {
     "data": {
      "image/png": "[encoded data removed]",
      "text/plain": [
       "plot without title"
      ]
     },
     "metadata": {},
     "output_type": "display_data"
    }
   ],
   "source": [
    "# calculamos la regresión lineal\n",
    "model <- lm(data = weatherPraga, formula = EMNT ~ DATE)\n",
    "weatherPraga$predicted <- predict(model, weatherPraga)\n",
    "\n",
    "# mostramos el diagrama de dispersión. \n",
    "ggplot(data = weatherPraga, aes(x = DATE, y = EMNT)) + \n",
    "    geom_point() +\n",
    "    geom_line(aes(y=predicted),color=\"blue\") +\n",
    "    xlab(\"Temperatura mínima\") +\n",
    "    ylab(\"Año\")"
   ]
  },
  {
   "cell_type": "code",
   "execution_count": 5,
   "metadata": {},
   "outputs": [
    {
     "data": {
      "text/html": [
       "<dl class=dl-horizontal>\n",
       "\t<dt>(Intercept)</dt>\n",
       "\t\t<dd>-48.0066418942743</dd>\n",
       "\t<dt>DATE</dt>\n",
       "\t\t<dd>0.0173750305134395</dd>\n",
       "</dl>\n"
      ],
      "text/latex": [
       "\\begin{description*}\n",
       "\\item[(Intercept)] -48.0066418942743\n",
       "\\item[DATE] 0.0173750305134395\n",
       "\\end{description*}\n"
      ],
      "text/markdown": [
       "(Intercept)\n",
       ":   -48.0066418942743DATE\n",
       ":   0.0173750305134395\n",
       "\n"
      ],
      "text/plain": [
       " (Intercept)         DATE \n",
       "-48.00664189   0.01737503 "
      ]
     },
     "metadata": {},
     "output_type": "display_data"
    }
   ],
   "source": [
    "model$coefficients"
   ]
  },
  {
   "cell_type": "markdown",
   "metadata": {},
   "source": [
    "Como nos indica el coeficiente, la temperatura **sube de media 0.017 grados al año**. "
   ]
  },
  {
   "cell_type": "markdown",
   "metadata": {},
   "source": [
    "¿Ha subido realmente la temperatura mínima?\n",
    "* Calcula la media de la temperatura mínima (columna EMNT) del intervalo de años [1775,1794]\n",
    "* Calcula la media de la temperatura mínima (columna EMNT) del intervalo de años [1985,2004]\n",
    "* ¿Cual es la diferencia entre ambos? ¿Es estadísticamente significativa?\n",
    "  * Nota: antes de aplicar un test estadístico hay que ver si cumple con los requisitos de ese test."
   ]
  },
  {
   "cell_type": "code",
   "execution_count": 6,
   "metadata": {},
   "outputs": [
    {
     "data": {
      "text/html": [
       "'La media de la temperatura mínima desde el año 1775 al 1794 es: -16.935'"
      ],
      "text/latex": [
       "'La media de la temperatura mínima desde el año 1775 al 1794 es: -16.935'"
      ],
      "text/markdown": [
       "'La media de la temperatura mínima desde el año 1775 al 1794 es: -16.935'"
      ],
      "text/plain": [
       "[1] \"La media de la temperatura mínima desde el año 1775 al 1794 es: -16.935\""
      ]
     },
     "metadata": {},
     "output_type": "display_data"
    },
    {
     "data": {
      "text/html": [
       "'La media de la temperatura mínima desde el año 1985 al 2004 es: -13.04'"
      ],
      "text/latex": [
       "'La media de la temperatura mínima desde el año 1985 al 2004 es: -13.04'"
      ],
      "text/markdown": [
       "'La media de la temperatura mínima desde el año 1985 al 2004 es: -13.04'"
      ],
      "text/plain": [
       "[1] \"La media de la temperatura mínima desde el año 1985 al 2004 es: -13.04\""
      ]
     },
     "metadata": {},
     "output_type": "display_data"
    },
    {
     "data": {
      "text/html": [
       "'La diferencia de medias las dos medias es : -3.895'"
      ],
      "text/latex": [
       "'La diferencia de medias las dos medias es : -3.895'"
      ],
      "text/markdown": [
       "'La diferencia de medias las dos medias es : -3.895'"
      ],
      "text/plain": [
       "[1] \"La diferencia de medias las dos medias es : -3.895\""
      ]
     },
     "metadata": {},
     "output_type": "display_data"
    }
   ],
   "source": [
    "min_temp_s18 <- weatherPraga$EMNT[weatherPraga$DATE <= 1794]\n",
    "min_temp_s20 <- weatherPraga$EMNT[weatherPraga$DATE >= 1985 & weatherPraga$DATE <= 2004]\n",
    "\n",
    "m_s18 <- mean(min_temp_s18)\n",
    "m_s20 <- mean(min_temp_s20)\n",
    "paste(\"La media de la temperatura mínima desde el año 1775 al 1794 es:\", m_s18)\n",
    "paste(\"La media de la temperatura mínima desde el año 1985 al 2004 es:\", m_s20)\n",
    "paste(\"La diferencia de medias las dos medias es :\", m_s18 - m_s20)"
   ]
  },
  {
   "cell_type": "markdown",
   "metadata": {},
   "source": [
    "Primero comprobamos si los datos corresponden a una distribucción Gaussiana usando el test de Shapiro"
   ]
  },
  {
   "cell_type": "code",
   "execution_count": 7,
   "metadata": {},
   "outputs": [
    {
     "data": {
      "text/html": [
       "'Las muestras de temperatura mínima en los años 1775 al 1794 parecen seguir una gaussiana según el test de Shapiro–Wilk. pvalor: 0.380826132704572'"
      ],
      "text/latex": [
       "'Las muestras de temperatura mínima en los años 1775 al 1794 parecen seguir una gaussiana según el test de Shapiro–Wilk. pvalor: 0.380826132704572'"
      ],
      "text/markdown": [
       "'Las muestras de temperatura mínima en los años 1775 al 1794 parecen seguir una gaussiana según el test de Shapiro–Wilk. pvalor: 0.380826132704572'"
      ],
      "text/plain": [
       "[1] \"Las muestras de temperatura mínima en los años 1775 al 1794 parecen seguir una gaussiana según el test de Shapiro–Wilk. pvalor: 0.380826132704572\""
      ]
     },
     "metadata": {},
     "output_type": "display_data"
    },
    {
     "data": {
      "text/html": [
       "'Las muestras de temperatura mínima en los años 1985 al 2004 parecen seguir una gaussiana según el test de Shapiro–Wilk. pvalor: 0.0751036246207044'"
      ],
      "text/latex": [
       "'Las muestras de temperatura mínima en los años 1985 al 2004 parecen seguir una gaussiana según el test de Shapiro–Wilk. pvalor: 0.0751036246207044'"
      ],
      "text/markdown": [
       "'Las muestras de temperatura mínima en los años 1985 al 2004 parecen seguir una gaussiana según el test de Shapiro–Wilk. pvalor: 0.0751036246207044'"
      ],
      "text/plain": [
       "[1] \"Las muestras de temperatura mínima en los años 1985 al 2004 parecen seguir una gaussiana según el test de Shapiro–Wilk. pvalor: 0.0751036246207044\""
      ]
     },
     "metadata": {},
     "output_type": "display_data"
    }
   ],
   "source": [
    "paste(\"Las muestras de temperatura mínima en los años 1775 al 1794 parecen seguir una gaussiana según el test de Shapiro–Wilk. pvalor:\",\n",
    "          shapiro.test(min_temp_s18)$p.value)\n",
    "paste(\"Las muestras de temperatura mínima en los años 1985 al 2004 parecen seguir una gaussiana según el test de Shapiro–Wilk. pvalor:\",\n",
    "          shapiro.test(min_temp_s20)$p.value)"
   ]
  },
  {
   "cell_type": "markdown",
   "metadata": {},
   "source": [
    "Según el test de Shapiro, el rango de temperaturas del siglo XVIII es muy probable que sea una distribución Guassiana.\n",
    "\n",
    "Para las temperaturas del rango de años del siglo XX el test de Shapiro–Wilk da un valor mas bajo, pero también parece indicar que los datos podrían responder a una distribucción normal.\n",
    "\n",
    "Dado que son datos correlados entiendo que hay que T-test emparejado"
   ]
  },
  {
   "cell_type": "code",
   "execution_count": 8,
   "metadata": {},
   "outputs": [
    {
     "data": {
      "text/plain": [
       "\n",
       "\tPaired t-test\n",
       "\n",
       "data:  min_temp_s18 and min_temp_s20\n",
       "t = -2.4797, df = 19, p-value = 0.02269\n",
       "alternative hypothesis: true difference in means is not equal to 0\n",
       "95 percent confidence interval:\n",
       " -7.1826393 -0.6073607\n",
       "sample estimates:\n",
       "mean of the differences \n",
       "                 -3.895 \n"
      ]
     },
     "metadata": {},
     "output_type": "display_data"
    },
    {
     "data": {
      "text/html": [
       "'El p.value del test es 0.0226901277588472'"
      ],
      "text/latex": [
       "'El p.value del test es 0.0226901277588472'"
      ],
      "text/markdown": [
       "'El p.value del test es 0.0226901277588472'"
      ],
      "text/plain": [
       "[1] \"El p.value del test es 0.0226901277588472\""
      ]
     },
     "metadata": {},
     "output_type": "display_data"
    }
   ],
   "source": [
    "t_emparejado <- t.test(min_temp_s18, min_temp_s20, paired = TRUE)\n",
    "t_emparejado\n",
    "\n",
    "paste(\"El p.value del test es\", t_emparejado$p.value)"
   ]
  },
  {
   "cell_type": "markdown",
   "metadata": {},
   "source": [
    "Al ser el valor de **p.value bastante bajo** podemos decir que asumir que ambas medias no son iguales y por tanto **si es significativa la diferencia**"
   ]
  },
  {
   "cell_type": "markdown",
   "metadata": {},
   "source": [
    "## Datos banco mundial"
   ]
  },
  {
   "cell_type": "markdown",
   "metadata": {},
   "source": [
    "Carga los datos del banco mundial"
   ]
  },
  {
   "cell_type": "code",
   "execution_count": 9,
   "metadata": {},
   "outputs": [
    {
     "name": "stdout",
     "output_type": "stream",
     "text": [
      "[1] \"Tenemos un total de 217 paises\"\n",
      "[1] \"Tenemos un total de 46 regiones\"\n",
      "[1] \"Tenemos un total de 80 indicadores\"\n"
     ]
    }
   ],
   "source": [
    "databank<-read.csv(\"./datos/API_19_DS2_en_csv_v2.csv\",skip=4)\n",
    "#Borramos las X del nombre de la columna\n",
    "colnames(databank)<-gsub(\"X\",\"\",colnames(databank))\n",
    "\n",
    "countryData<-read.csv(\"./datos/Metadata_Country_API_19_DS2_en_csv_v2.csv\")\n",
    "\n",
    "# De esta forma podremos aceder a la información de paises usando su countryCode\n",
    "rownames(countryData)<-countryData$Country.Code\n",
    "\n",
    "realCountryData<-subset(countryData,IncomeGroup!=\"\")\n",
    "regionData<-subset(countryData,IncomeGroup==\"\")\n",
    "print(paste(\"Tenemos un total de\",nrow(realCountryData),\"paises\"))\n",
    "print(paste(\"Tenemos un total de\",nrow(regionData),\"regiones\"))\n",
    "indicators<-read.csv(\"./datos/Metadata_Indicator_API_19_DS2_en_csv_v2.csv\")\n",
    "print(paste(\"Tenemos un total de\",nrow(indicators),\"indicadores\"))"
   ]
  },
  {
   "cell_type": "code",
   "execution_count": 10,
   "metadata": {},
   "outputs": [
    {
     "data": {
      "text/html": [
       "<table>\n",
       "<thead><tr><th scope=col>Country.Name</th><th scope=col>Country.Code</th><th scope=col>Indicator.Name</th><th scope=col>Indicator.Code</th><th scope=col>1960</th><th scope=col>1961</th><th scope=col>1962</th><th scope=col>1963</th><th scope=col>1964</th><th scope=col>1965</th><th scope=col>⋯</th><th scope=col>2009</th><th scope=col>2010</th><th scope=col>2011</th><th scope=col>2012</th><th scope=col>2013</th><th scope=col>2014</th><th scope=col>2015</th><th scope=col>2016</th><th scope=col>2017</th><th scope=col></th></tr></thead>\n",
       "<tbody>\n",
       "\t<tr><td>Aruba                                                              </td><td>ABW                                                                </td><td>Urban population (% of total)                                      </td><td>SP.URB.TOTL.IN.ZS                                                  </td><td>   50.776000                                                       </td><td>   50.761000                                                       </td><td>   50.746000                                                       </td><td>5.073000e+01                                                       </td><td>5.071500e+01                                                       </td><td>5.070000e+01                                                       </td><td>⋯                                                                  </td><td> 4.342100e+01                                                      </td><td> 4.305900e+01                                                      </td><td> 4.269800e+01                                                      </td><td> 4.236400e+01                                                      </td><td> 4.205800e+01                                                      </td><td> 4.177900e+01                                                      </td><td> 4.152800e+01                                                      </td><td> 4.130400e+01                                                      </td><td>NA                                                                 </td><td>NA                                                                 </td></tr>\n",
       "\t<tr><td>Aruba                                                              </td><td>ABW                                                                </td><td>Urban population                                                   </td><td>SP.URB.TOTL                                                        </td><td>27526.000000                                                       </td><td>28141.000000                                                       </td><td>28532.000000                                                       </td><td>2.876100e+04                                                       </td><td>2.892400e+04                                                       </td><td>2.908200e+04                                                       </td><td>⋯                                                                  </td><td> 4.405200e+04                                                      </td><td> 4.377800e+04                                                      </td><td> 4.357500e+04                                                      </td><td> 4.345600e+04                                                      </td><td> 4.339800e+04                                                      </td><td> 4.336500e+04                                                      </td><td> 4.333100e+04                                                      </td><td> 4.329600e+04                                                      </td><td>NA                                                                 </td><td>NA                                                                 </td></tr>\n",
       "\t<tr><td>Aruba                                                              </td><td>ABW                                                                </td><td>Urban population growth (annual %)                                 </td><td>SP.URB.GROW                                                        </td><td>    3.117931                                                       </td><td>    2.209658                                                       </td><td>    1.379868                                                       </td><td>7.994038e-01                                                       </td><td>5.651398e-01                                                       </td><td>5.447726e-01                                                       </td><td>⋯                                                                  </td><td>-7.305493e-01                                                      </td><td>-6.239346e-01                                                      </td><td>-4.647817e-01                                                      </td><td>-2.734659e-01                                                      </td><td>-1.335575e-01                                                      </td><td>-7.606930e-02                                                      </td><td>-7.843500e-02                                                      </td><td>-8.080622e-02                                                      </td><td>NA                                                                 </td><td>NA                                                                 </td></tr>\n",
       "\t<tr><td>Aruba                                                              </td><td>ABW                                                                </td><td>Population, total                                                  </td><td>SP.POP.TOTL                                                        </td><td>54211.000000                                                       </td><td>55438.000000                                                       </td><td>56225.000000                                                       </td><td>5.669500e+04                                                       </td><td>5.703200e+04                                                       </td><td>5.736000e+04                                                       </td><td>⋯                                                                  </td><td> 1.014530e+05                                                      </td><td> 1.016690e+05                                                      </td><td> 1.020530e+05                                                      </td><td> 1.025770e+05                                                      </td><td> 1.031870e+05                                                      </td><td> 1.037950e+05                                                      </td><td> 1.043410e+05                                                      </td><td> 1.048220e+05                                                      </td><td>NA                                                                 </td><td>NA                                                                 </td></tr>\n",
       "\t<tr><td>Aruba                                                              </td><td>ABW                                                                </td><td>Population growth (annual %)                                       </td><td>SP.POP.GROW                                                        </td><td>    3.148037                                                       </td><td>    2.238144                                                       </td><td>    1.409622                                                       </td><td>8.324526e-01                                                       </td><td>5.926490e-01                                                       </td><td>5.734682e-01                                                       </td><td>⋯                                                                  </td><td> 9.861642e-02                                                      </td><td> 2.126801e-01                                                      </td><td> 3.769848e-01                                                      </td><td> 5.121450e-01                                                      </td><td> 5.929140e-01                                                      </td><td> 5.874924e-01                                                      </td><td> 5.246582e-01                                                      </td><td> 4.599292e-01                                                      </td><td>NA                                                                 </td><td>NA                                                                 </td></tr>\n",
       "\t<tr><td>Aruba                                                              </td><td>ABW                                                                </td><td>Poverty headcount ratio at $1.90 a day (2011 PPP) (% of population)</td><td>SI.POV.DDAY                                                        </td><td>          NA                                                       </td><td>          NA                                                       </td><td>          NA                                                       </td><td>          NA                                                       </td><td>          NA                                                       </td><td>          NA                                                       </td><td>⋯                                                                  </td><td>           NA                                                      </td><td>           NA                                                      </td><td>           NA                                                      </td><td>           NA                                                      </td><td>           NA                                                      </td><td>           NA                                                      </td><td>           NA                                                      </td><td>           NA                                                      </td><td>NA                                                                 </td><td>NA                                                                 </td></tr>\n",
       "</tbody>\n",
       "</table>\n"
      ],
      "text/latex": [
       "\\begin{tabular}{r|lllllllllllllllllllllllllllllllllllllllllllllllllllllllllllllll}\n",
       " Country.Name & Country.Code & Indicator.Name & Indicator.Code & 1960 & 1961 & 1962 & 1963 & 1964 & 1965 & ⋯ & 2009 & 2010 & 2011 & 2012 & 2013 & 2014 & 2015 & 2016 & 2017 & \\\\\n",
       "\\hline\n",
       "\t Aruba                                                                 & ABW                                                                   & Urban population (\\% of total)                                       & SP.URB.TOTL.IN.ZS                                                     &    50.776000                                                          &    50.761000                                                          &    50.746000                                                          & 5.073000e+01                                                          & 5.071500e+01                                                          & 5.070000e+01                                                          & ⋯                                                                     &  4.342100e+01                                                         &  4.305900e+01                                                         &  4.269800e+01                                                         &  4.236400e+01                                                         &  4.205800e+01                                                         &  4.177900e+01                                                         &  4.152800e+01                                                         &  4.130400e+01                                                         & NA                                                                    & NA                                                                   \\\\\n",
       "\t Aruba                                                               & ABW                                                                 & Urban population                                                    & SP.URB.TOTL                                                         & 27526.000000                                                        & 28141.000000                                                        & 28532.000000                                                        & 2.876100e+04                                                        & 2.892400e+04                                                        & 2.908200e+04                                                        & ⋯                                                                   &  4.405200e+04                                                       &  4.377800e+04                                                       &  4.357500e+04                                                       &  4.345600e+04                                                       &  4.339800e+04                                                       &  4.336500e+04                                                       &  4.333100e+04                                                       &  4.329600e+04                                                       & NA                                                                  & NA                                                                 \\\\\n",
       "\t Aruba                                                                 & ABW                                                                   & Urban population growth (annual \\%)                                  & SP.URB.GROW                                                           &     3.117931                                                          &     2.209658                                                          &     1.379868                                                          & 7.994038e-01                                                          & 5.651398e-01                                                          & 5.447726e-01                                                          & ⋯                                                                     & -7.305493e-01                                                         & -6.239346e-01                                                         & -4.647817e-01                                                         & -2.734659e-01                                                         & -1.335575e-01                                                         & -7.606930e-02                                                         & -7.843500e-02                                                         & -8.080622e-02                                                         & NA                                                                    & NA                                                                   \\\\\n",
       "\t Aruba                                                               & ABW                                                                 & Population, total                                                   & SP.POP.TOTL                                                         & 54211.000000                                                        & 55438.000000                                                        & 56225.000000                                                        & 5.669500e+04                                                        & 5.703200e+04                                                        & 5.736000e+04                                                        & ⋯                                                                   &  1.014530e+05                                                       &  1.016690e+05                                                       &  1.020530e+05                                                       &  1.025770e+05                                                       &  1.031870e+05                                                       &  1.037950e+05                                                       &  1.043410e+05                                                       &  1.048220e+05                                                       & NA                                                                  & NA                                                                 \\\\\n",
       "\t Aruba                                                                 & ABW                                                                   & Population growth (annual \\%)                                        & SP.POP.GROW                                                           &     3.148037                                                          &     2.238144                                                          &     1.409622                                                          & 8.324526e-01                                                          & 5.926490e-01                                                          & 5.734682e-01                                                          & ⋯                                                                     &  9.861642e-02                                                         &  2.126801e-01                                                         &  3.769848e-01                                                         &  5.121450e-01                                                         &  5.929140e-01                                                         &  5.874924e-01                                                         &  5.246582e-01                                                         &  4.599292e-01                                                         & NA                                                                    & NA                                                                   \\\\\n",
       "\t Aruba                                                                   & ABW                                                                     & Poverty headcount ratio at \\$1.90 a day (2011 PPP) (\\% of population) & SI.POV.DDAY                                                             &           NA                                                            &           NA                                                            &           NA                                                            &           NA                                                            &           NA                                                            &           NA                                                            & ⋯                                                                       &            NA                                                           &            NA                                                           &            NA                                                           &            NA                                                           &            NA                                                           &            NA                                                           &            NA                                                           &            NA                                                           & NA                                                                      & NA                                                                     \\\\\n",
       "\\end{tabular}\n"
      ],
      "text/markdown": [
       "\n",
       "| Country.Name | Country.Code | Indicator.Name | Indicator.Code | 1960 | 1961 | 1962 | 1963 | 1964 | 1965 | ⋯ | 2009 | 2010 | 2011 | 2012 | 2013 | 2014 | 2015 | 2016 | 2017 |  |\n",
       "|---|---|---|---|---|---|---|---|---|---|---|---|---|---|---|---|---|---|---|---|---|\n",
       "| Aruba                                                               | ABW                                                                 | Urban population (% of total)                                       | SP.URB.TOTL.IN.ZS                                                   |    50.776000                                                        |    50.761000                                                        |    50.746000                                                        | 5.073000e+01                                                        | 5.071500e+01                                                        | 5.070000e+01                                                        | ⋯                                                                   |  4.342100e+01                                                       |  4.305900e+01                                                       |  4.269800e+01                                                       |  4.236400e+01                                                       |  4.205800e+01                                                       |  4.177900e+01                                                       |  4.152800e+01                                                       |  4.130400e+01                                                       | NA                                                                  | NA                                                                  |\n",
       "| Aruba                                                               | ABW                                                                 | Urban population                                                    | SP.URB.TOTL                                                         | 27526.000000                                                        | 28141.000000                                                        | 28532.000000                                                        | 2.876100e+04                                                        | 2.892400e+04                                                        | 2.908200e+04                                                        | ⋯                                                                   |  4.405200e+04                                                       |  4.377800e+04                                                       |  4.357500e+04                                                       |  4.345600e+04                                                       |  4.339800e+04                                                       |  4.336500e+04                                                       |  4.333100e+04                                                       |  4.329600e+04                                                       | NA                                                                  | NA                                                                  |\n",
       "| Aruba                                                               | ABW                                                                 | Urban population growth (annual %)                                  | SP.URB.GROW                                                         |     3.117931                                                        |     2.209658                                                        |     1.379868                                                        | 7.994038e-01                                                        | 5.651398e-01                                                        | 5.447726e-01                                                        | ⋯                                                                   | -7.305493e-01                                                       | -6.239346e-01                                                       | -4.647817e-01                                                       | -2.734659e-01                                                       | -1.335575e-01                                                       | -7.606930e-02                                                       | -7.843500e-02                                                       | -8.080622e-02                                                       | NA                                                                  | NA                                                                  |\n",
       "| Aruba                                                               | ABW                                                                 | Population, total                                                   | SP.POP.TOTL                                                         | 54211.000000                                                        | 55438.000000                                                        | 56225.000000                                                        | 5.669500e+04                                                        | 5.703200e+04                                                        | 5.736000e+04                                                        | ⋯                                                                   |  1.014530e+05                                                       |  1.016690e+05                                                       |  1.020530e+05                                                       |  1.025770e+05                                                       |  1.031870e+05                                                       |  1.037950e+05                                                       |  1.043410e+05                                                       |  1.048220e+05                                                       | NA                                                                  | NA                                                                  |\n",
       "| Aruba                                                               | ABW                                                                 | Population growth (annual %)                                        | SP.POP.GROW                                                         |     3.148037                                                        |     2.238144                                                        |     1.409622                                                        | 8.324526e-01                                                        | 5.926490e-01                                                        | 5.734682e-01                                                        | ⋯                                                                   |  9.861642e-02                                                       |  2.126801e-01                                                       |  3.769848e-01                                                       |  5.121450e-01                                                       |  5.929140e-01                                                       |  5.874924e-01                                                       |  5.246582e-01                                                       |  4.599292e-01                                                       | NA                                                                  | NA                                                                  |\n",
       "| Aruba                                                               | ABW                                                                 | Poverty headcount ratio at $1.90 a day (2011 PPP) (% of population) | SI.POV.DDAY                                                         |           NA                                                        |           NA                                                        |           NA                                                        |           NA                                                        |           NA                                                        |           NA                                                        | ⋯                                                                   |            NA                                                       |            NA                                                       |            NA                                                       |            NA                                                       |            NA                                                       |            NA                                                       |            NA                                                       |            NA                                                       | NA                                                                  | NA                                                                  |\n",
       "\n"
      ],
      "text/plain": [
       "  Country.Name Country.Code\n",
       "1 Aruba        ABW         \n",
       "2 Aruba        ABW         \n",
       "3 Aruba        ABW         \n",
       "4 Aruba        ABW         \n",
       "5 Aruba        ABW         \n",
       "6 Aruba        ABW         \n",
       "  Indicator.Name                                                     \n",
       "1 Urban population (% of total)                                      \n",
       "2 Urban population                                                   \n",
       "3 Urban population growth (annual %)                                 \n",
       "4 Population, total                                                  \n",
       "5 Population growth (annual %)                                       \n",
       "6 Poverty headcount ratio at $1.90 a day (2011 PPP) (% of population)\n",
       "  Indicator.Code    1960         1961         1962         1963        \n",
       "1 SP.URB.TOTL.IN.ZS    50.776000    50.761000    50.746000 5.073000e+01\n",
       "2 SP.URB.TOTL       27526.000000 28141.000000 28532.000000 2.876100e+04\n",
       "3 SP.URB.GROW           3.117931     2.209658     1.379868 7.994038e-01\n",
       "4 SP.POP.TOTL       54211.000000 55438.000000 56225.000000 5.669500e+04\n",
       "5 SP.POP.GROW           3.148037     2.238144     1.409622 8.324526e-01\n",
       "6 SI.POV.DDAY                 NA           NA           NA           NA\n",
       "  1964         1965         ⋯ 2009          2010          2011         \n",
       "1 5.071500e+01 5.070000e+01 ⋯  4.342100e+01  4.305900e+01  4.269800e+01\n",
       "2 2.892400e+04 2.908200e+04 ⋯  4.405200e+04  4.377800e+04  4.357500e+04\n",
       "3 5.651398e-01 5.447726e-01 ⋯ -7.305493e-01 -6.239346e-01 -4.647817e-01\n",
       "4 5.703200e+04 5.736000e+04 ⋯  1.014530e+05  1.016690e+05  1.020530e+05\n",
       "5 5.926490e-01 5.734682e-01 ⋯  9.861642e-02  2.126801e-01  3.769848e-01\n",
       "6           NA           NA ⋯            NA            NA            NA\n",
       "  2012          2013          2014          2015          2016          2017   \n",
       "1  4.236400e+01  4.205800e+01  4.177900e+01  4.152800e+01  4.130400e+01 NA   NA\n",
       "2  4.345600e+04  4.339800e+04  4.336500e+04  4.333100e+04  4.329600e+04 NA   NA\n",
       "3 -2.734659e-01 -1.335575e-01 -7.606930e-02 -7.843500e-02 -8.080622e-02 NA   NA\n",
       "4  1.025770e+05  1.031870e+05  1.037950e+05  1.043410e+05  1.048220e+05 NA   NA\n",
       "5  5.121450e-01  5.929140e-01  5.874924e-01  5.246582e-01  4.599292e-01 NA   NA\n",
       "6            NA            NA            NA            NA            NA NA   NA"
      ]
     },
     "metadata": {},
     "output_type": "display_data"
    },
    {
     "data": {
      "text/html": [
       "<table>\n",
       "<thead><tr><th scope=col>INDICATOR_CODE</th><th scope=col>INDICATOR_NAME</th><th scope=col>SOURCE_NOTE</th><th scope=col>SOURCE_ORGANIZATION</th><th scope=col>X</th></tr></thead>\n",
       "<tbody>\n",
       "\t<tr><td>SP.URB.TOTL.IN.ZS                                                                                                                                                                                                                                                                                                                                                                                                                                                                       </td><td>Urban population (% of total)                                                                                                                                                                                                                                                                                                                                                                                                                                                           </td><td>Urban population refers to people living in urban areas as defined by national statistical offices. The data are collected and smoothed by United Nations Population Division.                                                                                                                                                                                                                                                                                                          </td><td>The United Nations Population Division's World Urbanization Prospects.                                                                                                                                                                                                                                                                                                                                                                                                                  </td><td>NA                                                                                                                                                                                                                                                                                                                                                                                                                                                                                      </td></tr>\n",
       "\t<tr><td>SP.URB.TOTL                                                                                                                                                                                                                                                                                                                                                                                                                                                                             </td><td>Urban population                                                                                                                                                                                                                                                                                                                                                                                                                                                                        </td><td>Urban population refers to people living in urban areas as defined by national statistical offices. It is calculated using World Bank population estimates and urban ratios from the United Nations World Urbanization Prospects. Aggregation of urban and rural population may not add up to total population because of different country coverages.                                                                                                                                  </td><td>World Bank staff estimates based on the United Nations Population Division's World Urbanization Prospects.                                                                                                                                                                                                                                                                                                                                                                              </td><td>NA                                                                                                                                                                                                                                                                                                                                                                                                                                                                                      </td></tr>\n",
       "\t<tr><td>SP.URB.GROW                                                                                                                                                                                                                                                                                                                                                                                                                                                                             </td><td>Urban population growth (annual %)                                                                                                                                                                                                                                                                                                                                                                                                                                                      </td><td>Urban population refers to people living in urban areas as defined by national statistical offices. It is calculated using World Bank population estimates and urban ratios from the United Nations World Urbanization Prospects.                                                                                                                                                                                                                                                       </td><td>World Bank Staff estimates based on United Nations, World Urbanization Prospects.                                                                                                                                                                                                                                                                                                                                                                                                       </td><td>NA                                                                                                                                                                                                                                                                                                                                                                                                                                                                                      </td></tr>\n",
       "\t<tr><td>SP.POP.TOTL                                                                                                                                                                                                                                                                                                                                                                                                                                                                             </td><td>Population, total                                                                                                                                                                                                                                                                                                                                                                                                                                                                       </td><td>Total population is based on the de facto definition of population, which counts all residents regardless of legal status or citizenship. The values shown are midyear estimates.                                                                                                                                                                                                                                                                                                       </td><td>(1) United Nations Population Division. World Population Prospects, (2) Census reports and other statistical publications from national statistical offices, (3) Eurostat: Demographic Statistics, (4) United Nations Statistical Division. Population and Vital Statistics Report (various years), (5) U.S. Census Bureau: International Database, and (6) Secretariat of the Pacific Community: Statistics and Demography Programme.                                                  </td><td>NA                                                                                                                                                                                                                                                                                                                                                                                                                                                                                      </td></tr>\n",
       "\t<tr><td>SP.POP.GROW                                                                                                                                                                                                                                                                                                                                                                                                                                                                             </td><td>Population growth (annual %)                                                                                                                                                                                                                                                                                                                                                                                                                                                            </td><td>Annual population growth rate for year t is the exponential rate of growth of midyear population from year t-1 to t, expressed as a percentage . Population is based on the de facto definition of population, which counts all residents regardless of legal status or citizenship.                                                                                                                                                                                                    </td><td>Derived from total population. Population source: (1) United Nations Population Division. World Population Prospects, (2) Census reports and other statistical publications from national statistical offices, (3) Eurostat: Demographic Statistics, (4) United Nations Statistical Division. Population and Vital Statistics Reprot (various years), (5) U.S. Census Bureau: International Database, and (6) Secretariat of the Pacific Community: Statistics and Demography Programme.</td><td>NA                                                                                                                                                                                                                                                                                                                                                                                                                                                                                      </td></tr>\n",
       "\t<tr><td>SI.POV.DDAY                                                                                                                                                                                                                                                                                                                                                                                                                                                                             </td><td>Poverty headcount ratio at $1.90 a day (2011 PPP) (% of population)                                                                                                                                                                                                                                                                                                                                                                                                                     </td><td>Poverty headcount ratio at $1.90 a day is the percentage of the population living on less than $1.90 a day at 2011 international prices. As a result of revisions in PPP exchange rates, poverty rates for individual countries cannot be compared with poverty rates reported in earlier editions.                                                                                                                                                                                     </td><td>World Bank, Development Research Group. Data are based on primary household survey data obtained from government statistical agencies and World Bank country departments. Data for high-income economies are from the Luxembourg Income Study database. For more information and methodology, please see PovcalNet (http://iresearch.worldbank.org/PovcalNet/index.htm).                                                                                                                </td><td>NA                                                                                                                                                                                                                                                                                                                                                                                                                                                                                      </td></tr>\n",
       "</tbody>\n",
       "</table>\n"
      ],
      "text/latex": [
       "\\begin{tabular}{r|lllll}\n",
       " INDICATOR\\_CODE & INDICATOR\\_NAME & SOURCE\\_NOTE & SOURCE\\_ORGANIZATION & X\\\\\n",
       "\\hline\n",
       "\t SP.URB.TOTL.IN.ZS                                                                                                                                                                                                                                                                                                                                                                                                                                                                        & Urban population (\\% of total)                                                                                                                                                                                                                                                                                                                                                                                                                                                          & Urban population refers to people living in urban areas as defined by national statistical offices. The data are collected and smoothed by United Nations Population Division.                                                                                                                                                                                                                                                                                                           & The United Nations Population Division's World Urbanization Prospects.                                                                                                                                                                                                                                                                                                                                                                                                                   & NA                                                                                                                                                                                                                                                                                                                                                                                                                                                                                      \\\\\n",
       "\t SP.URB.TOTL                                                                                                                                                                                                                                                                                                                                                                                                                                                                              & Urban population                                                                                                                                                                                                                                                                                                                                                                                                                                                                         & Urban population refers to people living in urban areas as defined by national statistical offices. It is calculated using World Bank population estimates and urban ratios from the United Nations World Urbanization Prospects. Aggregation of urban and rural population may not add up to total population because of different country coverages.                                                                                                                                   & World Bank staff estimates based on the United Nations Population Division's World Urbanization Prospects.                                                                                                                                                                                                                                                                                                                                                                               & NA                                                                                                                                                                                                                                                                                                                                                                                                                                                                                      \\\\\n",
       "\t SP.URB.GROW                                                                                                                                                                                                                                                                                                                                                                                                                                                                              & Urban population growth (annual \\%)                                                                                                                                                                                                                                                                                                                                                                                                                                                     & Urban population refers to people living in urban areas as defined by national statistical offices. It is calculated using World Bank population estimates and urban ratios from the United Nations World Urbanization Prospects.                                                                                                                                                                                                                                                        & World Bank Staff estimates based on United Nations, World Urbanization Prospects.                                                                                                                                                                                                                                                                                                                                                                                                        & NA                                                                                                                                                                                                                                                                                                                                                                                                                                                                                      \\\\\n",
       "\t SP.POP.TOTL                                                                                                                                                                                                                                                                                                                                                                                                                                                                              & Population, total                                                                                                                                                                                                                                                                                                                                                                                                                                                                        & Total population is based on the de facto definition of population, which counts all residents regardless of legal status or citizenship. The values shown are midyear estimates.                                                                                                                                                                                                                                                                                                        & (1) United Nations Population Division. World Population Prospects, (2) Census reports and other statistical publications from national statistical offices, (3) Eurostat: Demographic Statistics, (4) United Nations Statistical Division. Population and Vital Statistics Report (various years), (5) U.S. Census Bureau: International Database, and (6) Secretariat of the Pacific Community: Statistics and Demography Programme.                                                   & NA                                                                                                                                                                                                                                                                                                                                                                                                                                                                                      \\\\\n",
       "\t SP.POP.GROW                                                                                                                                                                                                                                                                                                                                                                                                                                                                              & Population growth (annual \\%)                                                                                                                                                                                                                                                                                                                                                                                                                                                           & Annual population growth rate for year t is the exponential rate of growth of midyear population from year t-1 to t, expressed as a percentage . Population is based on the de facto definition of population, which counts all residents regardless of legal status or citizenship.                                                                                                                                                                                                     & Derived from total population. Population source: (1) United Nations Population Division. World Population Prospects, (2) Census reports and other statistical publications from national statistical offices, (3) Eurostat: Demographic Statistics, (4) United Nations Statistical Division. Population and Vital Statistics Reprot (various years), (5) U.S. Census Bureau: International Database, and (6) Secretariat of the Pacific Community: Statistics and Demography Programme. & NA                                                                                                                                                                                                                                                                                                                                                                                                                                                                                      \\\\\n",
       "\t SI.POV.DDAY                                                                                                                                                                                                                                                                                                                                                                                                                                                                              & Poverty headcount ratio at \\$1.90 a day (2011 PPP) (\\% of population)                                                                                                                                                                                                                                                                                                                                                                                                                  & Poverty headcount ratio at \\$1.90 a day is the percentage of the population living on less than \\$1.90 a day at 2011 international prices. As a result of revisions in PPP exchange rates, poverty rates for individual countries cannot be compared with poverty rates reported in earlier editions.                                                                                                                                                                                  & World Bank, Development Research Group. Data are based on primary household survey data obtained from government statistical agencies and World Bank country departments. Data for high-income economies are from the Luxembourg Income Study database. For more information and methodology, please see PovcalNet (http://iresearch.worldbank.org/PovcalNet/index.htm).                                                                                                                 & NA                                                                                                                                                                                                                                                                                                                                                                                                                                                                                      \\\\\n",
       "\\end{tabular}\n"
      ],
      "text/markdown": [
       "\n",
       "| INDICATOR_CODE | INDICATOR_NAME | SOURCE_NOTE | SOURCE_ORGANIZATION | X |\n",
       "|---|---|---|---|---|\n",
       "| SP.URB.TOTL.IN.ZS                                                                                                                                                                                                                                                                                                                                                                                                                                                                        | Urban population (% of total)                                                                                                                                                                                                                                                                                                                                                                                                                                                            | Urban population refers to people living in urban areas as defined by national statistical offices. The data are collected and smoothed by United Nations Population Division.                                                                                                                                                                                                                                                                                                           | The United Nations Population Division's World Urbanization Prospects.                                                                                                                                                                                                                                                                                                                                                                                                                   | NA                                                                                                                                                                                                                                                                                                                                                                                                                                                                                       |\n",
       "| SP.URB.TOTL                                                                                                                                                                                                                                                                                                                                                                                                                                                                              | Urban population                                                                                                                                                                                                                                                                                                                                                                                                                                                                         | Urban population refers to people living in urban areas as defined by national statistical offices. It is calculated using World Bank population estimates and urban ratios from the United Nations World Urbanization Prospects. Aggregation of urban and rural population may not add up to total population because of different country coverages.                                                                                                                                   | World Bank staff estimates based on the United Nations Population Division's World Urbanization Prospects.                                                                                                                                                                                                                                                                                                                                                                               | NA                                                                                                                                                                                                                                                                                                                                                                                                                                                                                       |\n",
       "| SP.URB.GROW                                                                                                                                                                                                                                                                                                                                                                                                                                                                              | Urban population growth (annual %)                                                                                                                                                                                                                                                                                                                                                                                                                                                       | Urban population refers to people living in urban areas as defined by national statistical offices. It is calculated using World Bank population estimates and urban ratios from the United Nations World Urbanization Prospects.                                                                                                                                                                                                                                                        | World Bank Staff estimates based on United Nations, World Urbanization Prospects.                                                                                                                                                                                                                                                                                                                                                                                                        | NA                                                                                                                                                                                                                                                                                                                                                                                                                                                                                       |\n",
       "| SP.POP.TOTL                                                                                                                                                                                                                                                                                                                                                                                                                                                                              | Population, total                                                                                                                                                                                                                                                                                                                                                                                                                                                                        | Total population is based on the de facto definition of population, which counts all residents regardless of legal status or citizenship. The values shown are midyear estimates.                                                                                                                                                                                                                                                                                                        | (1) United Nations Population Division. World Population Prospects, (2) Census reports and other statistical publications from national statistical offices, (3) Eurostat: Demographic Statistics, (4) United Nations Statistical Division. Population and Vital Statistics Report (various years), (5) U.S. Census Bureau: International Database, and (6) Secretariat of the Pacific Community: Statistics and Demography Programme.                                                   | NA                                                                                                                                                                                                                                                                                                                                                                                                                                                                                       |\n",
       "| SP.POP.GROW                                                                                                                                                                                                                                                                                                                                                                                                                                                                              | Population growth (annual %)                                                                                                                                                                                                                                                                                                                                                                                                                                                             | Annual population growth rate for year t is the exponential rate of growth of midyear population from year t-1 to t, expressed as a percentage . Population is based on the de facto definition of population, which counts all residents regardless of legal status or citizenship.                                                                                                                                                                                                     | Derived from total population. Population source: (1) United Nations Population Division. World Population Prospects, (2) Census reports and other statistical publications from national statistical offices, (3) Eurostat: Demographic Statistics, (4) United Nations Statistical Division. Population and Vital Statistics Reprot (various years), (5) U.S. Census Bureau: International Database, and (6) Secretariat of the Pacific Community: Statistics and Demography Programme. | NA                                                                                                                                                                                                                                                                                                                                                                                                                                                                                       |\n",
       "| SI.POV.DDAY                                                                                                                                                                                                                                                                                                                                                                                                                                                                              | Poverty headcount ratio at $1.90 a day (2011 PPP) (% of population)                                                                                                                                                                                                                                                                                                                                                                                                                      | Poverty headcount ratio at $1.90 a day is the percentage of the population living on less than $1.90 a day at 2011 international prices. As a result of revisions in PPP exchange rates, poverty rates for individual countries cannot be compared with poverty rates reported in earlier editions.                                                                                                                                                                                      | World Bank, Development Research Group. Data are based on primary household survey data obtained from government statistical agencies and World Bank country departments. Data for high-income economies are from the Luxembourg Income Study database. For more information and methodology, please see PovcalNet (http://iresearch.worldbank.org/PovcalNet/index.htm).                                                                                                                 | NA                                                                                                                                                                                                                                                                                                                                                                                                                                                                                       |\n",
       "\n"
      ],
      "text/plain": [
       "  INDICATOR_CODE   \n",
       "1 SP.URB.TOTL.IN.ZS\n",
       "2 SP.URB.TOTL      \n",
       "3 SP.URB.GROW      \n",
       "4 SP.POP.TOTL      \n",
       "5 SP.POP.GROW      \n",
       "6 SI.POV.DDAY      \n",
       "  INDICATOR_NAME                                                     \n",
       "1 Urban population (% of total)                                      \n",
       "2 Urban population                                                   \n",
       "3 Urban population growth (annual %)                                 \n",
       "4 Population, total                                                  \n",
       "5 Population growth (annual %)                                       \n",
       "6 Poverty headcount ratio at $1.90 a day (2011 PPP) (% of population)\n",
       "  SOURCE_NOTE                                                                                                                                                                                                                                                                                                                                           \n",
       "1 Urban population refers to people living in urban areas as defined by national statistical offices. The data are collected and smoothed by United Nations Population Division.                                                                                                                                                                        \n",
       "2 Urban population refers to people living in urban areas as defined by national statistical offices. It is calculated using World Bank population estimates and urban ratios from the United Nations World Urbanization Prospects. Aggregation of urban and rural population may not add up to total population because of different country coverages.\n",
       "3 Urban population refers to people living in urban areas as defined by national statistical offices. It is calculated using World Bank population estimates and urban ratios from the United Nations World Urbanization Prospects.                                                                                                                     \n",
       "4 Total population is based on the de facto definition of population, which counts all residents regardless of legal status or citizenship. The values shown are midyear estimates.                                                                                                                                                                     \n",
       "5 Annual population growth rate for year t is the exponential rate of growth of midyear population from year t-1 to t, expressed as a percentage . Population is based on the de facto definition of population, which counts all residents regardless of legal status or citizenship.                                                                  \n",
       "6 Poverty headcount ratio at $1.90 a day is the percentage of the population living on less than $1.90 a day at 2011 international prices. As a result of revisions in PPP exchange rates, poverty rates for individual countries cannot be compared with poverty rates reported in earlier editions.                                                   \n",
       "  SOURCE_ORGANIZATION                                                                                                                                                                                                                                                                                                                                                                                                                                                                     \n",
       "1 The United Nations Population Division's World Urbanization Prospects.                                                                                                                                                                                                                                                                                                                                                                                                                  \n",
       "2 World Bank staff estimates based on the United Nations Population Division's World Urbanization Prospects.                                                                                                                                                                                                                                                                                                                                                                              \n",
       "3 World Bank Staff estimates based on United Nations, World Urbanization Prospects.                                                                                                                                                                                                                                                                                                                                                                                                       \n",
       "4 (1) United Nations Population Division. World Population Prospects, (2) Census reports and other statistical publications from national statistical offices, (3) Eurostat: Demographic Statistics, (4) United Nations Statistical Division. Population and Vital Statistics Report (various years), (5) U.S. Census Bureau: International Database, and (6) Secretariat of the Pacific Community: Statistics and Demography Programme.                                                  \n",
       "5 Derived from total population. Population source: (1) United Nations Population Division. World Population Prospects, (2) Census reports and other statistical publications from national statistical offices, (3) Eurostat: Demographic Statistics, (4) United Nations Statistical Division. Population and Vital Statistics Reprot (various years), (5) U.S. Census Bureau: International Database, and (6) Secretariat of the Pacific Community: Statistics and Demography Programme.\n",
       "6 World Bank, Development Research Group. Data are based on primary household survey data obtained from government statistical agencies and World Bank country departments. Data for high-income economies are from the Luxembourg Income Study database. For more information and methodology, please see PovcalNet (http://iresearch.worldbank.org/PovcalNet/index.htm).                                                                                                                \n",
       "  X \n",
       "1 NA\n",
       "2 NA\n",
       "3 NA\n",
       "4 NA\n",
       "5 NA\n",
       "6 NA"
      ]
     },
     "metadata": {},
     "output_type": "display_data"
    },
    {
     "data": {
      "text/html": [
       "<table>\n",
       "<thead><tr><th></th><th scope=col>Country.Code</th><th scope=col>Region</th><th scope=col>IncomeGroup</th><th scope=col>SpecialNotes</th><th scope=col>TableName</th><th scope=col>X</th></tr></thead>\n",
       "<tbody>\n",
       "\t<tr><th scope=row>ABW</th><td>ABW                                                                                                                                                                                                                                                                                                                                                           </td><td>Latin America &amp; Caribbean                                                                                                                                                                                                                                                                                                                                 </td><td><span style=white-space:pre-wrap>High income        </span>                                                                                                                                                                                                                                                                                                   </td><td><span style=white-space:pre-wrap>SNA data for 2000-2011 are updated from official government statistics; 1994-1999 from UN databases. Base year has changed from 1995 to 2000.                                                                                                                                                                         </span></td><td><span style=white-space:pre-wrap>Aruba               </span>                                                                                                                                                                                                                                                                                                  </td><td>NA                                                                                                                                                                                                                                                                                                                                                            </td></tr>\n",
       "\t<tr><th scope=row>AFG</th><td>AFG                                                                                                                                                                                                                                                                                                                   </td><td>South Asia                                                                                                                                                                                                                                                                                                            </td><td>Low income                                                                                                                                                                                                                                                                                                            </td><td>Fiscal year end: March 20; reporting period for national accounts data is calendar year, estimated to insure consistency between national accounts and fiscal data. National accounts data are sourced from the IMF and differ from the Central Statistics Organization numbers due to exclusion of the opium economy.</td><td>Afghanistan                                                                                                                                                                                                                                                                                                           </td><td>NA                                                                                                                                                                                                                                                                                                                    </td></tr>\n",
       "\t<tr><th scope=row>AGO</th><td>AGO                                                                                                                                                                                                                                                                                                                   </td><td>Sub-Saharan Africa                                                                                                                                                                                                                                                                                                    </td><td>Lower middle income                                                                                                                                                                                                                                                                                                   </td><td>                                                                                                                                                                                                                                                                                                                      </td><td>Angola                                                                                                                                                                                                                                                                                                                </td><td>NA                                                                                                                                                                                                                                                                                                                    </td></tr>\n",
       "\t<tr><th scope=row>ALB</th><td>ALB                                                                                                                                                                                                                                                                                                                                                           </td><td><span style=white-space:pre-wrap>Europe &amp; Central Asia     </span>                                                                                                                                                                                                                                                                                        </td><td>Upper middle income                                                                                                                                                                                                                                                                                                                                           </td><td><span style=white-space:pre-wrap>                                                                                                                                                                                                                                                                                                                      </span></td><td><span style=white-space:pre-wrap>Albania             </span>                                                                                                                                                                                                                                                                                                  </td><td>NA                                                                                                                                                                                                                                                                                                                                                            </td></tr>\n",
       "\t<tr><th scope=row>AND</th><td>AND                                                                                                                                                                                                                                                                                                                                                           </td><td><span style=white-space:pre-wrap>Europe &amp; Central Asia     </span>                                                                                                                                                                                                                                                                                        </td><td><span style=white-space:pre-wrap>High income        </span>                                                                                                                                                                                                                                                                                                   </td><td><span style=white-space:pre-wrap>WB-3 code changed from ADO to AND to align with ISO code.                                                                                                                                                                                                                                                             </span></td><td><span style=white-space:pre-wrap>Andorra             </span>                                                                                                                                                                                                                                                                                                  </td><td>NA                                                                                                                                                                                                                                                                                                                                                            </td></tr>\n",
       "\t<tr><th scope=row>ARE</th><td>ARE                                                                                                                                                                                                                                                                                                                                                           </td><td>Middle East &amp; North Africa                                                                                                                                                                                                                                                                                                                                </td><td><span style=white-space:pre-wrap>High income        </span>                                                                                                                                                                                                                                                                                                   </td><td><span style=white-space:pre-wrap>                                                                                                                                                                                                                                                                                                                      </span></td><td>United Arab Emirates                                                                                                                                                                                                                                                                                                                                          </td><td>NA                                                                                                                                                                                                                                                                                                                                                            </td></tr>\n",
       "</tbody>\n",
       "</table>\n"
      ],
      "text/latex": [
       "\\begin{tabular}{r|llllll}\n",
       "  & Country.Code & Region & IncomeGroup & SpecialNotes & TableName & X\\\\\n",
       "\\hline\n",
       "\tABW & ABW                                                                                                                                                                                                                                                                                                                    & Latin America \\& Caribbean                                                                                                                                                                                                                                                                                            & High income                                                                                                                                                                                                                                                                                                            & SNA data for 2000-2011 are updated from official government statistics; 1994-1999 from UN databases. Base year has changed from 1995 to 2000.                                                                                                                                                                          & Aruba                                                                                                                                                                                                                                                                                                                  & NA                                                                                                                                                                                                                                                                                                                    \\\\\n",
       "\tAFG & AFG                                                                                                                                                                                                                                                                                                                    & South Asia                                                                                                                                                                                                                                                                                                             & Low income                                                                                                                                                                                                                                                                                                             & Fiscal year end: March 20; reporting period for national accounts data is calendar year, estimated to insure consistency between national accounts and fiscal data. National accounts data are sourced from the IMF and differ from the Central Statistics Organization numbers due to exclusion of the opium economy. & Afghanistan                                                                                                                                                                                                                                                                                                            & NA                                                                                                                                                                                                                                                                                                                    \\\\\n",
       "\tAGO & AGO                                                                                                                                                                                                                                                                                                                    & Sub-Saharan Africa                                                                                                                                                                                                                                                                                                     & Lower middle income                                                                                                                                                                                                                                                                                                    &                                                                                                                                                                                                                                                                                                                        & Angola                                                                                                                                                                                                                                                                                                                 & NA                                                                                                                                                                                                                                                                                                                    \\\\\n",
       "\tALB & ALB                                                                                                                                                                                                                                                                                                                    & Europe \\& Central Asia                                                                                                                                                                                                                                                                                                & Upper middle income                                                                                                                                                                                                                                                                                                    &                                                                                                                                                                                                                                                                                                                        & Albania                                                                                                                                                                                                                                                                                                                & NA                                                                                                                                                                                                                                                                                                                    \\\\\n",
       "\tAND & AND                                                                                                                                                                                                                                                                                                                    & Europe \\& Central Asia                                                                                                                                                                                                                                                                                                & High income                                                                                                                                                                                                                                                                                                            & WB-3 code changed from ADO to AND to align with ISO code.                                                                                                                                                                                                                                                              & Andorra                                                                                                                                                                                                                                                                                                                & NA                                                                                                                                                                                                                                                                                                                    \\\\\n",
       "\tARE & ARE                                                                                                                                                                                                                                                                                                                    & Middle East \\& North Africa                                                                                                                                                                                                                                                                                           & High income                                                                                                                                                                                                                                                                                                            &                                                                                                                                                                                                                                                                                                                        & United Arab Emirates                                                                                                                                                                                                                                                                                                   & NA                                                                                                                                                                                                                                                                                                                    \\\\\n",
       "\\end{tabular}\n"
      ],
      "text/markdown": [
       "\n",
       "| <!--/--> | Country.Code | Region | IncomeGroup | SpecialNotes | TableName | X |\n",
       "|---|---|---|---|---|---|---|\n",
       "| ABW | ABW                                                                                                                                                                                                                                                                                                                    | Latin America & Caribbean                                                                                                                                                                                                                                                                                              | High income                                                                                                                                                                                                                                                                                                            | SNA data for 2000-2011 are updated from official government statistics; 1994-1999 from UN databases. Base year has changed from 1995 to 2000.                                                                                                                                                                          | Aruba                                                                                                                                                                                                                                                                                                                  | NA                                                                                                                                                                                                                                                                                                                     |\n",
       "| AFG | AFG                                                                                                                                                                                                                                                                                                                    | South Asia                                                                                                                                                                                                                                                                                                             | Low income                                                                                                                                                                                                                                                                                                             | Fiscal year end: March 20; reporting period for national accounts data is calendar year, estimated to insure consistency between national accounts and fiscal data. National accounts data are sourced from the IMF and differ from the Central Statistics Organization numbers due to exclusion of the opium economy. | Afghanistan                                                                                                                                                                                                                                                                                                            | NA                                                                                                                                                                                                                                                                                                                     |\n",
       "| AGO | AGO                                                                                                                                                                                                                                                                                                                    | Sub-Saharan Africa                                                                                                                                                                                                                                                                                                     | Lower middle income                                                                                                                                                                                                                                                                                                    |                                                                                                                                                                                                                                                                                                                        | Angola                                                                                                                                                                                                                                                                                                                 | NA                                                                                                                                                                                                                                                                                                                     |\n",
       "| ALB | ALB                                                                                                                                                                                                                                                                                                                    | Europe & Central Asia                                                                                                                                                                                                                                                                                                  | Upper middle income                                                                                                                                                                                                                                                                                                    |                                                                                                                                                                                                                                                                                                                        | Albania                                                                                                                                                                                                                                                                                                                | NA                                                                                                                                                                                                                                                                                                                     |\n",
       "| AND | AND                                                                                                                                                                                                                                                                                                                    | Europe & Central Asia                                                                                                                                                                                                                                                                                                  | High income                                                                                                                                                                                                                                                                                                            | WB-3 code changed from ADO to AND to align with ISO code.                                                                                                                                                                                                                                                              | Andorra                                                                                                                                                                                                                                                                                                                | NA                                                                                                                                                                                                                                                                                                                     |\n",
       "| ARE | ARE                                                                                                                                                                                                                                                                                                                    | Middle East & North Africa                                                                                                                                                                                                                                                                                             | High income                                                                                                                                                                                                                                                                                                            |                                                                                                                                                                                                                                                                                                                        | United Arab Emirates                                                                                                                                                                                                                                                                                                   | NA                                                                                                                                                                                                                                                                                                                     |\n",
       "\n"
      ],
      "text/plain": [
       "    Country.Code Region                     IncomeGroup        \n",
       "ABW ABW          Latin America & Caribbean  High income        \n",
       "AFG AFG          South Asia                 Low income         \n",
       "AGO AGO          Sub-Saharan Africa         Lower middle income\n",
       "ALB ALB          Europe & Central Asia      Upper middle income\n",
       "AND AND          Europe & Central Asia      High income        \n",
       "ARE ARE          Middle East & North Africa High income        \n",
       "    SpecialNotes                                                                                                                                                                                                                                                                                                          \n",
       "ABW SNA data for 2000-2011 are updated from official government statistics; 1994-1999 from UN databases. Base year has changed from 1995 to 2000.                                                                                                                                                                         \n",
       "AFG Fiscal year end: March 20; reporting period for national accounts data is calendar year, estimated to insure consistency between national accounts and fiscal data. National accounts data are sourced from the IMF and differ from the Central Statistics Organization numbers due to exclusion of the opium economy.\n",
       "AGO                                                                                                                                                                                                                                                                                                                       \n",
       "ALB                                                                                                                                                                                                                                                                                                                       \n",
       "AND WB-3 code changed from ADO to AND to align with ISO code.                                                                                                                                                                                                                                                             \n",
       "ARE                                                                                                                                                                                                                                                                                                                       \n",
       "    TableName            X \n",
       "ABW Aruba                NA\n",
       "AFG Afghanistan          NA\n",
       "AGO Angola               NA\n",
       "ALB Albania              NA\n",
       "AND Andorra              NA\n",
       "ARE United Arab Emirates NA"
      ]
     },
     "metadata": {},
     "output_type": "display_data"
    }
   ],
   "source": [
    "head(databank)\n",
    "head(indicators)\n",
    "head(realCountryData)"
   ]
  },
  {
   "cell_type": "markdown",
   "metadata": {},
   "source": [
    "¿Cual fue el país que más toneladas de CO2 equivalente emitió en 1970 (Mostrar *Country.Name*)?\n",
    "¿Cuanto contaminó?\n",
    "\n",
    "Hay una dataframe con la lista de pasises en *realCountryData*\n",
    "El número de toneladas de CO2 equivalente viene dado por el Indicator.Code *\"EN.ATM.GHGT.KT.CE\"*\n"
   ]
  },
  {
   "cell_type": "code",
   "execution_count": 11,
   "metadata": {},
   "outputs": [
    {
     "data": {
      "text/html": [
       "<ol class=list-inline>\n",
       "\t<li>42.3062976</li>\n",
       "\t<li>14306.6163</li>\n",
       "\t<li>60648.60108</li>\n",
       "\t<li>6960.8682</li>\n",
       "\t<li>&lt;NA&gt;</li>\n",
       "\t<li>32962.18941</li>\n",
       "</ol>\n"
      ],
      "text/latex": [
       "\\begin{enumerate*}\n",
       "\\item 42.3062976\n",
       "\\item 14306.6163\n",
       "\\item 60648.60108\n",
       "\\item 6960.8682\n",
       "\\item <NA>\n",
       "\\item 32962.18941\n",
       "\\end{enumerate*}\n"
      ],
      "text/markdown": [
       "1. 42.3062976\n",
       "2. 14306.6163\n",
       "3. 60648.60108\n",
       "4. 6960.8682\n",
       "5. &lt;NA&gt;\n",
       "6. 32962.18941\n",
       "\n",
       "\n"
      ],
      "text/plain": [
       "[1]    42.3063 14306.6163 60648.6011  6960.8682         NA 32962.1894"
      ]
     },
     "metadata": {},
     "output_type": "display_data"
    },
    {
     "data": {
      "text/html": [
       "'El pais que mas a toneladas de CO2 ha emitido en 1979 fue United States con un total de 5400503.5 toledas de CO2'"
      ],
      "text/latex": [
       "'El pais que mas a toneladas de CO2 ha emitido en 1979 fue United States con un total de 5400503.5 toledas de CO2'"
      ],
      "text/markdown": [
       "'El pais que mas a toneladas de CO2 ha emitido en 1979 fue United States con un total de 5400503.5 toledas de CO2'"
      ],
      "text/plain": [
       "[1] \"El pais que mas a toneladas de CO2 ha emitido en 1979 fue United States con un total de 5400503.5 toledas de CO2\""
      ]
     },
     "metadata": {},
     "output_type": "display_data"
    }
   ],
   "source": [
    "# hay que hacer merge con la función merge o con %in%\n",
    "\n",
    "#hacemos un merge de databank y de countryData \n",
    "df_bank_country <- merge(databank, realCountryData, by = \"Country.Code\", all = F)\n",
    "\n",
    "# creamos un nuevo data frame filtrando por el Indicator.Code = EN.ATM.GHGT.KT.CE\n",
    "df_CO2 <- df_bank_country[df_bank_country$Indicator.Code == \"EN.ATM.GHGT.KT.CE\", c(\"Country.Name\", \"Country.Code\", \"1970\", \"2012\")]\n",
    "#head(df_CO2)\n",
    "\n",
    "#df_maxCO2 <- df_CO2[which(max(df_CO2[,1], na.rm = T) == df_CO2[,1]),]\n",
    "head(df_CO2[,3])\n",
    "df_pais_max_CO2 <- df_CO2[which.max(df_CO2[,3]),]\n",
    "paste(\"El pais que mas a toneladas de CO2 ha emitido en 1979 fue\", df_pais_max_CO2$Country.Name, \"con un total de\", df_pais_max_CO2[,3], \"toledas de CO2\")"
   ]
  },
  {
   "cell_type": "markdown",
   "metadata": {},
   "source": [
    "¿Cuales fueron los 5 países que más toneladas de CO2 equivalente emitieron en 2012? ¿Cuantas kt emitieron?"
   ]
  },
  {
   "cell_type": "code",
   "execution_count": 16,
   "metadata": {},
   "outputs": [
    {
     "data": {
      "text/html": [
       "<table>\n",
       "<thead><tr><th></th><th scope=col>Country.Name</th><th scope=col>Country.Code</th><th scope=col>1970</th><th scope=col>2012</th></tr></thead>\n",
       "<tbody>\n",
       "\t<tr><th scope=row>2905</th><td>China             </td><td>CHN               </td><td>1873971.7         </td><td>12454711          </td></tr>\n",
       "\t<tr><th scope=row>16280</th><td>United States     </td><td>USA               </td><td>5400503.5         </td><td> 6343841          </td></tr>\n",
       "\t<tr><th scope=row>7149</th><td>India             </td><td>IND               </td><td> 746498.1         </td><td> 3002895          </td></tr>\n",
       "\t<tr><th scope=row>2098</th><td>Brazil            </td><td>BRA               </td><td>1260982.1         </td><td> 2989418          </td></tr>\n",
       "\t<tr><th scope=row>13246</th><td>Russian Federation</td><td>RUS               </td><td>2240873.0         </td><td> 2803398          </td></tr>\n",
       "</tbody>\n",
       "</table>\n"
      ],
      "text/latex": [
       "\\begin{tabular}{r|llll}\n",
       "  & Country.Name & Country.Code & 1970 & 2012\\\\\n",
       "\\hline\n",
       "\t2905 & China              & CHN                & 1873971.7          & 12454711          \\\\\n",
       "\t16280 & United States      & USA                & 5400503.5          &  6343841          \\\\\n",
       "\t7149 & India              & IND                &  746498.1          &  3002895          \\\\\n",
       "\t2098 & Brazil             & BRA                & 1260982.1          &  2989418          \\\\\n",
       "\t13246 & Russian Federation & RUS                & 2240873.0          &  2803398          \\\\\n",
       "\\end{tabular}\n"
      ],
      "text/markdown": [
       "\n",
       "| <!--/--> | Country.Name | Country.Code | 1970 | 2012 |\n",
       "|---|---|---|---|---|\n",
       "| 2905 | China              | CHN                | 1873971.7          | 12454711           |\n",
       "| 16280 | United States      | USA                | 5400503.5          |  6343841           |\n",
       "| 7149 | India              | IND                |  746498.1          |  3002895           |\n",
       "| 2098 | Brazil             | BRA                | 1260982.1          |  2989418           |\n",
       "| 13246 | Russian Federation | RUS                | 2240873.0          |  2803398           |\n",
       "\n"
      ],
      "text/plain": [
       "      Country.Name       Country.Code 1970      2012    \n",
       "2905  China              CHN          1873971.7 12454711\n",
       "16280 United States      USA          5400503.5  6343841\n",
       "7149  India              IND           746498.1  3002895\n",
       "2098  Brazil             BRA          1260982.1  2989418\n",
       "13246 Russian Federation RUS          2240873.0  2803398"
      ]
     },
     "metadata": {},
     "output_type": "display_data"
    },
    {
     "data": {
      "text/html": [
       "'Los 5 paises que mas CO2 has emitido en 2012 son:'"
      ],
      "text/latex": [
       "'Los 5 paises que mas CO2 has emitido en 2012 son:'"
      ],
      "text/markdown": [
       "'Los 5 paises que mas CO2 has emitido en 2012 son:'"
      ],
      "text/plain": [
       "[1] \"Los 5 paises que mas CO2 has emitido en 2012 son:\""
      ]
     },
     "metadata": {},
     "output_type": "display_data"
    },
    {
     "data": {
      "text/html": [
       "<ol class=list-inline>\n",
       "\t<li>China</li>\n",
       "\t<li>United States</li>\n",
       "\t<li>India</li>\n",
       "\t<li>Brazil</li>\n",
       "\t<li>Russian Federation</li>\n",
       "</ol>\n",
       "\n",
       "<details>\n",
       "\t<summary style=display:list-item;cursor:pointer>\n",
       "\t\t<strong>Levels</strong>:\n",
       "\t</summary>\n",
       "\t<ol class=list-inline>\n",
       "\t\t<li>'Afghanistan'</li>\n",
       "\t\t<li>'Albania'</li>\n",
       "\t\t<li>'Algeria'</li>\n",
       "\t\t<li>'American Samoa'</li>\n",
       "\t\t<li>'Andorra'</li>\n",
       "\t\t<li>'Angola'</li>\n",
       "\t\t<li>'Antigua and Barbuda'</li>\n",
       "\t\t<li>'Arab World'</li>\n",
       "\t\t<li>'Argentina'</li>\n",
       "\t\t<li>'Armenia'</li>\n",
       "\t\t<li>'Aruba'</li>\n",
       "\t\t<li>'Australia'</li>\n",
       "\t\t<li>'Austria'</li>\n",
       "\t\t<li>'Azerbaijan'</li>\n",
       "\t\t<li>'Bahamas, The'</li>\n",
       "\t\t<li>'Bahrain'</li>\n",
       "\t\t<li>'Bangladesh'</li>\n",
       "\t\t<li>'Barbados'</li>\n",
       "\t\t<li>'Belarus'</li>\n",
       "\t\t<li>'Belgium'</li>\n",
       "\t\t<li>'Belize'</li>\n",
       "\t\t<li>'Benin'</li>\n",
       "\t\t<li>'Bermuda'</li>\n",
       "\t\t<li>'Bhutan'</li>\n",
       "\t\t<li>'Bolivia'</li>\n",
       "\t\t<li>'Bosnia and Herzegovina'</li>\n",
       "\t\t<li>'Botswana'</li>\n",
       "\t\t<li>'Brazil'</li>\n",
       "\t\t<li>'British Virgin Islands'</li>\n",
       "\t\t<li>'Brunei Darussalam'</li>\n",
       "\t\t<li>'Bulgaria'</li>\n",
       "\t\t<li>'Burkina Faso'</li>\n",
       "\t\t<li>'Burundi'</li>\n",
       "\t\t<li>'Cabo Verde'</li>\n",
       "\t\t<li>'Cambodia'</li>\n",
       "\t\t<li>'Cameroon'</li>\n",
       "\t\t<li>'Canada'</li>\n",
       "\t\t<li>'Caribbean small states'</li>\n",
       "\t\t<li>'Cayman Islands'</li>\n",
       "\t\t<li>'Central African Republic'</li>\n",
       "\t\t<li>'Central Europe and the Baltics'</li>\n",
       "\t\t<li>'Chad'</li>\n",
       "\t\t<li>'Channel Islands'</li>\n",
       "\t\t<li>'Chile'</li>\n",
       "\t\t<li>'China'</li>\n",
       "\t\t<li>'Colombia'</li>\n",
       "\t\t<li>'Comoros'</li>\n",
       "\t\t<li>'Congo, Dem. Rep.'</li>\n",
       "\t\t<li>'Congo, Rep.'</li>\n",
       "\t\t<li>'Costa Rica'</li>\n",
       "\t\t<li>'Cote d\\'Ivoire'</li>\n",
       "\t\t<li>'Croatia'</li>\n",
       "\t\t<li>'Cuba'</li>\n",
       "\t\t<li>'Curacao'</li>\n",
       "\t\t<li>'Cyprus'</li>\n",
       "\t\t<li>'Czech Republic'</li>\n",
       "\t\t<li>'Denmark'</li>\n",
       "\t\t<li>'Djibouti'</li>\n",
       "\t\t<li>'Dominica'</li>\n",
       "\t\t<li>'Dominican Republic'</li>\n",
       "\t\t<li>'Early-demographic dividend'</li>\n",
       "\t\t<li>'East Asia &amp; Pacific'</li>\n",
       "\t\t<li>'East Asia &amp; Pacific (excluding high income)'</li>\n",
       "\t\t<li>'East Asia &amp; Pacific (IDA &amp; IBRD countries)'</li>\n",
       "\t\t<li>'Ecuador'</li>\n",
       "\t\t<li>'Egypt, Arab Rep.'</li>\n",
       "\t\t<li>'El Salvador'</li>\n",
       "\t\t<li>'Equatorial Guinea'</li>\n",
       "\t\t<li>'Eritrea'</li>\n",
       "\t\t<li>'Estonia'</li>\n",
       "\t\t<li>'Ethiopia'</li>\n",
       "\t\t<li>'Euro area'</li>\n",
       "\t\t<li>'Europe &amp; Central Asia'</li>\n",
       "\t\t<li>'Europe &amp; Central Asia (excluding high income)'</li>\n",
       "\t\t<li>'Europe &amp; Central Asia (IDA &amp; IBRD countries)'</li>\n",
       "\t\t<li>'European Union'</li>\n",
       "\t\t<li>'Faroe Islands'</li>\n",
       "\t\t<li>'Fiji'</li>\n",
       "\t\t<li>'Finland'</li>\n",
       "\t\t<li>'Fragile and conflict affected situations'</li>\n",
       "\t\t<li>'France'</li>\n",
       "\t\t<li>'French Polynesia'</li>\n",
       "\t\t<li>'Gabon'</li>\n",
       "\t\t<li>'Gambia, The'</li>\n",
       "\t\t<li>'Georgia'</li>\n",
       "\t\t<li>'Germany'</li>\n",
       "\t\t<li>'Ghana'</li>\n",
       "\t\t<li>'Gibraltar'</li>\n",
       "\t\t<li>'Greece'</li>\n",
       "\t\t<li>'Greenland'</li>\n",
       "\t\t<li>'Grenada'</li>\n",
       "\t\t<li>'Guam'</li>\n",
       "\t\t<li>'Guatemala'</li>\n",
       "\t\t<li>'Guinea'</li>\n",
       "\t\t<li>'Guinea-Bissau'</li>\n",
       "\t\t<li>'Guyana'</li>\n",
       "\t\t<li>'Haiti'</li>\n",
       "\t\t<li>'Heavily indebted poor countries (HIPC)'</li>\n",
       "\t\t<li>'High income'</li>\n",
       "\t\t<li>'Honduras'</li>\n",
       "\t\t<li>'Hong Kong SAR, China'</li>\n",
       "\t\t<li>'Hungary'</li>\n",
       "\t\t<li>'IBRD only'</li>\n",
       "\t\t<li>'Iceland'</li>\n",
       "\t\t<li>'IDA &amp; IBRD total'</li>\n",
       "\t\t<li>'IDA blend'</li>\n",
       "\t\t<li>'IDA only'</li>\n",
       "\t\t<li>'IDA total'</li>\n",
       "\t\t<li>'India'</li>\n",
       "\t\t<li>'Indonesia'</li>\n",
       "\t\t<li>'Iran, Islamic Rep.'</li>\n",
       "\t\t<li>'Iraq'</li>\n",
       "\t\t<li>'Ireland'</li>\n",
       "\t\t<li>'Isle of Man'</li>\n",
       "\t\t<li>'Israel'</li>\n",
       "\t\t<li>'Italy'</li>\n",
       "\t\t<li>'Jamaica'</li>\n",
       "\t\t<li>'Japan'</li>\n",
       "\t\t<li>'Jordan'</li>\n",
       "\t\t<li>'Kazakhstan'</li>\n",
       "\t\t<li>'Kenya'</li>\n",
       "\t\t<li>'Kiribati'</li>\n",
       "\t\t<li>'Korea, Dem. People’s Rep.'</li>\n",
       "\t\t<li>'Korea, Rep.'</li>\n",
       "\t\t<li>'Kosovo'</li>\n",
       "\t\t<li>'Kuwait'</li>\n",
       "\t\t<li>'Kyrgyz Republic'</li>\n",
       "\t\t<li>'Lao PDR'</li>\n",
       "\t\t<li>'Late-demographic dividend'</li>\n",
       "\t\t<li>'Latin America &amp; Caribbean'</li>\n",
       "\t\t<li>'Latin America &amp; Caribbean (excluding high income)'</li>\n",
       "\t\t<li>'Latin America &amp; the Caribbean (IDA &amp; IBRD countries)'</li>\n",
       "\t\t<li>'Latvia'</li>\n",
       "\t\t<li>'Least developed countries: UN classification'</li>\n",
       "\t\t<li>'Lebanon'</li>\n",
       "\t\t<li>'Lesotho'</li>\n",
       "\t\t<li>'Liberia'</li>\n",
       "\t\t<li>'Libya'</li>\n",
       "\t\t<li>'Liechtenstein'</li>\n",
       "\t\t<li>'Lithuania'</li>\n",
       "\t\t<li>'Low &amp; middle income'</li>\n",
       "\t\t<li>'Low income'</li>\n",
       "\t\t<li>'Lower middle income'</li>\n",
       "\t\t<li>'Luxembourg'</li>\n",
       "\t\t<li>'Macao SAR, China'</li>\n",
       "\t\t<li>'Macedonia, FYR'</li>\n",
       "\t\t<li>'Madagascar'</li>\n",
       "\t\t<li>'Malawi'</li>\n",
       "\t\t<li>'Malaysia'</li>\n",
       "\t\t<li>'Maldives'</li>\n",
       "\t\t<li>'Mali'</li>\n",
       "\t\t<li>'Malta'</li>\n",
       "\t\t<li>'Marshall Islands'</li>\n",
       "\t\t<li>'Mauritania'</li>\n",
       "\t\t<li>'Mauritius'</li>\n",
       "\t\t<li>'Mexico'</li>\n",
       "\t\t<li>'Micronesia, Fed. Sts.'</li>\n",
       "\t\t<li>'Middle East &amp; North Africa'</li>\n",
       "\t\t<li>'Middle East &amp; North Africa (excluding high income)'</li>\n",
       "\t\t<li>'Middle East &amp; North Africa (IDA &amp; IBRD countries)'</li>\n",
       "\t\t<li>'Middle income'</li>\n",
       "\t\t<li>'Moldova'</li>\n",
       "\t\t<li>'Monaco'</li>\n",
       "\t\t<li>'Mongolia'</li>\n",
       "\t\t<li>'Montenegro'</li>\n",
       "\t\t<li>'Morocco'</li>\n",
       "\t\t<li>'Mozambique'</li>\n",
       "\t\t<li>'Myanmar'</li>\n",
       "\t\t<li>'Namibia'</li>\n",
       "\t\t<li>'Nauru'</li>\n",
       "\t\t<li>'Nepal'</li>\n",
       "\t\t<li>'Netherlands'</li>\n",
       "\t\t<li>'New Caledonia'</li>\n",
       "\t\t<li>'New Zealand'</li>\n",
       "\t\t<li>'Nicaragua'</li>\n",
       "\t\t<li>'Niger'</li>\n",
       "\t\t<li>'Nigeria'</li>\n",
       "\t\t<li>'North America'</li>\n",
       "\t\t<li>'Northern Mariana Islands'</li>\n",
       "\t\t<li>'Norway'</li>\n",
       "\t\t<li>'Not classified'</li>\n",
       "\t\t<li>'OECD members'</li>\n",
       "\t\t<li>'Oman'</li>\n",
       "\t\t<li>'Other small states'</li>\n",
       "\t\t<li>'Pacific island small states'</li>\n",
       "\t\t<li>'Pakistan'</li>\n",
       "\t\t<li>'Palau'</li>\n",
       "\t\t<li>'Panama'</li>\n",
       "\t\t<li>'Papua New Guinea'</li>\n",
       "\t\t<li>'Paraguay'</li>\n",
       "\t\t<li>'Peru'</li>\n",
       "\t\t<li>'Philippines'</li>\n",
       "\t\t<li>'Poland'</li>\n",
       "\t\t<li>'Portugal'</li>\n",
       "\t\t<li>'Post-demographic dividend'</li>\n",
       "\t\t<li>'Pre-demographic dividend'</li>\n",
       "\t\t<li>'Puerto Rico'</li>\n",
       "\t\t<li>'Qatar'</li>\n",
       "\t\t<li>'Romania'</li>\n",
       "\t\t<li>'Russian Federation'</li>\n",
       "\t\t<li>'Rwanda'</li>\n",
       "\t\t<li>'Samoa'</li>\n",
       "\t\t<li>'San Marino'</li>\n",
       "\t\t<li>'Sao Tome and Principe'</li>\n",
       "\t\t<li>'Saudi Arabia'</li>\n",
       "\t\t<li>'Senegal'</li>\n",
       "\t\t<li>'Serbia'</li>\n",
       "\t\t<li>'Seychelles'</li>\n",
       "\t\t<li>'Sierra Leone'</li>\n",
       "\t\t<li>'Singapore'</li>\n",
       "\t\t<li>'Sint Maarten (Dutch part)'</li>\n",
       "\t\t<li>'Slovak Republic'</li>\n",
       "\t\t<li>'Slovenia'</li>\n",
       "\t\t<li>'Small states'</li>\n",
       "\t\t<li>'Solomon Islands'</li>\n",
       "\t\t<li>'Somalia'</li>\n",
       "\t\t<li>'South Africa'</li>\n",
       "\t\t<li>'South Asia'</li>\n",
       "\t\t<li>'South Asia (IDA &amp; IBRD)'</li>\n",
       "\t\t<li>'South Sudan'</li>\n",
       "\t\t<li>'Spain'</li>\n",
       "\t\t<li>'Sri Lanka'</li>\n",
       "\t\t<li>'St. Kitts and Nevis'</li>\n",
       "\t\t<li>'St. Lucia'</li>\n",
       "\t\t<li>'St. Martin (French part)'</li>\n",
       "\t\t<li>'St. Vincent and the Grenadines'</li>\n",
       "\t\t<li>'Sub-Saharan Africa'</li>\n",
       "\t\t<li>'Sub-Saharan Africa (excluding high income)'</li>\n",
       "\t\t<li>'Sub-Saharan Africa (IDA &amp; IBRD countries)'</li>\n",
       "\t\t<li>'Sudan'</li>\n",
       "\t\t<li>'Suriname'</li>\n",
       "\t\t<li>'Swaziland'</li>\n",
       "\t\t<li>'Sweden'</li>\n",
       "\t\t<li>'Switzerland'</li>\n",
       "\t\t<li>'Syrian Arab Republic'</li>\n",
       "\t\t<li>'Tajikistan'</li>\n",
       "\t\t<li>'Tanzania'</li>\n",
       "\t\t<li>'Thailand'</li>\n",
       "\t\t<li>'Timor-Leste'</li>\n",
       "\t\t<li>'Togo'</li>\n",
       "\t\t<li>'Tonga'</li>\n",
       "\t\t<li>'Trinidad and Tobago'</li>\n",
       "\t\t<li>'Tunisia'</li>\n",
       "\t\t<li>'Turkey'</li>\n",
       "\t\t<li>'Turkmenistan'</li>\n",
       "\t\t<li>'Turks and Caicos Islands'</li>\n",
       "\t\t<li>'Tuvalu'</li>\n",
       "\t\t<li>'Uganda'</li>\n",
       "\t\t<li>'Ukraine'</li>\n",
       "\t\t<li>'United Arab Emirates'</li>\n",
       "\t\t<li>'United Kingdom'</li>\n",
       "\t\t<li>'United States'</li>\n",
       "\t\t<li>'Upper middle income'</li>\n",
       "\t\t<li>'Uruguay'</li>\n",
       "\t\t<li>'Uzbekistan'</li>\n",
       "\t\t<li>'Vanuatu'</li>\n",
       "\t\t<li>'Venezuela, RB'</li>\n",
       "\t\t<li>'Vietnam'</li>\n",
       "\t\t<li>'Virgin Islands (U.S.)'</li>\n",
       "\t\t<li>'West Bank and Gaza'</li>\n",
       "\t\t<li>'World'</li>\n",
       "\t\t<li>'Yemen, Rep.'</li>\n",
       "\t\t<li>'Zambia'</li>\n",
       "\t\t<li>'Zimbabwe'</li>\n",
       "\t</ol>\n",
       "</details>"
      ],
      "text/latex": [
       "\\begin{enumerate*}\n",
       "\\item China\n",
       "\\item United States\n",
       "\\item India\n",
       "\\item Brazil\n",
       "\\item Russian Federation\n",
       "\\end{enumerate*}\n",
       "\n",
       "\\emph{Levels}: \\begin{enumerate*}\n",
       "\\item 'Afghanistan'\n",
       "\\item 'Albania'\n",
       "\\item 'Algeria'\n",
       "\\item 'American Samoa'\n",
       "\\item 'Andorra'\n",
       "\\item 'Angola'\n",
       "\\item 'Antigua and Barbuda'\n",
       "\\item 'Arab World'\n",
       "\\item 'Argentina'\n",
       "\\item 'Armenia'\n",
       "\\item 'Aruba'\n",
       "\\item 'Australia'\n",
       "\\item 'Austria'\n",
       "\\item 'Azerbaijan'\n",
       "\\item 'Bahamas, The'\n",
       "\\item 'Bahrain'\n",
       "\\item 'Bangladesh'\n",
       "\\item 'Barbados'\n",
       "\\item 'Belarus'\n",
       "\\item 'Belgium'\n",
       "\\item 'Belize'\n",
       "\\item 'Benin'\n",
       "\\item 'Bermuda'\n",
       "\\item 'Bhutan'\n",
       "\\item 'Bolivia'\n",
       "\\item 'Bosnia and Herzegovina'\n",
       "\\item 'Botswana'\n",
       "\\item 'Brazil'\n",
       "\\item 'British Virgin Islands'\n",
       "\\item 'Brunei Darussalam'\n",
       "\\item 'Bulgaria'\n",
       "\\item 'Burkina Faso'\n",
       "\\item 'Burundi'\n",
       "\\item 'Cabo Verde'\n",
       "\\item 'Cambodia'\n",
       "\\item 'Cameroon'\n",
       "\\item 'Canada'\n",
       "\\item 'Caribbean small states'\n",
       "\\item 'Cayman Islands'\n",
       "\\item 'Central African Republic'\n",
       "\\item 'Central Europe and the Baltics'\n",
       "\\item 'Chad'\n",
       "\\item 'Channel Islands'\n",
       "\\item 'Chile'\n",
       "\\item 'China'\n",
       "\\item 'Colombia'\n",
       "\\item 'Comoros'\n",
       "\\item 'Congo, Dem. Rep.'\n",
       "\\item 'Congo, Rep.'\n",
       "\\item 'Costa Rica'\n",
       "\\item 'Cote d\\textbackslash{}'Ivoire'\n",
       "\\item 'Croatia'\n",
       "\\item 'Cuba'\n",
       "\\item 'Curacao'\n",
       "\\item 'Cyprus'\n",
       "\\item 'Czech Republic'\n",
       "\\item 'Denmark'\n",
       "\\item 'Djibouti'\n",
       "\\item 'Dominica'\n",
       "\\item 'Dominican Republic'\n",
       "\\item 'Early-demographic dividend'\n",
       "\\item 'East Asia \\& Pacific'\n",
       "\\item 'East Asia \\& Pacific (excluding high income)'\n",
       "\\item 'East Asia \\& Pacific (IDA \\& IBRD countries)'\n",
       "\\item 'Ecuador'\n",
       "\\item 'Egypt, Arab Rep.'\n",
       "\\item 'El Salvador'\n",
       "\\item 'Equatorial Guinea'\n",
       "\\item 'Eritrea'\n",
       "\\item 'Estonia'\n",
       "\\item 'Ethiopia'\n",
       "\\item 'Euro area'\n",
       "\\item 'Europe \\& Central Asia'\n",
       "\\item 'Europe \\& Central Asia (excluding high income)'\n",
       "\\item 'Europe \\& Central Asia (IDA \\& IBRD countries)'\n",
       "\\item 'European Union'\n",
       "\\item 'Faroe Islands'\n",
       "\\item 'Fiji'\n",
       "\\item 'Finland'\n",
       "\\item 'Fragile and conflict affected situations'\n",
       "\\item 'France'\n",
       "\\item 'French Polynesia'\n",
       "\\item 'Gabon'\n",
       "\\item 'Gambia, The'\n",
       "\\item 'Georgia'\n",
       "\\item 'Germany'\n",
       "\\item 'Ghana'\n",
       "\\item 'Gibraltar'\n",
       "\\item 'Greece'\n",
       "\\item 'Greenland'\n",
       "\\item 'Grenada'\n",
       "\\item 'Guam'\n",
       "\\item 'Guatemala'\n",
       "\\item 'Guinea'\n",
       "\\item 'Guinea-Bissau'\n",
       "\\item 'Guyana'\n",
       "\\item 'Haiti'\n",
       "\\item 'Heavily indebted poor countries (HIPC)'\n",
       "\\item 'High income'\n",
       "\\item 'Honduras'\n",
       "\\item 'Hong Kong SAR, China'\n",
       "\\item 'Hungary'\n",
       "\\item 'IBRD only'\n",
       "\\item 'Iceland'\n",
       "\\item 'IDA \\& IBRD total'\n",
       "\\item 'IDA blend'\n",
       "\\item 'IDA only'\n",
       "\\item 'IDA total'\n",
       "\\item 'India'\n",
       "\\item 'Indonesia'\n",
       "\\item 'Iran, Islamic Rep.'\n",
       "\\item 'Iraq'\n",
       "\\item 'Ireland'\n",
       "\\item 'Isle of Man'\n",
       "\\item 'Israel'\n",
       "\\item 'Italy'\n",
       "\\item 'Jamaica'\n",
       "\\item 'Japan'\n",
       "\\item 'Jordan'\n",
       "\\item 'Kazakhstan'\n",
       "\\item 'Kenya'\n",
       "\\item 'Kiribati'\n",
       "\\item 'Korea, Dem. People’s Rep.'\n",
       "\\item 'Korea, Rep.'\n",
       "\\item 'Kosovo'\n",
       "\\item 'Kuwait'\n",
       "\\item 'Kyrgyz Republic'\n",
       "\\item 'Lao PDR'\n",
       "\\item 'Late-demographic dividend'\n",
       "\\item 'Latin America \\& Caribbean'\n",
       "\\item 'Latin America \\& Caribbean (excluding high income)'\n",
       "\\item 'Latin America \\& the Caribbean (IDA \\& IBRD countries)'\n",
       "\\item 'Latvia'\n",
       "\\item 'Least developed countries: UN classification'\n",
       "\\item 'Lebanon'\n",
       "\\item 'Lesotho'\n",
       "\\item 'Liberia'\n",
       "\\item 'Libya'\n",
       "\\item 'Liechtenstein'\n",
       "\\item 'Lithuania'\n",
       "\\item 'Low \\& middle income'\n",
       "\\item 'Low income'\n",
       "\\item 'Lower middle income'\n",
       "\\item 'Luxembourg'\n",
       "\\item 'Macao SAR, China'\n",
       "\\item 'Macedonia, FYR'\n",
       "\\item 'Madagascar'\n",
       "\\item 'Malawi'\n",
       "\\item 'Malaysia'\n",
       "\\item 'Maldives'\n",
       "\\item 'Mali'\n",
       "\\item 'Malta'\n",
       "\\item 'Marshall Islands'\n",
       "\\item 'Mauritania'\n",
       "\\item 'Mauritius'\n",
       "\\item 'Mexico'\n",
       "\\item 'Micronesia, Fed. Sts.'\n",
       "\\item 'Middle East \\& North Africa'\n",
       "\\item 'Middle East \\& North Africa (excluding high income)'\n",
       "\\item 'Middle East \\& North Africa (IDA \\& IBRD countries)'\n",
       "\\item 'Middle income'\n",
       "\\item 'Moldova'\n",
       "\\item 'Monaco'\n",
       "\\item 'Mongolia'\n",
       "\\item 'Montenegro'\n",
       "\\item 'Morocco'\n",
       "\\item 'Mozambique'\n",
       "\\item 'Myanmar'\n",
       "\\item 'Namibia'\n",
       "\\item 'Nauru'\n",
       "\\item 'Nepal'\n",
       "\\item 'Netherlands'\n",
       "\\item 'New Caledonia'\n",
       "\\item 'New Zealand'\n",
       "\\item 'Nicaragua'\n",
       "\\item 'Niger'\n",
       "\\item 'Nigeria'\n",
       "\\item 'North America'\n",
       "\\item 'Northern Mariana Islands'\n",
       "\\item 'Norway'\n",
       "\\item 'Not classified'\n",
       "\\item 'OECD members'\n",
       "\\item 'Oman'\n",
       "\\item 'Other small states'\n",
       "\\item 'Pacific island small states'\n",
       "\\item 'Pakistan'\n",
       "\\item 'Palau'\n",
       "\\item 'Panama'\n",
       "\\item 'Papua New Guinea'\n",
       "\\item 'Paraguay'\n",
       "\\item 'Peru'\n",
       "\\item 'Philippines'\n",
       "\\item 'Poland'\n",
       "\\item 'Portugal'\n",
       "\\item 'Post-demographic dividend'\n",
       "\\item 'Pre-demographic dividend'\n",
       "\\item 'Puerto Rico'\n",
       "\\item 'Qatar'\n",
       "\\item 'Romania'\n",
       "\\item 'Russian Federation'\n",
       "\\item 'Rwanda'\n",
       "\\item 'Samoa'\n",
       "\\item 'San Marino'\n",
       "\\item 'Sao Tome and Principe'\n",
       "\\item 'Saudi Arabia'\n",
       "\\item 'Senegal'\n",
       "\\item 'Serbia'\n",
       "\\item 'Seychelles'\n",
       "\\item 'Sierra Leone'\n",
       "\\item 'Singapore'\n",
       "\\item 'Sint Maarten (Dutch part)'\n",
       "\\item 'Slovak Republic'\n",
       "\\item 'Slovenia'\n",
       "\\item 'Small states'\n",
       "\\item 'Solomon Islands'\n",
       "\\item 'Somalia'\n",
       "\\item 'South Africa'\n",
       "\\item 'South Asia'\n",
       "\\item 'South Asia (IDA \\& IBRD)'\n",
       "\\item 'South Sudan'\n",
       "\\item 'Spain'\n",
       "\\item 'Sri Lanka'\n",
       "\\item 'St. Kitts and Nevis'\n",
       "\\item 'St. Lucia'\n",
       "\\item 'St. Martin (French part)'\n",
       "\\item 'St. Vincent and the Grenadines'\n",
       "\\item 'Sub-Saharan Africa'\n",
       "\\item 'Sub-Saharan Africa (excluding high income)'\n",
       "\\item 'Sub-Saharan Africa (IDA \\& IBRD countries)'\n",
       "\\item 'Sudan'\n",
       "\\item 'Suriname'\n",
       "\\item 'Swaziland'\n",
       "\\item 'Sweden'\n",
       "\\item 'Switzerland'\n",
       "\\item 'Syrian Arab Republic'\n",
       "\\item 'Tajikistan'\n",
       "\\item 'Tanzania'\n",
       "\\item 'Thailand'\n",
       "\\item 'Timor-Leste'\n",
       "\\item 'Togo'\n",
       "\\item 'Tonga'\n",
       "\\item 'Trinidad and Tobago'\n",
       "\\item 'Tunisia'\n",
       "\\item 'Turkey'\n",
       "\\item 'Turkmenistan'\n",
       "\\item 'Turks and Caicos Islands'\n",
       "\\item 'Tuvalu'\n",
       "\\item 'Uganda'\n",
       "\\item 'Ukraine'\n",
       "\\item 'United Arab Emirates'\n",
       "\\item 'United Kingdom'\n",
       "\\item 'United States'\n",
       "\\item 'Upper middle income'\n",
       "\\item 'Uruguay'\n",
       "\\item 'Uzbekistan'\n",
       "\\item 'Vanuatu'\n",
       "\\item 'Venezuela, RB'\n",
       "\\item 'Vietnam'\n",
       "\\item 'Virgin Islands (U.S.)'\n",
       "\\item 'West Bank and Gaza'\n",
       "\\item 'World'\n",
       "\\item 'Yemen, Rep.'\n",
       "\\item 'Zambia'\n",
       "\\item 'Zimbabwe'\n",
       "\\end{enumerate*}\n"
      ],
      "text/markdown": [
       "1. China\n",
       "2. United States\n",
       "3. India\n",
       "4. Brazil\n",
       "5. Russian Federation\n",
       "\n",
       "\n",
       "\n",
       "**Levels**: 1. 'Afghanistan'\n",
       "2. 'Albania'\n",
       "3. 'Algeria'\n",
       "4. 'American Samoa'\n",
       "5. 'Andorra'\n",
       "6. 'Angola'\n",
       "7. 'Antigua and Barbuda'\n",
       "8. 'Arab World'\n",
       "9. 'Argentina'\n",
       "10. 'Armenia'\n",
       "11. 'Aruba'\n",
       "12. 'Australia'\n",
       "13. 'Austria'\n",
       "14. 'Azerbaijan'\n",
       "15. 'Bahamas, The'\n",
       "16. 'Bahrain'\n",
       "17. 'Bangladesh'\n",
       "18. 'Barbados'\n",
       "19. 'Belarus'\n",
       "20. 'Belgium'\n",
       "21. 'Belize'\n",
       "22. 'Benin'\n",
       "23. 'Bermuda'\n",
       "24. 'Bhutan'\n",
       "25. 'Bolivia'\n",
       "26. 'Bosnia and Herzegovina'\n",
       "27. 'Botswana'\n",
       "28. 'Brazil'\n",
       "29. 'British Virgin Islands'\n",
       "30. 'Brunei Darussalam'\n",
       "31. 'Bulgaria'\n",
       "32. 'Burkina Faso'\n",
       "33. 'Burundi'\n",
       "34. 'Cabo Verde'\n",
       "35. 'Cambodia'\n",
       "36. 'Cameroon'\n",
       "37. 'Canada'\n",
       "38. 'Caribbean small states'\n",
       "39. 'Cayman Islands'\n",
       "40. 'Central African Republic'\n",
       "41. 'Central Europe and the Baltics'\n",
       "42. 'Chad'\n",
       "43. 'Channel Islands'\n",
       "44. 'Chile'\n",
       "45. 'China'\n",
       "46. 'Colombia'\n",
       "47. 'Comoros'\n",
       "48. 'Congo, Dem. Rep.'\n",
       "49. 'Congo, Rep.'\n",
       "50. 'Costa Rica'\n",
       "51. 'Cote d\\'Ivoire'\n",
       "52. 'Croatia'\n",
       "53. 'Cuba'\n",
       "54. 'Curacao'\n",
       "55. 'Cyprus'\n",
       "56. 'Czech Republic'\n",
       "57. 'Denmark'\n",
       "58. 'Djibouti'\n",
       "59. 'Dominica'\n",
       "60. 'Dominican Republic'\n",
       "61. 'Early-demographic dividend'\n",
       "62. 'East Asia &amp; Pacific'\n",
       "63. 'East Asia &amp; Pacific (excluding high income)'\n",
       "64. 'East Asia &amp; Pacific (IDA &amp; IBRD countries)'\n",
       "65. 'Ecuador'\n",
       "66. 'Egypt, Arab Rep.'\n",
       "67. 'El Salvador'\n",
       "68. 'Equatorial Guinea'\n",
       "69. 'Eritrea'\n",
       "70. 'Estonia'\n",
       "71. 'Ethiopia'\n",
       "72. 'Euro area'\n",
       "73. 'Europe &amp; Central Asia'\n",
       "74. 'Europe &amp; Central Asia (excluding high income)'\n",
       "75. 'Europe &amp; Central Asia (IDA &amp; IBRD countries)'\n",
       "76. 'European Union'\n",
       "77. 'Faroe Islands'\n",
       "78. 'Fiji'\n",
       "79. 'Finland'\n",
       "80. 'Fragile and conflict affected situations'\n",
       "81. 'France'\n",
       "82. 'French Polynesia'\n",
       "83. 'Gabon'\n",
       "84. 'Gambia, The'\n",
       "85. 'Georgia'\n",
       "86. 'Germany'\n",
       "87. 'Ghana'\n",
       "88. 'Gibraltar'\n",
       "89. 'Greece'\n",
       "90. 'Greenland'\n",
       "91. 'Grenada'\n",
       "92. 'Guam'\n",
       "93. 'Guatemala'\n",
       "94. 'Guinea'\n",
       "95. 'Guinea-Bissau'\n",
       "96. 'Guyana'\n",
       "97. 'Haiti'\n",
       "98. 'Heavily indebted poor countries (HIPC)'\n",
       "99. 'High income'\n",
       "100. 'Honduras'\n",
       "101. 'Hong Kong SAR, China'\n",
       "102. 'Hungary'\n",
       "103. 'IBRD only'\n",
       "104. 'Iceland'\n",
       "105. 'IDA &amp; IBRD total'\n",
       "106. 'IDA blend'\n",
       "107. 'IDA only'\n",
       "108. 'IDA total'\n",
       "109. 'India'\n",
       "110. 'Indonesia'\n",
       "111. 'Iran, Islamic Rep.'\n",
       "112. 'Iraq'\n",
       "113. 'Ireland'\n",
       "114. 'Isle of Man'\n",
       "115. 'Israel'\n",
       "116. 'Italy'\n",
       "117. 'Jamaica'\n",
       "118. 'Japan'\n",
       "119. 'Jordan'\n",
       "120. 'Kazakhstan'\n",
       "121. 'Kenya'\n",
       "122. 'Kiribati'\n",
       "123. 'Korea, Dem. People’s Rep.'\n",
       "124. 'Korea, Rep.'\n",
       "125. 'Kosovo'\n",
       "126. 'Kuwait'\n",
       "127. 'Kyrgyz Republic'\n",
       "128. 'Lao PDR'\n",
       "129. 'Late-demographic dividend'\n",
       "130. 'Latin America &amp; Caribbean'\n",
       "131. 'Latin America &amp; Caribbean (excluding high income)'\n",
       "132. 'Latin America &amp; the Caribbean (IDA &amp; IBRD countries)'\n",
       "133. 'Latvia'\n",
       "134. 'Least developed countries: UN classification'\n",
       "135. 'Lebanon'\n",
       "136. 'Lesotho'\n",
       "137. 'Liberia'\n",
       "138. 'Libya'\n",
       "139. 'Liechtenstein'\n",
       "140. 'Lithuania'\n",
       "141. 'Low &amp; middle income'\n",
       "142. 'Low income'\n",
       "143. 'Lower middle income'\n",
       "144. 'Luxembourg'\n",
       "145. 'Macao SAR, China'\n",
       "146. 'Macedonia, FYR'\n",
       "147. 'Madagascar'\n",
       "148. 'Malawi'\n",
       "149. 'Malaysia'\n",
       "150. 'Maldives'\n",
       "151. 'Mali'\n",
       "152. 'Malta'\n",
       "153. 'Marshall Islands'\n",
       "154. 'Mauritania'\n",
       "155. 'Mauritius'\n",
       "156. 'Mexico'\n",
       "157. 'Micronesia, Fed. Sts.'\n",
       "158. 'Middle East &amp; North Africa'\n",
       "159. 'Middle East &amp; North Africa (excluding high income)'\n",
       "160. 'Middle East &amp; North Africa (IDA &amp; IBRD countries)'\n",
       "161. 'Middle income'\n",
       "162. 'Moldova'\n",
       "163. 'Monaco'\n",
       "164. 'Mongolia'\n",
       "165. 'Montenegro'\n",
       "166. 'Morocco'\n",
       "167. 'Mozambique'\n",
       "168. 'Myanmar'\n",
       "169. 'Namibia'\n",
       "170. 'Nauru'\n",
       "171. 'Nepal'\n",
       "172. 'Netherlands'\n",
       "173. 'New Caledonia'\n",
       "174. 'New Zealand'\n",
       "175. 'Nicaragua'\n",
       "176. 'Niger'\n",
       "177. 'Nigeria'\n",
       "178. 'North America'\n",
       "179. 'Northern Mariana Islands'\n",
       "180. 'Norway'\n",
       "181. 'Not classified'\n",
       "182. 'OECD members'\n",
       "183. 'Oman'\n",
       "184. 'Other small states'\n",
       "185. 'Pacific island small states'\n",
       "186. 'Pakistan'\n",
       "187. 'Palau'\n",
       "188. 'Panama'\n",
       "189. 'Papua New Guinea'\n",
       "190. 'Paraguay'\n",
       "191. 'Peru'\n",
       "192. 'Philippines'\n",
       "193. 'Poland'\n",
       "194. 'Portugal'\n",
       "195. 'Post-demographic dividend'\n",
       "196. 'Pre-demographic dividend'\n",
       "197. 'Puerto Rico'\n",
       "198. 'Qatar'\n",
       "199. 'Romania'\n",
       "200. 'Russian Federation'\n",
       "201. 'Rwanda'\n",
       "202. 'Samoa'\n",
       "203. 'San Marino'\n",
       "204. 'Sao Tome and Principe'\n",
       "205. 'Saudi Arabia'\n",
       "206. 'Senegal'\n",
       "207. 'Serbia'\n",
       "208. 'Seychelles'\n",
       "209. 'Sierra Leone'\n",
       "210. 'Singapore'\n",
       "211. 'Sint Maarten (Dutch part)'\n",
       "212. 'Slovak Republic'\n",
       "213. 'Slovenia'\n",
       "214. 'Small states'\n",
       "215. 'Solomon Islands'\n",
       "216. 'Somalia'\n",
       "217. 'South Africa'\n",
       "218. 'South Asia'\n",
       "219. 'South Asia (IDA &amp; IBRD)'\n",
       "220. 'South Sudan'\n",
       "221. 'Spain'\n",
       "222. 'Sri Lanka'\n",
       "223. 'St. Kitts and Nevis'\n",
       "224. 'St. Lucia'\n",
       "225. 'St. Martin (French part)'\n",
       "226. 'St. Vincent and the Grenadines'\n",
       "227. 'Sub-Saharan Africa'\n",
       "228. 'Sub-Saharan Africa (excluding high income)'\n",
       "229. 'Sub-Saharan Africa (IDA &amp; IBRD countries)'\n",
       "230. 'Sudan'\n",
       "231. 'Suriname'\n",
       "232. 'Swaziland'\n",
       "233. 'Sweden'\n",
       "234. 'Switzerland'\n",
       "235. 'Syrian Arab Republic'\n",
       "236. 'Tajikistan'\n",
       "237. 'Tanzania'\n",
       "238. 'Thailand'\n",
       "239. 'Timor-Leste'\n",
       "240. 'Togo'\n",
       "241. 'Tonga'\n",
       "242. 'Trinidad and Tobago'\n",
       "243. 'Tunisia'\n",
       "244. 'Turkey'\n",
       "245. 'Turkmenistan'\n",
       "246. 'Turks and Caicos Islands'\n",
       "247. 'Tuvalu'\n",
       "248. 'Uganda'\n",
       "249. 'Ukraine'\n",
       "250. 'United Arab Emirates'\n",
       "251. 'United Kingdom'\n",
       "252. 'United States'\n",
       "253. 'Upper middle income'\n",
       "254. 'Uruguay'\n",
       "255. 'Uzbekistan'\n",
       "256. 'Vanuatu'\n",
       "257. 'Venezuela, RB'\n",
       "258. 'Vietnam'\n",
       "259. 'Virgin Islands (U.S.)'\n",
       "260. 'West Bank and Gaza'\n",
       "261. 'World'\n",
       "262. 'Yemen, Rep.'\n",
       "263. 'Zambia'\n",
       "264. 'Zimbabwe'\n",
       "\n",
       "\n"
      ],
      "text/plain": [
       "[1] China              United States      India              Brazil            \n",
       "[5] Russian Federation\n",
       "264 Levels: Afghanistan Albania Algeria American Samoa Andorra ... Zimbabwe"
      ]
     },
     "metadata": {},
     "output_type": "display_data"
    },
    {
     "data": {
      "text/html": [
       "'Emitieron un total de 27594262.4849943 toneladas de CO2'"
      ],
      "text/latex": [
       "'Emitieron un total de 27594262.4849943 toneladas de CO2'"
      ],
      "text/markdown": [
       "'Emitieron un total de 27594262.4849943 toneladas de CO2'"
      ],
      "text/plain": [
       "[1] \"Emitieron un total de 27594262.4849943 toneladas de CO2\""
      ]
     },
     "metadata": {},
     "output_type": "display_data"
    }
   ],
   "source": [
    "# creo un data.frame ordenando por el campo 2012\n",
    "df_CO2_order <- df_CO2[order(-df_CO2[,4]),]\n",
    "# me quedo con las 5 primeras filas\n",
    "df_5pais_max_CO2 <- df_CO2_order[1:5,]\n",
    "\n",
    "df_5pais_max_CO2\n",
    "\n",
    "paste(\"Los 5 paises que mas CO2 has emitido en 2012 son:\")\n",
    "df_5pais_max_CO2[, c(\"Country.Name\")]\n",
    "paste(\"Emitieron un total de\", sum(df_5pais_max_CO2[, 4]), \"toneladas de CO2\")\n",
    "\n",
    "#df_5pais_max_CO2[, c(\"Country.Name\")]\n",
    "#df_5pais_max_CO2\n"
   ]
  },
  {
   "cell_type": "markdown",
   "metadata": {},
   "source": [
    "¿Cual ha sido la media del **porcentaje** de crecimiento de las emisiones de CO2 equivalente en China desde 2000 hasta 2012?"
   ]
  },
  {
   "cell_type": "code",
   "execution_count": 59,
   "metadata": {},
   "outputs": [
    {
     "name": "stderr",
     "output_type": "stream",
     "text": [
      "No id variables; using all as measure variables\n"
     ]
    },
    {
     "data": {
      "text/html": [
       "<table>\n",
       "<thead><tr><th scope=col>variable</th><th scope=col>value</th><th scope=col>ratio</th></tr></thead>\n",
       "<tbody>\n",
       "\t<tr><td>1999    </td><td>5079294 </td><td>      NA</td></tr>\n",
       "\t<tr><td>2000    </td><td>5082326 </td><td>1.000597</td></tr>\n",
       "\t<tr><td>2001    </td><td>5145522 </td><td>1.012434</td></tr>\n",
       "\t<tr><td>2002    </td><td>5474915 </td><td>1.064016</td></tr>\n",
       "\t<tr><td>2003    </td><td>6226962 </td><td>1.137362</td></tr>\n",
       "\t<tr><td>2004    </td><td>7116642 </td><td>1.142875</td></tr>\n",
       "</tbody>\n",
       "</table>\n"
      ],
      "text/latex": [
       "\\begin{tabular}{r|lll}\n",
       " variable & value & ratio\\\\\n",
       "\\hline\n",
       "\t 1999     & 5079294  &       NA\\\\\n",
       "\t 2000     & 5082326  & 1.000597\\\\\n",
       "\t 2001     & 5145522  & 1.012434\\\\\n",
       "\t 2002     & 5474915  & 1.064016\\\\\n",
       "\t 2003     & 6226962  & 1.137362\\\\\n",
       "\t 2004     & 7116642  & 1.142875\\\\\n",
       "\\end{tabular}\n"
      ],
      "text/markdown": [
       "\n",
       "| variable | value | ratio |\n",
       "|---|---|---|\n",
       "| 1999     | 5079294  |       NA |\n",
       "| 2000     | 5082326  | 1.000597 |\n",
       "| 2001     | 5145522  | 1.012434 |\n",
       "| 2002     | 5474915  | 1.064016 |\n",
       "| 2003     | 6226962  | 1.137362 |\n",
       "| 2004     | 7116642  | 1.142875 |\n",
       "\n"
      ],
      "text/plain": [
       "  variable value   ratio   \n",
       "1 1999     5079294       NA\n",
       "2 2000     5082326 1.000597\n",
       "3 2001     5145522 1.012434\n",
       "4 2002     5474915 1.064016\n",
       "5 2003     6226962 1.137362\n",
       "6 2004     7116642 1.142875"
      ]
     },
     "metadata": {},
     "output_type": "display_data"
    },
    {
     "data": {
      "text/html": [
       "'La media de porcentaje de crecimiento de las emisiones ha sido: 7.14 %'"
      ],
      "text/latex": [
       "'La media de porcentaje de crecimiento de las emisiones ha sido: 7.14 \\%'"
      ],
      "text/markdown": [
       "'La media de porcentaje de crecimiento de las emisiones ha sido: 7.14 %'"
      ],
      "text/plain": [
       "[1] \"La media de porcentaje de crecimiento de las emisiones ha sido: 7.14 %\""
      ]
     },
     "metadata": {},
     "output_type": "display_data"
    }
   ],
   "source": [
    "# obtenemos un dataframe de las emisiones de CO2 de China del año 2000 al 2012\n",
    "# el Country.Code de China es CHN\n",
    "df_CHN_CO2<-subset(df_bank_country, Indicator.Code== 'EN.ATM.GHGT.KT.CE' & Country.Code=='CHN')[,as.character(seq(1999,2012,1))]\n",
    "\n",
    "# Como  tenemos cada dato en una columna, vamos a \"transponer\" el dataframe con la función melt\n",
    "library(\"reshape2\")\n",
    "df_CHN_CO2 <- melt(df_CHN_CO2)\n",
    "\n",
    "# para calcular el porcentaje de crecimineto vamos a crear una columna con la diferencia de un año con el anterior\n",
    "df_CHN_CO2$ratio <- c(NA, df_CHN_CO2$value[2:nrow(df_CHN_CO2)] / df_CHN_CO2$value[1:nrow(df_CHN_CO2) - 1])\n",
    "head(df_CHN_CO2)\n",
    "\n",
    "myGeometricMean<-function(X,na.rm=F){\n",
    "    if (na.rm==T){\n",
    "        X <- na.omit(X)\n",
    "    }\n",
    "    m <- 1\n",
    "    for (xi in X){\n",
    "        m <- m*xi\n",
    "    }\n",
    "    m^(1/length(X))\n",
    "    \n",
    "    #exp(mean(log(x)))\n",
    "}\n",
    "\n",
    "# Calculamos la media geómetrica de los diferentes porcentajes\n",
    "media_CO2_china <- round((myGeometricMean(df_CHN_CO2$ratio, na.rm = T) - 1) * 100, 2)\n",
    "paste(\"La media de porcentaje de crecimiento de las emisiones ha sido:\", media_CO2_china, \"%\")\n",
    "\n"
   ]
  },
  {
   "cell_type": "markdown",
   "metadata": {},
   "source": [
    "Compara las emisiones de CO2(kt) per cápita (clave en Indicator.Code: *EN.ATM.CO2E.PC*) de todos los paises en 1960,1990 y 2014 mediante:\n",
    "* diagrama de cajas\n",
    "* histograma\n",
    "* curvas de densidad"
   ]
  },
  {
   "cell_type": "code",
   "execution_count": 71,
   "metadata": {},
   "outputs": [
    {
     "data": {
      "text/html": [
       "<table>\n",
       "<thead><tr><th scope=col>Country</th><th scope=col>Year</th><th scope=col>CO2</th></tr></thead>\n",
       "<tbody>\n",
       "\t<tr><td>Aruba               </td><td>1960                </td><td>       NA           </td></tr>\n",
       "\t<tr><td>Afghanistan         </td><td>1960                </td><td>0.0460599           </td></tr>\n",
       "\t<tr><td>Angola              </td><td>1960                </td><td>0.0974716           </td></tr>\n",
       "\t<tr><td>Albania             </td><td>1960                </td><td>1.2581949           </td></tr>\n",
       "\t<tr><td>Andorra             </td><td>1960                </td><td>       NA           </td></tr>\n",
       "\t<tr><td>United Arab Emirates</td><td>1960                </td><td>0.1187577           </td></tr>\n",
       "\t<tr><td>Argentina           </td><td>1960                </td><td>2.3674730           </td></tr>\n",
       "\t<tr><td>Armenia             </td><td>1960                </td><td>       NA           </td></tr>\n",
       "\t<tr><td>American Samoa      </td><td>1960                </td><td>       NA           </td></tr>\n",
       "\t<tr><td>Antigua and Barbuda </td><td>1960                </td><td>0.6626430           </td></tr>\n",
       "</tbody>\n",
       "</table>\n"
      ],
      "text/latex": [
       "\\begin{tabular}{r|lll}\n",
       " Country & Year & CO2\\\\\n",
       "\\hline\n",
       "\t Aruba                & 1960                 &        NA           \\\\\n",
       "\t Afghanistan          & 1960                 & 0.0460599           \\\\\n",
       "\t Angola               & 1960                 & 0.0974716           \\\\\n",
       "\t Albania              & 1960                 & 1.2581949           \\\\\n",
       "\t Andorra              & 1960                 &        NA           \\\\\n",
       "\t United Arab Emirates & 1960                 & 0.1187577           \\\\\n",
       "\t Argentina            & 1960                 & 2.3674730           \\\\\n",
       "\t Armenia              & 1960                 &        NA           \\\\\n",
       "\t American Samoa       & 1960                 &        NA           \\\\\n",
       "\t Antigua and Barbuda  & 1960                 & 0.6626430           \\\\\n",
       "\\end{tabular}\n"
      ],
      "text/markdown": [
       "\n",
       "| Country | Year | CO2 |\n",
       "|---|---|---|\n",
       "| Aruba                | 1960                 |        NA            |\n",
       "| Afghanistan          | 1960                 | 0.0460599            |\n",
       "| Angola               | 1960                 | 0.0974716            |\n",
       "| Albania              | 1960                 | 1.2581949            |\n",
       "| Andorra              | 1960                 |        NA            |\n",
       "| United Arab Emirates | 1960                 | 0.1187577            |\n",
       "| Argentina            | 1960                 | 2.3674730            |\n",
       "| Armenia              | 1960                 |        NA            |\n",
       "| American Samoa       | 1960                 |        NA            |\n",
       "| Antigua and Barbuda  | 1960                 | 0.6626430            |\n",
       "\n"
      ],
      "text/plain": [
       "   Country              Year CO2      \n",
       "1  Aruba                1960        NA\n",
       "2  Afghanistan          1960 0.0460599\n",
       "3  Angola               1960 0.0974716\n",
       "4  Albania              1960 1.2581949\n",
       "5  Andorra              1960        NA\n",
       "6  United Arab Emirates 1960 0.1187577\n",
       "7  Argentina            1960 2.3674730\n",
       "8  Armenia              1960        NA\n",
       "9  American Samoa       1960        NA\n",
       "10 Antigua and Barbuda  1960 0.6626430"
      ]
     },
     "metadata": {},
     "output_type": "display_data"
    }
   ],
   "source": [
    "# obtenemos un dataframe con los datos con los que vamos a trabajar\n",
    "df_CO2_percapita1 <- df_bank_country[df_bank_country$Indicator.Code == \"EN.ATM.CO2E.PC\", c(\"Country.Name\", \"1960\", \"1990\", \"2014\")]\n",
    "df_CO2_percapita <- melt(df_CO2_percapita1, id=\"Country.Name\")\n",
    "colnames(df_CO2_percapita) <- c(\"Country\", \"Year\", \"CO2\")\n",
    "head(df_CO2_percapita, 10)\n"
   ]
  },
  {
   "cell_type": "code",
   "execution_count": 91,
   "metadata": {},
   "outputs": [
    {
     "data": {},
     "metadata": {},
     "output_type": "display_data"
    },
    {
     "data": {
      "image/png": "[encoded data removed]",
      "text/plain": [
       "plot without title"
      ]
     },
     "metadata": {},
     "output_type": "display_data"
    }
   ],
   "source": [
    "# mostramos el diagrama de cajas\n",
    "ggplot(data = df_CO2_percapita, aes(x = Year,y = CO2, color = Year)) + \n",
    "  geom_boxplot(na.rm = T) +\n",
    "  scale_color_discrete(name = \"Año\") + \n",
    "  xlab(\"Año\")+\n",
    "  ylab(\"CO2 Per cápita\") +\n",
    "  ggtitle(\"Emisiones de CO2 per cápita en 1960,1990 y 2014\")"
   ]
  },
  {
   "cell_type": "code",
   "execution_count": 90,
   "metadata": {},
   "outputs": [
    {
     "data": {},
     "metadata": {},
     "output_type": "display_data"
    },
    {
     "data": {
      "image/png": "[encoded data removed]",
      "text/plain": [
       "plot without title"
      ]
     },
     "metadata": {},
     "output_type": "display_data"
    }
   ],
   "source": [
    "# mostramos el histograma\n",
    "ggplot(data = df_CO2_percapita, aes(CO2, fill = Year)) + \n",
    "  scale_color_discrete(name = \"Año\") + \n",
    "  geom_histogram(position = \"dodge\", binwidth = 2, na.rm = T)"
   ]
  },
  {
   "cell_type": "code",
   "execution_count": 89,
   "metadata": {},
   "outputs": [
    {
     "data": {},
     "metadata": {},
     "output_type": "display_data"
    },
    {
     "data": {
      "image/png": "[encoded data removed]",
      "text/plain": [
       "plot without title"
      ]
     },
     "metadata": {},
     "output_type": "display_data"
    }
   ],
   "source": [
    "# mostramos las curvas de densidad\n",
    "ggplot(data = df_CO2_percapita, aes(CO2, color = Year)) + \n",
    "  geom_density(na.rm = T)  "
   ]
  },
  {
   "cell_type": "markdown",
   "metadata": {},
   "source": [
    "Utilizando ggplot: Compara en una gráfica las emisiones totales de CO2 (clave en Indicator.Code: EN.ATM.CO2E.KT) en función del año de las siguientes regiones:\n",
    "* Mundo entero: WLD\n",
    "* Unión europea: EUU\n",
    "* Africa subsahariana: SSA\n",
    "* Norteamérica: NAC\n",
    "* Este de Asia y pacífico: TEA\n",
    "\n",
    "Ayuda: Tendrás que usar la función *melt()* para transformar los años, cada año en una columna, en un data.frame donde cada uno esté en una fila."
   ]
  },
  {
   "cell_type": "code",
   "execution_count": 96,
   "metadata": {
    "scrolled": false
   },
   "outputs": [
    {
     "data": {
      "text/html": [
       "<table>\n",
       "<thead><tr><th scope=col>Country</th><th scope=col>Year</th><th scope=col>CO2</th></tr></thead>\n",
       "<tbody>\n",
       "\t<tr><td>European Union                            </td><td>1960                                      </td><td>2359594.9                                 </td></tr>\n",
       "\t<tr><td>North America                             </td><td>1960                                      </td><td>3083749.0                                 </td></tr>\n",
       "\t<tr><td>Sub-Saharan Africa (excluding high income)</td><td>1960                                      </td><td> 126081.5                                 </td></tr>\n",
       "\t<tr><td>East Asia &amp; Pacific (IDA &amp; IBRD countries)</td><td>1960                                              </td><td> 840235.7                                         </td></tr>\n",
       "\t<tr><td>World                                     </td><td>1960                                      </td><td>9396705.8                                 </td></tr>\n",
       "\t<tr><td>European Union                            </td><td>1961                                      </td><td>2445945.7                                 </td></tr>\n",
       "</tbody>\n",
       "</table>\n"
      ],
      "text/latex": [
       "\\begin{tabular}{r|lll}\n",
       " Country & Year & CO2\\\\\n",
       "\\hline\n",
       "\t European Union                             & 1960                                       & 2359594.9                                 \\\\\n",
       "\t North America                              & 1960                                       & 3083749.0                                 \\\\\n",
       "\t Sub-Saharan Africa (excluding high income) & 1960                                       &  126081.5                                 \\\\\n",
       "\t East Asia \\& Pacific (IDA \\& IBRD countries) & 1960                                           &  840235.7                                     \\\\\n",
       "\t World                                      & 1960                                       & 9396705.8                                 \\\\\n",
       "\t European Union                             & 1961                                       & 2445945.7                                 \\\\\n",
       "\\end{tabular}\n"
      ],
      "text/markdown": [
       "\n",
       "| Country | Year | CO2 |\n",
       "|---|---|---|\n",
       "| European Union                             | 1960                                       | 2359594.9                                  |\n",
       "| North America                              | 1960                                       | 3083749.0                                  |\n",
       "| Sub-Saharan Africa (excluding high income) | 1960                                       |  126081.5                                  |\n",
       "| East Asia & Pacific (IDA & IBRD countries) | 1960                                       |  840235.7                                  |\n",
       "| World                                      | 1960                                       | 9396705.8                                  |\n",
       "| European Union                             | 1961                                       | 2445945.7                                  |\n",
       "\n"
      ],
      "text/plain": [
       "  Country                                    Year CO2      \n",
       "1 European Union                             1960 2359594.9\n",
       "2 North America                              1960 3083749.0\n",
       "3 Sub-Saharan Africa (excluding high income) 1960  126081.5\n",
       "4 East Asia & Pacific (IDA & IBRD countries) 1960  840235.7\n",
       "5 World                                      1960 9396705.8\n",
       "6 European Union                             1961 2445945.7"
      ]
     },
     "metadata": {},
     "output_type": "display_data"
    }
   ],
   "source": [
    "df_CO2_tot <- subset(databank, Indicator.Code== 'EN.ATM.CO2E.KT' & \n",
    "                     Country.Code %in% c(\"WLD\",\"EUU\",\"SSA\",\"NAC\",\"TEA\"),\n",
    "                    c(1,5:ncol(databank)))\n",
    "df_CO2_tot <- melt(df_CO2_tot, id = \"Country.Name\")\n",
    "colnames(df_CO2_tot) <- c(\"Country\", \"Year\", \"CO2\")\n",
    "head(df_CO2_tot)"
   ]
  },
  {
   "cell_type": "code",
   "execution_count": 100,
   "metadata": {},
   "outputs": [
    {
     "name": "stderr",
     "output_type": "stream",
     "text": [
      "Warning message:\n",
      "“Groups with fewer than two data points have been dropped.”Warning message:\n",
      "“Groups with fewer than two data points have been dropped.”Warning message:\n",
      "“Groups with fewer than two data points have been dropped.”Warning message:\n",
      "“Groups with fewer than two data points have been dropped.”Warning message:\n",
      "“Groups with fewer than two data points have been dropped.”Warning message:\n",
      "“Groups with fewer than two data points have been dropped.”Warning message:\n",
      "“Groups with fewer than two data points have been dropped.”Warning message:\n",
      "“Groups with fewer than two data points have been dropped.”Warning message:\n",
      "“Groups with fewer than two data points have been dropped.”Warning message:\n",
      "“Groups with fewer than two data points have been dropped.”Warning message:\n",
      "“Groups with fewer than two data points have been dropped.”Warning message:\n",
      "“Groups with fewer than two data points have been dropped.”Warning message:\n",
      "“Groups with fewer than two data points have been dropped.”Warning message:\n",
      "“Groups with fewer than two data points have been dropped.”Warning message:\n",
      "“Groups with fewer than two data points have been dropped.”Warning message:\n",
      "“Groups with fewer than two data points have been dropped.”Warning message:\n",
      "“Groups with fewer than two data points have been dropped.”Warning message:\n",
      "“Groups with fewer than two data points have been dropped.”Warning message:\n",
      "“Groups with fewer than two data points have been dropped.”Warning message:\n",
      "“Groups with fewer than two data points have been dropped.”Warning message:\n",
      "“Groups with fewer than two data points have been dropped.”Warning message:\n",
      "“Groups with fewer than two data points have been dropped.”Warning message:\n",
      "“Groups with fewer than two data points have been dropped.”Warning message:\n",
      "“Groups with fewer than two data points have been dropped.”Warning message:\n",
      "“Groups with fewer than two data points have been dropped.”Warning message:\n",
      "“Groups with fewer than two data points have been dropped.”Warning message:\n",
      "“Groups with fewer than two data points have been dropped.”Warning message:\n",
      "“Groups with fewer than two data points have been dropped.”Warning message:\n",
      "“Groups with fewer than two data points have been dropped.”Warning message:\n",
      "“Groups with fewer than two data points have been dropped.”Warning message:\n",
      "“Groups with fewer than two data points have been dropped.”Warning message:\n",
      "“Groups with fewer than two data points have been dropped.”Warning message:\n",
      "“Groups with fewer than two data points have been dropped.”Warning message:\n",
      "“Groups with fewer than two data points have been dropped.”Warning message:\n",
      "“Groups with fewer than two data points have been dropped.”Warning message:\n",
      "“Groups with fewer than two data points have been dropped.”Warning message:\n",
      "“Groups with fewer than two data points have been dropped.”Warning message:\n",
      "“Groups with fewer than two data points have been dropped.”Warning message:\n",
      "“Groups with fewer than two data points have been dropped.”Warning message:\n",
      "“Groups with fewer than two data points have been dropped.”Warning message:\n",
      "“Groups with fewer than two data points have been dropped.”Warning message:\n",
      "“Groups with fewer than two data points have been dropped.”Warning message:\n",
      "“Groups with fewer than two data points have been dropped.”Warning message:\n",
      "“Groups with fewer than two data points have been dropped.”Warning message:\n",
      "“Groups with fewer than two data points have been dropped.”Warning message:\n",
      "“Groups with fewer than two data points have been dropped.”Warning message:\n",
      "“Groups with fewer than two data points have been dropped.”Warning message:\n",
      "“Groups with fewer than two data points have been dropped.”Warning message:\n",
      "“Groups with fewer than two data points have been dropped.”Warning message:\n",
      "“Groups with fewer than two data points have been dropped.”Warning message:\n",
      "“Groups with fewer than two data points have been dropped.”Warning message:\n",
      "“Groups with fewer than two data points have been dropped.”Warning message:\n",
      "“Groups with fewer than two data points have been dropped.”Warning message:\n",
      "“Groups with fewer than two data points have been dropped.”Warning message:\n",
      "“Groups with fewer than two data points have been dropped.”Warning message:\n",
      "“Groups with fewer than two data points have been dropped.”Warning message:\n",
      "“Groups with fewer than two data points have been dropped.”Warning message:\n",
      "“Groups with fewer than two data points have been dropped.”Warning message:\n",
      "“Groups with fewer than two data points have been dropped.”Warning message:\n",
      "“Groups with fewer than two data points have been dropped.”Warning message:\n",
      "“Groups with fewer than two data points have been dropped.”Warning message:\n",
      "“Groups with fewer than two data points have been dropped.”Warning message:\n",
      "“Groups with fewer than two data points have been dropped.”Warning message:\n",
      "“Groups with fewer than two data points have been dropped.”Warning message:\n",
      "“Groups with fewer than two data points have been dropped.”Warning message:\n",
      "“Groups with fewer than two data points have been dropped.”Warning message:\n",
      "“Groups with fewer than two data points have been dropped.”Warning message:\n",
      "“Groups with fewer than two data points have been dropped.”Warning message:\n",
      "“Groups with fewer than two data points have been dropped.”Warning message:\n",
      "“Groups with fewer than two data points have been dropped.”Warning message:\n",
      "“Groups with fewer than two data points have been dropped.”Warning message:\n",
      "“Groups with fewer than two data points have been dropped.”Warning message:\n",
      "“Groups with fewer than two data points have been dropped.”Warning message:\n",
      "“Groups with fewer than two data points have been dropped.”Warning message:\n",
      "“Groups with fewer than two data points have been dropped.”Warning message:\n",
      "“Groups with fewer than two data points have been dropped.”Warning message:\n",
      "“Groups with fewer than two data points have been dropped.”Warning message:\n",
      "“Groups with fewer than two data points have been dropped.”Warning message:\n",
      "“Groups with fewer than two data points have been dropped.”Warning message:\n",
      "“Groups with fewer than two data points have been dropped.”Warning message:\n",
      "“Groups with fewer than two data points have been dropped.”Warning message:\n",
      "“Groups with fewer than two data points have been dropped.”Warning message:\n",
      "“Groups with fewer than two data points have been dropped.”Warning message:\n",
      "“Groups with fewer than two data points have been dropped.”Warning message:\n",
      "“Groups with fewer than two data points have been dropped.”Warning message:\n",
      "“Groups with fewer than two data points have been dropped.”Warning message:\n",
      "“Groups with fewer than two data points have been dropped.”Warning message:\n",
      "“Groups with fewer than two data points have been dropped.”Warning message:\n",
      "“Groups with fewer than two data points have been dropped.”Warning message:\n",
      "“Groups with fewer than two data points have been dropped.”Warning message:\n",
      "“Groups with fewer than two data points have been dropped.”Warning message:\n",
      "“Groups with fewer than two data points have been dropped.”Warning message:\n",
      "“Groups with fewer than two data points have been dropped.”Warning message:\n",
      "“Groups with fewer than two data points have been dropped.”Warning message:\n",
      "“Groups with fewer than two data points have been dropped.”Warning message:\n",
      "“Groups with fewer than two data points have been dropped.”Warning message:\n",
      "“Groups with fewer than two data points have been dropped.”Warning message:\n",
      "“Groups with fewer than two data points have been dropped.”Warning message:\n",
      "“Groups with fewer than two data points have been dropped.”Warning message:\n",
      "“Groups with fewer than two data points have been dropped.”Warning message:\n",
      "“Groups with fewer than two data points have been dropped.”Warning message:\n",
      "“Groups with fewer than two data points have been dropped.”Warning message:\n",
      "“Groups with fewer than two data points have been dropped.”Warning message:\n",
      "“Groups with fewer than two data points have been dropped.”Warning message:\n",
      "“Groups with fewer than two data points have been dropped.”Warning message:\n",
      "“Groups with fewer than two data points have been dropped.”Warning message:\n",
      "“Groups with fewer than two data points have been dropped.”Warning message:\n"
     ]
    },
    {
     "name": "stderr",
     "output_type": "stream",
     "text": [
      "“Groups with fewer than two data points have been dropped.”Warning message:\n",
      "“Groups with fewer than two data points have been dropped.”Warning message:\n",
      "“Groups with fewer than two data points have been dropped.”Warning message:\n",
      "“Groups with fewer than two data points have been dropped.”Warning message:\n",
      "“Groups with fewer than two data points have been dropped.”Warning message:\n",
      "“Groups with fewer than two data points have been dropped.”Warning message:\n",
      "“Groups with fewer than two data points have been dropped.”Warning message:\n",
      "“Groups with fewer than two data points have been dropped.”Warning message:\n",
      "“Groups with fewer than two data points have been dropped.”Warning message:\n",
      "“Groups with fewer than two data points have been dropped.”Warning message:\n",
      "“Groups with fewer than two data points have been dropped.”Warning message:\n",
      "“Groups with fewer than two data points have been dropped.”Warning message:\n",
      "“Groups with fewer than two data points have been dropped.”Warning message:\n",
      "“Groups with fewer than two data points have been dropped.”Warning message:\n",
      "“Groups with fewer than two data points have been dropped.”Warning message:\n",
      "“Groups with fewer than two data points have been dropped.”Warning message:\n",
      "“Groups with fewer than two data points have been dropped.”Warning message:\n",
      "“Groups with fewer than two data points have been dropped.”Warning message:\n",
      "“Groups with fewer than two data points have been dropped.”Warning message:\n",
      "“Groups with fewer than two data points have been dropped.”Warning message:\n",
      "“Groups with fewer than two data points have been dropped.”Warning message:\n",
      "“Groups with fewer than two data points have been dropped.”Warning message:\n",
      "“Groups with fewer than two data points have been dropped.”Warning message:\n",
      "“Groups with fewer than two data points have been dropped.”Warning message:\n",
      "“Groups with fewer than two data points have been dropped.”Warning message:\n",
      "“Groups with fewer than two data points have been dropped.”Warning message:\n",
      "“Groups with fewer than two data points have been dropped.”Warning message:\n",
      "“Groups with fewer than two data points have been dropped.”Warning message:\n",
      "“Groups with fewer than two data points have been dropped.”Warning message:\n",
      "“Groups with fewer than two data points have been dropped.”Warning message:\n",
      "“Groups with fewer than two data points have been dropped.”Warning message:\n",
      "“Groups with fewer than two data points have been dropped.”Warning message:\n",
      "“Groups with fewer than two data points have been dropped.”Warning message:\n",
      "“Groups with fewer than two data points have been dropped.”Warning message:\n",
      "“Groups with fewer than two data points have been dropped.”Warning message:\n",
      "“Groups with fewer than two data points have been dropped.”Warning message:\n",
      "“Groups with fewer than two data points have been dropped.”Warning message:\n",
      "“Groups with fewer than two data points have been dropped.”Warning message:\n",
      "“Groups with fewer than two data points have been dropped.”Warning message:\n",
      "“Groups with fewer than two data points have been dropped.”Warning message:\n",
      "“Groups with fewer than two data points have been dropped.”Warning message:\n",
      "“Groups with fewer than two data points have been dropped.”Warning message:\n",
      "“Groups with fewer than two data points have been dropped.”Warning message:\n",
      "“Groups with fewer than two data points have been dropped.”Warning message:\n",
      "“Groups with fewer than two data points have been dropped.”Warning message:\n",
      "“Groups with fewer than two data points have been dropped.”Warning message:\n",
      "“Groups with fewer than two data points have been dropped.”Warning message:\n",
      "“Groups with fewer than two data points have been dropped.”Warning message:\n",
      "“Groups with fewer than two data points have been dropped.”Warning message:\n",
      "“Groups with fewer than two data points have been dropped.”Warning message:\n",
      "“Groups with fewer than two data points have been dropped.”Warning message:\n",
      "“Groups with fewer than two data points have been dropped.”Warning message:\n",
      "“Groups with fewer than two data points have been dropped.”Warning message:\n",
      "“Groups with fewer than two data points have been dropped.”Warning message:\n",
      "“Groups with fewer than two data points have been dropped.”Warning message:\n",
      "“Groups with fewer than two data points have been dropped.”Warning message:\n",
      "“Groups with fewer than two data points have been dropped.”Warning message:\n",
      "“Groups with fewer than two data points have been dropped.”Warning message:\n",
      "“Groups with fewer than two data points have been dropped.”Warning message:\n",
      "“Groups with fewer than two data points have been dropped.”Warning message:\n",
      "“Groups with fewer than two data points have been dropped.”Warning message:\n",
      "“Groups with fewer than two data points have been dropped.”Warning message:\n",
      "“Groups with fewer than two data points have been dropped.”Warning message:\n",
      "“Groups with fewer than two data points have been dropped.”Warning message:\n",
      "“Groups with fewer than two data points have been dropped.”Warning message:\n",
      "“Groups with fewer than two data points have been dropped.”Warning message:\n",
      "“Groups with fewer than two data points have been dropped.”Warning message:\n",
      "“Groups with fewer than two data points have been dropped.”Warning message:\n",
      "“Groups with fewer than two data points have been dropped.”Warning message:\n",
      "“Groups with fewer than two data points have been dropped.”Warning message:\n",
      "“Groups with fewer than two data points have been dropped.”Warning message:\n",
      "“Groups with fewer than two data points have been dropped.”Warning message:\n",
      "“Groups with fewer than two data points have been dropped.”Warning message:\n",
      "“Groups with fewer than two data points have been dropped.”Warning message:\n",
      "“Groups with fewer than two data points have been dropped.”Warning message:\n",
      "“Groups with fewer than two data points have been dropped.”Warning message:\n",
      "“Groups with fewer than two data points have been dropped.”Warning message:\n",
      "“Groups with fewer than two data points have been dropped.”Warning message:\n",
      "“Groups with fewer than two data points have been dropped.”Warning message:\n",
      "“Groups with fewer than two data points have been dropped.”Warning message:\n",
      "“Groups with fewer than two data points have been dropped.”Warning message:\n",
      "“Groups with fewer than two data points have been dropped.”Warning message:\n",
      "“Groups with fewer than two data points have been dropped.”Warning message:\n",
      "“Groups with fewer than two data points have been dropped.”Warning message:\n",
      "“Groups with fewer than two data points have been dropped.”Warning message:\n",
      "“Groups with fewer than two data points have been dropped.”Warning message:\n",
      "“Groups with fewer than two data points have been dropped.”Warning message:\n",
      "“Groups with fewer than two data points have been dropped.”Warning message:\n",
      "“Groups with fewer than two data points have been dropped.”Warning message:\n",
      "“Groups with fewer than two data points have been dropped.”Warning message:\n",
      "“Groups with fewer than two data points have been dropped.”Warning message:\n",
      "“Groups with fewer than two data points have been dropped.”Warning message:\n",
      "“Groups with fewer than two data points have been dropped.”Warning message:\n",
      "“Groups with fewer than two data points have been dropped.”Warning message:\n",
      "“Groups with fewer than two data points have been dropped.”Warning message:\n",
      "“Groups with fewer than two data points have been dropped.”Warning message:\n",
      "“Groups with fewer than two data points have been dropped.”Warning message:\n",
      "“Groups with fewer than two data points have been dropped.”Warning message:\n",
      "“Groups with fewer than two data points have been dropped.”Warning message:\n",
      "“Groups with fewer than two data points have been dropped.”Warning message:\n",
      "“Groups with fewer than two data points have been dropped.”Warning message:\n",
      "“Groups with fewer than two data points have been dropped.”Warning message:\n",
      "“Groups with fewer than two data points have been dropped.”Warning message:\n",
      "“Groups with fewer than two data points have been dropped.”Warning message:\n",
      "“Groups with fewer than two data points have been dropped.”Warning message:\n",
      "“Groups with fewer than two data points have been dropped.”Warning message:\n",
      "“Groups with fewer than two data points have been dropped.”Warning message:\n",
      "“Groups with fewer than two data points have been dropped.”Warning message:\n"
     ]
    },
    {
     "name": "stderr",
     "output_type": "stream",
     "text": [
      "“Groups with fewer than two data points have been dropped.”Warning message:\n",
      "“Groups with fewer than two data points have been dropped.”Warning message:\n",
      "“Groups with fewer than two data points have been dropped.”Warning message:\n",
      "“Groups with fewer than two data points have been dropped.”Warning message:\n",
      "“Groups with fewer than two data points have been dropped.”Warning message:\n",
      "“Groups with fewer than two data points have been dropped.”Warning message:\n",
      "“Groups with fewer than two data points have been dropped.”Warning message:\n",
      "“Groups with fewer than two data points have been dropped.”Warning message:\n",
      "“Groups with fewer than two data points have been dropped.”Warning message:\n",
      "“Groups with fewer than two data points have been dropped.”Warning message:\n",
      "“Groups with fewer than two data points have been dropped.”Warning message:\n",
      "“Groups with fewer than two data points have been dropped.”Warning message:\n",
      "“Groups with fewer than two data points have been dropped.”Warning message:\n",
      "“Groups with fewer than two data points have been dropped.”Warning message:\n",
      "“Groups with fewer than two data points have been dropped.”Warning message:\n",
      "“Groups with fewer than two data points have been dropped.”Warning message:\n",
      "“Groups with fewer than two data points have been dropped.”Warning message:\n",
      "“Groups with fewer than two data points have been dropped.”Warning message:\n",
      "“Groups with fewer than two data points have been dropped.”Warning message:\n",
      "“Groups with fewer than two data points have been dropped.”Warning message:\n",
      "“Groups with fewer than two data points have been dropped.”Warning message:\n",
      "“Groups with fewer than two data points have been dropped.”Warning message:\n",
      "“Groups with fewer than two data points have been dropped.”Warning message:\n",
      "“Groups with fewer than two data points have been dropped.”Warning message:\n",
      "“Groups with fewer than two data points have been dropped.”Warning message:\n",
      "“Groups with fewer than two data points have been dropped.”Warning message:\n",
      "“Groups with fewer than two data points have been dropped.”Warning message:\n",
      "“Groups with fewer than two data points have been dropped.”Warning message:\n",
      "“Groups with fewer than two data points have been dropped.”Warning message:\n",
      "“Groups with fewer than two data points have been dropped.”Warning message:\n",
      "“Groups with fewer than two data points have been dropped.”Warning message:\n",
      "“Groups with fewer than two data points have been dropped.”Warning message:\n",
      "“Groups with fewer than two data points have been dropped.”Warning message:\n",
      "“Groups with fewer than two data points have been dropped.”Warning message:\n",
      "“Groups with fewer than two data points have been dropped.”Warning message:\n",
      "“Groups with fewer than two data points have been dropped.”Warning message:\n",
      "“Groups with fewer than two data points have been dropped.”Warning message:\n",
      "“Groups with fewer than two data points have been dropped.”Warning message:\n",
      "“Groups with fewer than two data points have been dropped.”Warning message:\n",
      "“Groups with fewer than two data points have been dropped.”Warning message:\n",
      "“Groups with fewer than two data points have been dropped.”Warning message:\n",
      "“Groups with fewer than two data points have been dropped.”Warning message:\n",
      "“Groups with fewer than two data points have been dropped.”Warning message:\n",
      "“Groups with fewer than two data points have been dropped.”Warning message:\n",
      "“Groups with fewer than two data points have been dropped.”Warning message:\n",
      "“Groups with fewer than two data points have been dropped.”Warning message:\n",
      "“Groups with fewer than two data points have been dropped.”Warning message:\n",
      "“Groups with fewer than two data points have been dropped.”Warning message:\n",
      "“Groups with fewer than two data points have been dropped.”Warning message:\n",
      "“Groups with fewer than two data points have been dropped.”Warning message:\n",
      "“Groups with fewer than two data points have been dropped.”Warning message:\n",
      "“Groups with fewer than two data points have been dropped.”Warning message:\n",
      "“Groups with fewer than two data points have been dropped.”Warning message:\n",
      "“Groups with fewer than two data points have been dropped.”Warning message:\n",
      "“Groups with fewer than two data points have been dropped.”Warning message:\n",
      "“Groups with fewer than two data points have been dropped.”Warning message:\n",
      "“Groups with fewer than two data points have been dropped.”Warning message:\n",
      "“Groups with fewer than two data points have been dropped.”Warning message:\n",
      "“Groups with fewer than two data points have been dropped.”Warning message:\n",
      "“Groups with fewer than two data points have been dropped.”Warning message:\n",
      "“Groups with fewer than two data points have been dropped.”Warning message:\n",
      "“Groups with fewer than two data points have been dropped.”Warning message:\n",
      "“Groups with fewer than two data points have been dropped.”Warning message:\n",
      "“Groups with fewer than two data points have been dropped.”Warning message:\n",
      "“Groups with fewer than two data points have been dropped.”Warning message:\n",
      "“Groups with fewer than two data points have been dropped.”Warning message:\n",
      "“Groups with fewer than two data points have been dropped.”Warning message:\n",
      "“Groups with fewer than two data points have been dropped.”Warning message:\n",
      "“Groups with fewer than two data points have been dropped.”Warning message:\n",
      "“Groups with fewer than two data points have been dropped.”Warning message:\n",
      "“Groups with fewer than two data points have been dropped.”Warning message:\n",
      "“Groups with fewer than two data points have been dropped.”Warning message:\n",
      "“Groups with fewer than two data points have been dropped.”Warning message:\n",
      "“Groups with fewer than two data points have been dropped.”Warning message:\n",
      "“Groups with fewer than two data points have been dropped.”Warning message:\n",
      "“Groups with fewer than two data points have been dropped.”Warning message:\n",
      "“Groups with fewer than two data points have been dropped.”Warning message:\n",
      "“Groups with fewer than two data points have been dropped.”Warning message:\n",
      "“Groups with fewer than two data points have been dropped.”Warning message:\n",
      "“Groups with fewer than two data points have been dropped.”ERROR while rich displaying an object: Error in unit(x, default.units): 'x' and 'units' must have length > 0\n",
      "\n",
      "Traceback:\n",
      "1. FUN(X[[i]], ...)\n",
      "2. tryCatch(withCallingHandlers({\n",
      " .     if (!mime %in% names(repr::mime2repr)) \n",
      " .         stop(\"No repr_* for mimetype \", mime, \" in repr::mime2repr\")\n",
      " .     rpr <- repr::mime2repr[[mime]](obj)\n",
      " .     if (is.null(rpr)) \n",
      " .         return(NULL)\n",
      " .     prepare_content(is.raw(rpr), rpr)\n",
      " . }, error = error_handler), error = outer_handler)\n",
      "3. tryCatchList(expr, classes, parentenv, handlers)\n",
      "4. tryCatchOne(expr, names, parentenv, handlers[[1L]])\n",
      "5. doTryCatch(return(expr), name, parentenv, handler)\n",
      "6. withCallingHandlers({\n",
      " .     if (!mime %in% names(repr::mime2repr)) \n",
      " .         stop(\"No repr_* for mimetype \", mime, \" in repr::mime2repr\")\n",
      " .     rpr <- repr::mime2repr[[mime]](obj)\n",
      " .     if (is.null(rpr)) \n",
      " .         return(NULL)\n",
      " .     prepare_content(is.raw(rpr), rpr)\n",
      " . }, error = error_handler)\n",
      "7. repr::mime2repr[[mime]](obj)\n",
      "8. repr_text.default(obj)\n",
      "9. paste(capture.output(print(obj)), collapse = \"\\n\")\n",
      "10. capture.output(print(obj))\n",
      "11. evalVis(expr)\n",
      "12. withVisible(eval(expr, pf))\n",
      "13. eval(expr, pf)\n",
      "14. eval(expr, pf)\n",
      "15. print(obj)\n",
      "16. print.ggplot(obj)\n",
      "17. ggplot_gtable(data)\n",
      "18. ggplot_gtable.ggplot_built(data)\n",
      "19. Map(function(l, d) l$draw_geom(d, layout), plot$layers, data)\n",
      "20. mapply(FUN = f, ..., SIMPLIFY = FALSE)\n",
      "21. (function (l, d) \n",
      "  . l$draw_geom(d, layout))(dots[[1L]][[1L]], dots[[2L]][[1L]])\n",
      "22. l$draw_geom(d, layout)\n",
      "23. f(..., self = self)\n",
      "24. self$geom$draw_layer(data, self$geom_params, layout, layout$coord)\n",
      "25. f(..., self = self)\n",
      "26. plyr::dlply(data, \"PANEL\", function(data) {\n",
      "  .     if (empty(data)) \n",
      "  .         return(zeroGrob())\n",
      "  .     panel_params <- layout$panel_params[[data$PANEL[1]]]\n",
      "  .     do.call(self$draw_panel, args)\n",
      "  . }, .drop = FALSE)\n",
      "27. llply(.data = pieces, .fun = .fun, ..., .progress = .progress, \n",
      "  .     .inform = .inform, .parallel = .parallel, .paropts = .paropts)\n",
      "28. loop_apply(n, do.ply)\n",
      "29. (function (i) \n",
      "  . {\n",
      "  .     piece <- pieces[[i]]\n",
      "  .     if (.inform) {\n",
      "  .         res <- try(.fun(piece, ...))\n",
      "  .         if (inherits(res, \"try-error\")) {\n",
      "  .             piece <- paste(utils::capture.output(print(piece)), \n",
      "  .                 collapse = \"\\n\")\n",
      "  .             stop(\"with piece \", i, \": \\n\", piece, call. = FALSE)\n",
      "  .         }\n",
      "  .     }\n",
      "  .     else {\n",
      "  .         res <- .fun(piece, ...)\n",
      "  .     }\n",
      "  .     progress$step()\n",
      "  .     res\n",
      "  . })(1L)\n",
      "30. .fun(piece, ...)\n",
      "31. do.call(self$draw_panel, args)\n",
      "32. (structure(function (...) \n",
      "  . f(..., self = self), class = \"ggproto_method\"))(data, panel_params, \n",
      "  .     coord, na.rm = TRUE)\n",
      "33. f(..., self = self)\n",
      "34. lapply(groups, function(group) {\n",
      "  .     self$draw_group(group, panel_params, coord, ...)\n",
      "  . })\n",
      "35. FUN(X[[i]], ...)\n",
      "36. self$draw_group(group, panel_params, coord, ...)\n",
      "37. f(...)\n",
      "38. ggname(\"geom_ribbon\", polygonGrob(munched$x, munched$y, id = munched$id, \n",
      "  .     default.units = \"native\", gp = gpar(fill = alpha(aes$fill, \n",
      "  .         aes$alpha), col = aes$colour, lwd = aes$size * .pt, lty = aes$linetype)))\n",
      "39. grobName(grob, prefix)\n",
      "40. polygonGrob(munched$x, munched$y, id = munched$id, default.units = \"native\", \n",
      "  .     gp = gpar(fill = alpha(aes$fill, aes$alpha), col = aes$colour, \n",
      "  .         lwd = aes$size * .pt, lty = aes$linetype))\n",
      "41. unit(x, default.units)\n",
      "42. stop(\"'x' and 'units' must have length > 0\")\n"
     ]
    },
    {
     "data": {},
     "metadata": {},
     "output_type": "display_data"
    },
    {
     "data": {
      "image/png": "[encoded data removed]",
      "text/plain": [
       "plot without title"
      ]
     },
     "metadata": {},
     "output_type": "display_data"
    }
   ],
   "source": []
  },
  {
   "cell_type": "markdown",
   "metadata": {},
   "source": [
    "Suponiendo que la tendencia se mantiene, es decir, que no se aplica ninguna política a nivel global de reducción de emisiones de CO2, ¿cual sería el total de emisiones de CO2 en todo el mundo en el año 2020?\n",
    "\n",
    "Para calcularlo utiliza tres modelos lineales:\n",
    "* Regresión lineal con polinomio grado 1\n",
    "* Regresión lineal polinomio grado 3\n",
    "* Regresión lineal polinomio grado 10\n",
    "\n",
    "Represénta en una gráfica el valor real y el calculado por cada uno de los 3 modelos."
   ]
  },
  {
   "cell_type": "code",
   "execution_count": null,
   "metadata": {},
   "outputs": [],
   "source": []
  },
  {
   "cell_type": "markdown",
   "metadata": {},
   "source": [
    "## Nivel de CO2\n",
    "\n",
    "En esta parte vamos a trabajar con el nivel medio de CO2 medido por el NOAA en Manuna Loa (Hawai) desde 1968."
   ]
  },
  {
   "cell_type": "code",
   "execution_count": 13,
   "metadata": {
    "scrolled": true
   },
   "outputs": [],
   "source": [
    "co2ppm<-read.csv(\"./datos/co2_mm_mlo.txt\",skip=73,sep=\"\",header = F, \n",
    "                 col.names= c(\"year\",\"month\",\"date\",\"average\",\"interpolated\",\"trend\",\"days\"))"
   ]
  },
  {
   "cell_type": "markdown",
   "metadata": {},
   "source": [
    "Representa el diagrama de dispersión entre:\n",
    "* CO2 medido en la atmósfera (co2ppm\\$interpolated)\n",
    "* CO2 emitido por todos los países (databank con Indicator.Code==\"EN.ATM.CO2E.KT\" y Country.Code==\"WLD\"?\n",
    "\n",
    "¿Cual es su correlación?\n",
    "\n",
    "\n",
    "Nota: \n",
    "\n",
    "* Los valores en co2ppm vienen en meses, habrá que agregarlos, calcular la media anual a partir de los meses para así poder hacer la correlación con databank.\n",
    "* Los valores en databank vienen en columnas, habrá que pasarlos a filas utilizando la función *melt*."
   ]
  },
  {
   "cell_type": "code",
   "execution_count": 14,
   "metadata": {},
   "outputs": [],
   "source": [
    "# Agregamos y calculamos el nivel de CO2 medio anual\n",
    "yearlyco2ppm<-aggregate(interpolated ~ year, data = co2ppm, mean)\n"
   ]
  },
  {
   "cell_type": "markdown",
   "metadata": {},
   "source": [
    "Calcular la matriz de correlación de las siguientes variables:\n",
    "* Cantidad de CO2 en la atmósfera\n",
    "* Emisiones totales CO2 en la atmósfera\n",
    "* Temperatura mínima en praga (columna EMNT)."
   ]
  },
  {
   "cell_type": "code",
   "execution_count": null,
   "metadata": {},
   "outputs": [],
   "source": []
  }
 ],
 "metadata": {
  "kernelspec": {
   "display_name": "R",
   "language": "R",
   "name": "ir"
  },
  "language_info": {
   "codemirror_mode": "r",
   "file_extension": ".r",
   "mimetype": "text/x-r-source",
   "name": "R",
   "pygments_lexer": "r",
   "version": "3.4.3"
  }
 },
 "nbformat": 4,
 "nbformat_minor": 1
}
